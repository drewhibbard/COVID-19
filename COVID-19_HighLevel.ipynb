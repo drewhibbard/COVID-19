{
 "cells": [
  {
   "cell_type": "markdown",
   "metadata": {},
   "source": [
    "# COVID-19 High-Level Statistics"
   ]
  },
  {
   "cell_type": "code",
   "execution_count": 1,
   "metadata": {},
   "outputs": [],
   "source": [
    "import pandas as pd\n",
    "import numpy as np\n",
    "import matplotlib.pyplot as plt\n",
    "import seaborn as sns\n",
    "%matplotlib inline"
   ]
  },
  {
   "cell_type": "code",
   "execution_count": 2,
   "metadata": {},
   "outputs": [
    {
     "data": {
      "text/html": [
       "        <script type=\"text/javascript\">\n",
       "        window.PlotlyConfig = {MathJaxConfig: 'local'};\n",
       "        if (window.MathJax) {MathJax.Hub.Config({SVG: {font: \"STIX-Web\"}});}\n",
       "        if (typeof require !== 'undefined') {\n",
       "        require.undef(\"plotly\");\n",
       "        requirejs.config({\n",
       "            paths: {\n",
       "                'plotly': ['https://cdn.plot.ly/plotly-latest.min']\n",
       "            }\n",
       "        });\n",
       "        require(['plotly'], function(Plotly) {\n",
       "            window._Plotly = Plotly;\n",
       "        });\n",
       "        }\n",
       "        </script>\n",
       "        "
      ]
     },
     "metadata": {},
     "output_type": "display_data"
    }
   ],
   "source": [
    "import plotly as py\n",
    "import plotly.express as px\n",
    "import plotly.graph_objs as go\n",
    "from plotly.offline import init_notebook_mode, iplot, plot, download_plotlyjs\n",
    "init_notebook_mode(connected=True)"
   ]
  },
  {
   "cell_type": "code",
   "execution_count": 3,
   "metadata": {},
   "outputs": [
    {
     "data": {
      "text/html": [
       "<div>\n",
       "<style scoped>\n",
       "    .dataframe tbody tr th:only-of-type {\n",
       "        vertical-align: middle;\n",
       "    }\n",
       "\n",
       "    .dataframe tbody tr th {\n",
       "        vertical-align: top;\n",
       "    }\n",
       "\n",
       "    .dataframe thead th {\n",
       "        text-align: right;\n",
       "    }\n",
       "</style>\n",
       "<table border=\"1\" class=\"dataframe\">\n",
       "  <thead>\n",
       "    <tr style=\"text-align: right;\">\n",
       "      <th></th>\n",
       "      <th>Country</th>\n",
       "      <th>Cases</th>\n",
       "      <th>Cases.1</th>\n",
       "      <th>Deaths</th>\n",
       "      <th>Deaths.1</th>\n",
       "      <th>Recovered</th>\n",
       "      <th>Cases.2</th>\n",
       "      <th>Critical</th>\n",
       "      <th>1M pop</th>\n",
       "      <th>1M pop.1</th>\n",
       "      <th>Tests</th>\n",
       "      <th>1M pop.2</th>\n",
       "      <th>pop</th>\n",
       "    </tr>\n",
       "  </thead>\n",
       "  <tbody>\n",
       "    <tr>\n",
       "      <th>0</th>\n",
       "      <td>USA</td>\n",
       "      <td>2806513</td>\n",
       "      <td>26560.0</td>\n",
       "      <td>131136.0</td>\n",
       "      <td>338.0</td>\n",
       "      <td>1177068.0</td>\n",
       "      <td>1498309.0</td>\n",
       "      <td>15898.0</td>\n",
       "      <td>8479.0</td>\n",
       "      <td>396.0</td>\n",
       "      <td>35160233.0</td>\n",
       "      <td>106222.0</td>\n",
       "      <td>3.310076e+08</td>\n",
       "    </tr>\n",
       "    <tr>\n",
       "      <th>1</th>\n",
       "      <td>Brazil</td>\n",
       "      <td>1476884</td>\n",
       "      <td>23515.0</td>\n",
       "      <td>61314.0</td>\n",
       "      <td>601.0</td>\n",
       "      <td>916147.0</td>\n",
       "      <td>499423.0</td>\n",
       "      <td>8318.0</td>\n",
       "      <td>6948.0</td>\n",
       "      <td>288.0</td>\n",
       "      <td>3227591.0</td>\n",
       "      <td>15184.0</td>\n",
       "      <td>2.125623e+08</td>\n",
       "    </tr>\n",
       "    <tr>\n",
       "      <th>2</th>\n",
       "      <td>Russia</td>\n",
       "      <td>661165</td>\n",
       "      <td>6760.0</td>\n",
       "      <td>9683.0</td>\n",
       "      <td>147.0</td>\n",
       "      <td>428978.0</td>\n",
       "      <td>222504.0</td>\n",
       "      <td>2300.0</td>\n",
       "      <td>4531.0</td>\n",
       "      <td>66.0</td>\n",
       "      <td>20168904.0</td>\n",
       "      <td>138205.0</td>\n",
       "      <td>1.459348e+08</td>\n",
       "    </tr>\n",
       "    <tr>\n",
       "      <th>3</th>\n",
       "      <td>India</td>\n",
       "      <td>626591</td>\n",
       "      <td>21371.0</td>\n",
       "      <td>18226.0</td>\n",
       "      <td>378.0</td>\n",
       "      <td>379786.0</td>\n",
       "      <td>228579.0</td>\n",
       "      <td>8944.0</td>\n",
       "      <td>454.0</td>\n",
       "      <td>13.0</td>\n",
       "      <td>9056173.0</td>\n",
       "      <td>6562.0</td>\n",
       "      <td>1.380012e+09</td>\n",
       "    </tr>\n",
       "    <tr>\n",
       "      <th>4</th>\n",
       "      <td>UK</td>\n",
       "      <td>313483</td>\n",
       "      <td>NaN</td>\n",
       "      <td>43906.0</td>\n",
       "      <td>NaN</td>\n",
       "      <td>NaN</td>\n",
       "      <td>NaN</td>\n",
       "      <td>279.0</td>\n",
       "      <td>4618.0</td>\n",
       "      <td>647.0</td>\n",
       "      <td>9662051.0</td>\n",
       "      <td>142325.0</td>\n",
       "      <td>6.788702e+07</td>\n",
       "    </tr>\n",
       "  </tbody>\n",
       "</table>\n",
       "</div>"
      ],
      "text/plain": [
       "  Country    Cases  Cases.1    Deaths  Deaths.1  Recovered    Cases.2  \\\n",
       "0     USA  2806513  26560.0  131136.0     338.0  1177068.0  1498309.0   \n",
       "1  Brazil  1476884  23515.0   61314.0     601.0   916147.0   499423.0   \n",
       "2  Russia   661165   6760.0    9683.0     147.0   428978.0   222504.0   \n",
       "3   India   626591  21371.0   18226.0     378.0   379786.0   228579.0   \n",
       "4      UK   313483      NaN   43906.0       NaN        NaN        NaN   \n",
       "\n",
       "   Critical  1M pop  1M pop.1       Tests  1M pop.2           pop  \n",
       "0   15898.0  8479.0     396.0  35160233.0  106222.0  3.310076e+08  \n",
       "1    8318.0  6948.0     288.0   3227591.0   15184.0  2.125623e+08  \n",
       "2    2300.0  4531.0      66.0  20168904.0  138205.0  1.459348e+08  \n",
       "3    8944.0   454.0      13.0   9056173.0    6562.0  1.380012e+09  \n",
       "4     279.0  4618.0     647.0   9662051.0  142325.0  6.788702e+07  "
      ]
     },
     "execution_count": 3,
     "metadata": {},
     "output_type": "execute_result"
    }
   ],
   "source": [
    "covid = pd.read_csv('worldometer.csv',encoding='ISO-8859-1')\n",
    "covid.head()"
   ]
  },
  {
   "cell_type": "code",
   "execution_count": 4,
   "metadata": {},
   "outputs": [],
   "source": [
    "covid.columns = ['country','total_cases','cases_today','total_deaths',\n",
    "                'deaths_today','total_recovered','active cases','critical_cases',\n",
    "                'cases_per_mil','deaths_per_mil','total_tests','tests_per_mil',\n",
    "                'pop']"
   ]
  },
  {
   "cell_type": "code",
   "execution_count": 5,
   "metadata": {},
   "outputs": [
    {
     "name": "stdout",
     "output_type": "stream",
     "text": [
      "<class 'pandas.core.frame.DataFrame'>\n",
      "RangeIndex: 215 entries, 0 to 214\n",
      "Data columns (total 13 columns):\n",
      " #   Column           Non-Null Count  Dtype  \n",
      "---  ------           --------------  -----  \n",
      " 0   country          215 non-null    object \n",
      " 1   total_cases      215 non-null    int64  \n",
      " 2   cases_today      112 non-null    float64\n",
      " 3   total_deaths     185 non-null    float64\n",
      " 4   deaths_today     61 non-null     float64\n",
      " 5   total_recovered  210 non-null    float64\n",
      " 6   active cases     211 non-null    float64\n",
      " 7   critical_cases   130 non-null    float64\n",
      " 8   cases_per_mil    213 non-null    float64\n",
      " 9   deaths_per_mil   183 non-null    float64\n",
      " 10  total_tests      192 non-null    float64\n",
      " 11  tests_per_mil    192 non-null    float64\n",
      " 12  pop              213 non-null    float64\n",
      "dtypes: float64(11), int64(1), object(1)\n",
      "memory usage: 22.0+ KB\n"
     ]
    }
   ],
   "source": [
    "covid.info()"
   ]
  },
  {
   "cell_type": "code",
   "execution_count": 6,
   "metadata": {},
   "outputs": [
    {
     "data": {
      "text/html": [
       "<div>\n",
       "<style scoped>\n",
       "    .dataframe tbody tr th:only-of-type {\n",
       "        vertical-align: middle;\n",
       "    }\n",
       "\n",
       "    .dataframe tbody tr th {\n",
       "        vertical-align: top;\n",
       "    }\n",
       "\n",
       "    .dataframe thead th {\n",
       "        text-align: right;\n",
       "    }\n",
       "</style>\n",
       "<table border=\"1\" class=\"dataframe\">\n",
       "  <thead>\n",
       "    <tr style=\"text-align: right;\">\n",
       "      <th></th>\n",
       "      <th>country</th>\n",
       "      <th>total_cases</th>\n",
       "    </tr>\n",
       "  </thead>\n",
       "  <tbody>\n",
       "    <tr>\n",
       "      <th>0</th>\n",
       "      <td>USA</td>\n",
       "      <td>2806513</td>\n",
       "    </tr>\n",
       "    <tr>\n",
       "      <th>1</th>\n",
       "      <td>Brazil</td>\n",
       "      <td>1476884</td>\n",
       "    </tr>\n",
       "    <tr>\n",
       "      <th>2</th>\n",
       "      <td>Russia</td>\n",
       "      <td>661165</td>\n",
       "    </tr>\n",
       "    <tr>\n",
       "      <th>3</th>\n",
       "      <td>India</td>\n",
       "      <td>626591</td>\n",
       "    </tr>\n",
       "    <tr>\n",
       "      <th>4</th>\n",
       "      <td>UK</td>\n",
       "      <td>313483</td>\n",
       "    </tr>\n",
       "    <tr>\n",
       "      <th>5</th>\n",
       "      <td>Spain</td>\n",
       "      <td>297183</td>\n",
       "    </tr>\n",
       "    <tr>\n",
       "      <th>6</th>\n",
       "      <td>Peru</td>\n",
       "      <td>288477</td>\n",
       "    </tr>\n",
       "    <tr>\n",
       "      <th>7</th>\n",
       "      <td>Chile</td>\n",
       "      <td>284541</td>\n",
       "    </tr>\n",
       "    <tr>\n",
       "      <th>8</th>\n",
       "      <td>Italy</td>\n",
       "      <td>240961</td>\n",
       "    </tr>\n",
       "    <tr>\n",
       "      <th>9</th>\n",
       "      <td>Iran</td>\n",
       "      <td>232863</td>\n",
       "    </tr>\n",
       "    <tr>\n",
       "      <th>10</th>\n",
       "      <td>Mexico</td>\n",
       "      <td>231770</td>\n",
       "    </tr>\n",
       "    <tr>\n",
       "      <th>11</th>\n",
       "      <td>Pakistan</td>\n",
       "      <td>217809</td>\n",
       "    </tr>\n",
       "    <tr>\n",
       "      <th>12</th>\n",
       "      <td>Turkey</td>\n",
       "      <td>202284</td>\n",
       "    </tr>\n",
       "    <tr>\n",
       "      <th>13</th>\n",
       "      <td>Saudi Arabia</td>\n",
       "      <td>197608</td>\n",
       "    </tr>\n",
       "    <tr>\n",
       "      <th>14</th>\n",
       "      <td>Germany</td>\n",
       "      <td>196594</td>\n",
       "    </tr>\n",
       "    <tr>\n",
       "      <th>15</th>\n",
       "      <td>France</td>\n",
       "      <td>166378</td>\n",
       "    </tr>\n",
       "    <tr>\n",
       "      <th>16</th>\n",
       "      <td>South Africa</td>\n",
       "      <td>159333</td>\n",
       "    </tr>\n",
       "    <tr>\n",
       "      <th>17</th>\n",
       "      <td>Bangladesh</td>\n",
       "      <td>153277</td>\n",
       "    </tr>\n",
       "    <tr>\n",
       "      <th>18</th>\n",
       "      <td>Canada</td>\n",
       "      <td>104643</td>\n",
       "    </tr>\n",
       "    <tr>\n",
       "      <th>19</th>\n",
       "      <td>Colombia</td>\n",
       "      <td>102009</td>\n",
       "    </tr>\n",
       "    <tr>\n",
       "      <th>20</th>\n",
       "      <td>Qatar</td>\n",
       "      <td>97897</td>\n",
       "    </tr>\n",
       "    <tr>\n",
       "      <th>21</th>\n",
       "      <td>China</td>\n",
       "      <td>83537</td>\n",
       "    </tr>\n",
       "    <tr>\n",
       "      <th>22</th>\n",
       "      <td>Egypt</td>\n",
       "      <td>69814</td>\n",
       "    </tr>\n",
       "    <tr>\n",
       "      <th>23</th>\n",
       "      <td>Sweden</td>\n",
       "      <td>69692</td>\n",
       "    </tr>\n",
       "    <tr>\n",
       "      <th>24</th>\n",
       "      <td>Argentina</td>\n",
       "      <td>67197</td>\n",
       "    </tr>\n",
       "  </tbody>\n",
       "</table>\n",
       "</div>"
      ],
      "text/plain": [
       "         country  total_cases\n",
       "0            USA      2806513\n",
       "1         Brazil      1476884\n",
       "2         Russia       661165\n",
       "3          India       626591\n",
       "4             UK       313483\n",
       "5          Spain       297183\n",
       "6           Peru       288477\n",
       "7          Chile       284541\n",
       "8          Italy       240961\n",
       "9           Iran       232863\n",
       "10        Mexico       231770\n",
       "11      Pakistan       217809\n",
       "12        Turkey       202284\n",
       "13  Saudi Arabia       197608\n",
       "14       Germany       196594\n",
       "15        France       166378\n",
       "16  South Africa       159333\n",
       "17    Bangladesh       153277\n",
       "18        Canada       104643\n",
       "19      Colombia       102009\n",
       "20         Qatar        97897\n",
       "21         China        83537\n",
       "22         Egypt        69814\n",
       "23        Sweden        69692\n",
       "24     Argentina        67197"
      ]
     },
     "execution_count": 6,
     "metadata": {},
     "output_type": "execute_result"
    }
   ],
   "source": [
    "# rank countries by total cases\n",
    "\n",
    "covid[['country','total_cases']].sort_values(by='total_cases',ascending=False).head(25)"
   ]
  },
  {
   "cell_type": "code",
   "execution_count": 7,
   "metadata": {},
   "outputs": [
    {
     "data": {
      "application/vnd.plotly.v1+json": {
       "config": {
        "plotlyServerURL": "https://plot.ly"
       },
       "data": [
        {
         "coloraxis": "coloraxis",
         "geo": "geo",
         "hovertemplate": "<b>%{hovertext}</b><br><br>country=%{location}<br>total_cases=%{z}<extra></extra>",
         "hovertext": [
          "USA",
          "Brazil",
          "Russia",
          "India",
          "UK",
          "Spain",
          "Peru",
          "Chile",
          "Italy",
          "Iran",
          "Mexico",
          "Pakistan",
          "Turkey",
          "Saudi Arabia",
          "Germany",
          "France",
          "South Africa",
          "Bangladesh",
          "Canada",
          "Colombia",
          "Qatar",
          "China",
          "Egypt",
          "Sweden",
          "Argentina",
          "Belarus",
          "Belgium",
          "Indonesia",
          "Ecuador",
          "Iraq",
          "Netherlands",
          "UAE",
          "Kuwait",
          "Ukraine",
          "Singapore",
          "Portugal",
          "Kazakhstan",
          "Oman",
          "Philippines",
          "Poland",
          "Panama",
          "Bolivia",
          "Dominican Republic",
          "Afghanistan",
          "Switzerland",
          "Romania",
          "Bahrain",
          "Armenia",
          "Nigeria",
          "Israel",
          "Ireland",
          "Honduras",
          "Guatemala",
          "Japan",
          "Azerbaijan",
          "Ghana",
          "Austria",
          "Moldova",
          "Serbia",
          "Algeria",
          "Nepal",
          "Morocco",
          "S. Korea",
          "Denmark",
          "Cameroon",
          "Czechia",
          "Ivory Coast",
          "Sudan",
          "Uzbekistan",
          "Norway",
          "Malaysia",
          "Australia",
          "Finland",
          "DRC",
          "Senegal",
          "El Salvador",
          "Kenya",
          "North Macedonia",
          "Kyrgyzstan",
          "Venezuela",
          "Tajikistan",
          "Haiti",
          "Ethiopia",
          "Gabon",
          "Guinea",
          "Bulgaria",
          "Bosnia and Herzegovina",
          "Djibouti",
          "Mauritania",
          "French Guiana",
          "Luxembourg",
          "Hungary",
          "CAR",
          "Costa Rica",
          "Greece",
          "Thailand",
          "Palestine",
          "Somalia",
          "Croatia",
          "Albania",
          "Mayotte",
          "Nicaragua",
          "Madagascar",
          "Maldives",
          "Cuba",
          "Mali",
          "Paraguay",
          "Sri Lanka",
          "South Sudan",
          "Equatorial Guinea",
          "Estonia",
          "Iceland",
          "Lithuania",
          "Lebanon",
          "Slovakia",
          "Guinea-Bissau",
          "Slovenia",
          "Zambia",
          "New Zealand",
          "Sierra Leone",
          "Congo",
          "Malawi",
          "Cabo Verde",
          "Hong Kong",
          "Benin",
          "Yemen",
          "Tunisia",
          "Jordan",
          "Latvia",
          "Niger",
          "Rwanda",
          "Cyprus",
          "Burkina Faso",
          "Uruguay",
          "Georgia",
          "Mozambique",
          "Uganda",
          "Libya",
          "Eswatini",
          "Chad",
          "Andorra",
          "Liberia",
          "Sao Tome and Principe",
          "Diamond Princess",
          "Jamaica",
          "San Marino",
          "Malta",
          "Togo",
          "Montenegro",
          "Zimbabwe",
          "Channel Islands",
          "Suriname",
          "Réunion",
          "Tanzania",
          "Taiwan",
          "Vietnam",
          "Mauritius",
          "Isle of Man",
          "Syria",
          "Myanmar",
          "Comoros",
          "Namibia",
          "Angola",
          "Guyana",
          "Martinique",
          "Botswana",
          "Mongolia",
          "Eritrea",
          "Cayman Islands",
          "Faeroe Islands",
          "Guadeloupe",
          "Gibraltar",
          "Burundi",
          "Bermuda",
          "Brunei",
          "Cambodia",
          "Trinidad and Tobago",
          "Monaco",
          "Bahamas",
          "Aruba",
          "Barbados",
          "Liechtenstein",
          "Seychelles",
          "Sint Maarten",
          "Bhutan",
          "Antigua and Barbuda",
          "French Polynesia",
          "Gambia",
          "Macao",
          "Saint Martin",
          "Turks and Caicos",
          "Lesotho",
          "St. Vincent Grenadines",
          "Belize",
          "Timor-Leste",
          "Curaçao",
          "Grenada",
          "New Caledonia",
          "Laos",
          "Saint Lucia",
          "Dominica",
          "Fiji",
          "Saint Kitts and Nevis",
          "Falkland Islands",
          "Greenland",
          "Vatican City",
          "Montserrat",
          "Papua New Guinea",
          "Western Sahara",
          "MS Zaandam",
          "British Virgin Islands",
          "Caribbean Netherlands",
          "St. Barth",
          "Anguilla",
          "Saint Pierre Miquelon"
         ],
         "locationmode": "country names",
         "locations": [
          "USA",
          "Brazil",
          "Russia",
          "India",
          "UK",
          "Spain",
          "Peru",
          "Chile",
          "Italy",
          "Iran",
          "Mexico",
          "Pakistan",
          "Turkey",
          "Saudi Arabia",
          "Germany",
          "France",
          "South Africa",
          "Bangladesh",
          "Canada",
          "Colombia",
          "Qatar",
          "China",
          "Egypt",
          "Sweden",
          "Argentina",
          "Belarus",
          "Belgium",
          "Indonesia",
          "Ecuador",
          "Iraq",
          "Netherlands",
          "UAE",
          "Kuwait",
          "Ukraine",
          "Singapore",
          "Portugal",
          "Kazakhstan",
          "Oman",
          "Philippines",
          "Poland",
          "Panama",
          "Bolivia",
          "Dominican Republic",
          "Afghanistan",
          "Switzerland",
          "Romania",
          "Bahrain",
          "Armenia",
          "Nigeria",
          "Israel",
          "Ireland",
          "Honduras",
          "Guatemala",
          "Japan",
          "Azerbaijan",
          "Ghana",
          "Austria",
          "Moldova",
          "Serbia",
          "Algeria",
          "Nepal",
          "Morocco",
          "S. Korea",
          "Denmark",
          "Cameroon",
          "Czechia",
          "Ivory Coast",
          "Sudan",
          "Uzbekistan",
          "Norway",
          "Malaysia",
          "Australia",
          "Finland",
          "DRC",
          "Senegal",
          "El Salvador",
          "Kenya",
          "North Macedonia",
          "Kyrgyzstan",
          "Venezuela",
          "Tajikistan",
          "Haiti",
          "Ethiopia",
          "Gabon",
          "Guinea",
          "Bulgaria",
          "Bosnia and Herzegovina",
          "Djibouti",
          "Mauritania",
          "French Guiana",
          "Luxembourg",
          "Hungary",
          "CAR",
          "Costa Rica",
          "Greece",
          "Thailand",
          "Palestine",
          "Somalia",
          "Croatia",
          "Albania",
          "Mayotte",
          "Nicaragua",
          "Madagascar",
          "Maldives",
          "Cuba",
          "Mali",
          "Paraguay",
          "Sri Lanka",
          "South Sudan",
          "Equatorial Guinea",
          "Estonia",
          "Iceland",
          "Lithuania",
          "Lebanon",
          "Slovakia",
          "Guinea-Bissau",
          "Slovenia",
          "Zambia",
          "New Zealand",
          "Sierra Leone",
          "Congo",
          "Malawi",
          "Cabo Verde",
          "Hong Kong",
          "Benin",
          "Yemen",
          "Tunisia",
          "Jordan",
          "Latvia",
          "Niger",
          "Rwanda",
          "Cyprus",
          "Burkina Faso",
          "Uruguay",
          "Georgia",
          "Mozambique",
          "Uganda",
          "Libya",
          "Eswatini",
          "Chad",
          "Andorra",
          "Liberia",
          "Sao Tome and Principe",
          "Diamond Princess",
          "Jamaica",
          "San Marino",
          "Malta",
          "Togo",
          "Montenegro",
          "Zimbabwe",
          "Channel Islands",
          "Suriname",
          "Réunion",
          "Tanzania",
          "Taiwan",
          "Vietnam",
          "Mauritius",
          "Isle of Man",
          "Syria",
          "Myanmar",
          "Comoros",
          "Namibia",
          "Angola",
          "Guyana",
          "Martinique",
          "Botswana",
          "Mongolia",
          "Eritrea",
          "Cayman Islands",
          "Faeroe Islands",
          "Guadeloupe",
          "Gibraltar",
          "Burundi",
          "Bermuda",
          "Brunei",
          "Cambodia",
          "Trinidad and Tobago",
          "Monaco",
          "Bahamas",
          "Aruba",
          "Barbados",
          "Liechtenstein",
          "Seychelles",
          "Sint Maarten",
          "Bhutan",
          "Antigua and Barbuda",
          "French Polynesia",
          "Gambia",
          "Macao",
          "Saint Martin",
          "Turks and Caicos",
          "Lesotho",
          "St. Vincent Grenadines",
          "Belize",
          "Timor-Leste",
          "Curaçao",
          "Grenada",
          "New Caledonia",
          "Laos",
          "Saint Lucia",
          "Dominica",
          "Fiji",
          "Saint Kitts and Nevis",
          "Falkland Islands",
          "Greenland",
          "Vatican City",
          "Montserrat",
          "Papua New Guinea",
          "Western Sahara",
          "MS Zaandam",
          "British Virgin Islands",
          "Caribbean Netherlands",
          "St. Barth",
          "Anguilla",
          "Saint Pierre Miquelon"
         ],
         "name": "",
         "type": "choropleth",
         "z": [
          2806513,
          1476884,
          661165,
          626591,
          313483,
          297183,
          288477,
          284541,
          240961,
          232863,
          231770,
          217809,
          202284,
          197608,
          196594,
          166378,
          159333,
          153277,
          104643,
          102009,
          97897,
          83537,
          69814,
          69692,
          67197,
          62698,
          61598,
          59394,
          58257,
          53708,
          50335,
          49469,
          47859,
          45887,
          44310,
          42782,
          42574,
          42555,
          38805,
          35146,
          34463,
          34227,
          34197,
          32022,
          31967,
          27746,
          27414,
          26658,
          26484,
          26452,
          25477,
          20262,
          19011,
          18723,
          18684,
          18134,
          17941,
          17150,
          15195,
          14657,
          14519,
          12969,
          12904,
          12815,
          12592,
          12116,
          9702,
          9573,
          8996,
          8902,
          8643,
          8001,
          7241,
          7189,
          7054,
          7000,
          6941,
          6625,
          6261,
          6062,
          6058,
          6040,
          5846,
          5513,
          5404,
          5154,
          4788,
          4715,
          4472,
          4444,
          4395,
          4166,
          3788,
          3753,
          3458,
          3179,
          2978,
          2944,
          2912,
          2662,
          2650,
          2519,
          2403,
          2400,
          2353,
          2260,
          2260,
          2066,
          2021,
          2001,
          1990,
          1850,
          1825,
          1796,
          1700,
          1654,
          1634,
          1632,
          1530,
          1518,
          1382,
          1342,
          1301,
          1243,
          1199,
          1190,
          1178,
          1136,
          1122,
          1075,
          1042,
          999,
          967,
          943,
          939,
          918,
          902,
          874,
          873,
          868,
          855,
          819,
          715,
          712,
          707,
          698,
          671,
          661,
          616,
          605,
          571,
          535,
          531,
          509,
          448,
          355,
          341,
          336,
          312,
          304,
          303,
          293,
          291,
          248,
          242,
          227,
          220,
          215,
          201,
          187,
          182,
          178,
          170,
          146,
          141,
          141,
          130,
          106,
          104,
          104,
          97,
          82,
          81,
          77,
          77,
          69,
          62,
          49,
          46,
          43,
          42,
          35,
          29,
          28,
          24,
          23,
          23,
          21,
          19,
          19,
          18,
          18,
          15,
          13,
          13,
          12,
          11,
          11,
          10,
          9,
          8,
          7,
          6,
          3,
          1
         ]
        }
       ],
       "layout": {
        "coloraxis": {
         "colorbar": {
          "title": {
           "text": "total_cases"
          }
         },
         "colorscale": [
          [
           0,
           "rgb(252, 222, 156)"
          ],
          [
           0.16666666666666666,
           "rgb(250, 164, 118)"
          ],
          [
           0.3333333333333333,
           "rgb(240, 116, 110)"
          ],
          [
           0.5,
           "rgb(227, 79, 111)"
          ],
          [
           0.6666666666666666,
           "rgb(220, 57, 119)"
          ],
          [
           0.8333333333333334,
           "rgb(185, 37, 122)"
          ],
          [
           1,
           "rgb(124, 29, 111)"
          ]
         ]
        },
        "geo": {
         "center": {},
         "domain": {
          "x": [
           0,
           1
          ],
          "y": [
           0,
           1
          ]
         },
         "showcoastlines": false,
         "showframe": false
        },
        "legend": {
         "tracegroupgap": 0
        },
        "margin": {
         "t": 60
        },
        "template": {
         "data": {
          "bar": [
           {
            "error_x": {
             "color": "#2a3f5f"
            },
            "error_y": {
             "color": "#2a3f5f"
            },
            "marker": {
             "line": {
              "color": "#E5ECF6",
              "width": 0.5
             }
            },
            "type": "bar"
           }
          ],
          "barpolar": [
           {
            "marker": {
             "line": {
              "color": "#E5ECF6",
              "width": 0.5
             }
            },
            "type": "barpolar"
           }
          ],
          "carpet": [
           {
            "aaxis": {
             "endlinecolor": "#2a3f5f",
             "gridcolor": "white",
             "linecolor": "white",
             "minorgridcolor": "white",
             "startlinecolor": "#2a3f5f"
            },
            "baxis": {
             "endlinecolor": "#2a3f5f",
             "gridcolor": "white",
             "linecolor": "white",
             "minorgridcolor": "white",
             "startlinecolor": "#2a3f5f"
            },
            "type": "carpet"
           }
          ],
          "choropleth": [
           {
            "colorbar": {
             "outlinewidth": 0,
             "ticks": ""
            },
            "type": "choropleth"
           }
          ],
          "contour": [
           {
            "colorbar": {
             "outlinewidth": 0,
             "ticks": ""
            },
            "colorscale": [
             [
              0,
              "#0d0887"
             ],
             [
              0.1111111111111111,
              "#46039f"
             ],
             [
              0.2222222222222222,
              "#7201a8"
             ],
             [
              0.3333333333333333,
              "#9c179e"
             ],
             [
              0.4444444444444444,
              "#bd3786"
             ],
             [
              0.5555555555555556,
              "#d8576b"
             ],
             [
              0.6666666666666666,
              "#ed7953"
             ],
             [
              0.7777777777777778,
              "#fb9f3a"
             ],
             [
              0.8888888888888888,
              "#fdca26"
             ],
             [
              1,
              "#f0f921"
             ]
            ],
            "type": "contour"
           }
          ],
          "contourcarpet": [
           {
            "colorbar": {
             "outlinewidth": 0,
             "ticks": ""
            },
            "type": "contourcarpet"
           }
          ],
          "heatmap": [
           {
            "colorbar": {
             "outlinewidth": 0,
             "ticks": ""
            },
            "colorscale": [
             [
              0,
              "#0d0887"
             ],
             [
              0.1111111111111111,
              "#46039f"
             ],
             [
              0.2222222222222222,
              "#7201a8"
             ],
             [
              0.3333333333333333,
              "#9c179e"
             ],
             [
              0.4444444444444444,
              "#bd3786"
             ],
             [
              0.5555555555555556,
              "#d8576b"
             ],
             [
              0.6666666666666666,
              "#ed7953"
             ],
             [
              0.7777777777777778,
              "#fb9f3a"
             ],
             [
              0.8888888888888888,
              "#fdca26"
             ],
             [
              1,
              "#f0f921"
             ]
            ],
            "type": "heatmap"
           }
          ],
          "heatmapgl": [
           {
            "colorbar": {
             "outlinewidth": 0,
             "ticks": ""
            },
            "colorscale": [
             [
              0,
              "#0d0887"
             ],
             [
              0.1111111111111111,
              "#46039f"
             ],
             [
              0.2222222222222222,
              "#7201a8"
             ],
             [
              0.3333333333333333,
              "#9c179e"
             ],
             [
              0.4444444444444444,
              "#bd3786"
             ],
             [
              0.5555555555555556,
              "#d8576b"
             ],
             [
              0.6666666666666666,
              "#ed7953"
             ],
             [
              0.7777777777777778,
              "#fb9f3a"
             ],
             [
              0.8888888888888888,
              "#fdca26"
             ],
             [
              1,
              "#f0f921"
             ]
            ],
            "type": "heatmapgl"
           }
          ],
          "histogram": [
           {
            "marker": {
             "colorbar": {
              "outlinewidth": 0,
              "ticks": ""
             }
            },
            "type": "histogram"
           }
          ],
          "histogram2d": [
           {
            "colorbar": {
             "outlinewidth": 0,
             "ticks": ""
            },
            "colorscale": [
             [
              0,
              "#0d0887"
             ],
             [
              0.1111111111111111,
              "#46039f"
             ],
             [
              0.2222222222222222,
              "#7201a8"
             ],
             [
              0.3333333333333333,
              "#9c179e"
             ],
             [
              0.4444444444444444,
              "#bd3786"
             ],
             [
              0.5555555555555556,
              "#d8576b"
             ],
             [
              0.6666666666666666,
              "#ed7953"
             ],
             [
              0.7777777777777778,
              "#fb9f3a"
             ],
             [
              0.8888888888888888,
              "#fdca26"
             ],
             [
              1,
              "#f0f921"
             ]
            ],
            "type": "histogram2d"
           }
          ],
          "histogram2dcontour": [
           {
            "colorbar": {
             "outlinewidth": 0,
             "ticks": ""
            },
            "colorscale": [
             [
              0,
              "#0d0887"
             ],
             [
              0.1111111111111111,
              "#46039f"
             ],
             [
              0.2222222222222222,
              "#7201a8"
             ],
             [
              0.3333333333333333,
              "#9c179e"
             ],
             [
              0.4444444444444444,
              "#bd3786"
             ],
             [
              0.5555555555555556,
              "#d8576b"
             ],
             [
              0.6666666666666666,
              "#ed7953"
             ],
             [
              0.7777777777777778,
              "#fb9f3a"
             ],
             [
              0.8888888888888888,
              "#fdca26"
             ],
             [
              1,
              "#f0f921"
             ]
            ],
            "type": "histogram2dcontour"
           }
          ],
          "mesh3d": [
           {
            "colorbar": {
             "outlinewidth": 0,
             "ticks": ""
            },
            "type": "mesh3d"
           }
          ],
          "parcoords": [
           {
            "line": {
             "colorbar": {
              "outlinewidth": 0,
              "ticks": ""
             }
            },
            "type": "parcoords"
           }
          ],
          "pie": [
           {
            "automargin": true,
            "type": "pie"
           }
          ],
          "scatter": [
           {
            "marker": {
             "colorbar": {
              "outlinewidth": 0,
              "ticks": ""
             }
            },
            "type": "scatter"
           }
          ],
          "scatter3d": [
           {
            "line": {
             "colorbar": {
              "outlinewidth": 0,
              "ticks": ""
             }
            },
            "marker": {
             "colorbar": {
              "outlinewidth": 0,
              "ticks": ""
             }
            },
            "type": "scatter3d"
           }
          ],
          "scattercarpet": [
           {
            "marker": {
             "colorbar": {
              "outlinewidth": 0,
              "ticks": ""
             }
            },
            "type": "scattercarpet"
           }
          ],
          "scattergeo": [
           {
            "marker": {
             "colorbar": {
              "outlinewidth": 0,
              "ticks": ""
             }
            },
            "type": "scattergeo"
           }
          ],
          "scattergl": [
           {
            "marker": {
             "colorbar": {
              "outlinewidth": 0,
              "ticks": ""
             }
            },
            "type": "scattergl"
           }
          ],
          "scattermapbox": [
           {
            "marker": {
             "colorbar": {
              "outlinewidth": 0,
              "ticks": ""
             }
            },
            "type": "scattermapbox"
           }
          ],
          "scatterpolar": [
           {
            "marker": {
             "colorbar": {
              "outlinewidth": 0,
              "ticks": ""
             }
            },
            "type": "scatterpolar"
           }
          ],
          "scatterpolargl": [
           {
            "marker": {
             "colorbar": {
              "outlinewidth": 0,
              "ticks": ""
             }
            },
            "type": "scatterpolargl"
           }
          ],
          "scatterternary": [
           {
            "marker": {
             "colorbar": {
              "outlinewidth": 0,
              "ticks": ""
             }
            },
            "type": "scatterternary"
           }
          ],
          "surface": [
           {
            "colorbar": {
             "outlinewidth": 0,
             "ticks": ""
            },
            "colorscale": [
             [
              0,
              "#0d0887"
             ],
             [
              0.1111111111111111,
              "#46039f"
             ],
             [
              0.2222222222222222,
              "#7201a8"
             ],
             [
              0.3333333333333333,
              "#9c179e"
             ],
             [
              0.4444444444444444,
              "#bd3786"
             ],
             [
              0.5555555555555556,
              "#d8576b"
             ],
             [
              0.6666666666666666,
              "#ed7953"
             ],
             [
              0.7777777777777778,
              "#fb9f3a"
             ],
             [
              0.8888888888888888,
              "#fdca26"
             ],
             [
              1,
              "#f0f921"
             ]
            ],
            "type": "surface"
           }
          ],
          "table": [
           {
            "cells": {
             "fill": {
              "color": "#EBF0F8"
             },
             "line": {
              "color": "white"
             }
            },
            "header": {
             "fill": {
              "color": "#C8D4E3"
             },
             "line": {
              "color": "white"
             }
            },
            "type": "table"
           }
          ]
         },
         "layout": {
          "annotationdefaults": {
           "arrowcolor": "#2a3f5f",
           "arrowhead": 0,
           "arrowwidth": 1
          },
          "coloraxis": {
           "colorbar": {
            "outlinewidth": 0,
            "ticks": ""
           }
          },
          "colorscale": {
           "diverging": [
            [
             0,
             "#8e0152"
            ],
            [
             0.1,
             "#c51b7d"
            ],
            [
             0.2,
             "#de77ae"
            ],
            [
             0.3,
             "#f1b6da"
            ],
            [
             0.4,
             "#fde0ef"
            ],
            [
             0.5,
             "#f7f7f7"
            ],
            [
             0.6,
             "#e6f5d0"
            ],
            [
             0.7,
             "#b8e186"
            ],
            [
             0.8,
             "#7fbc41"
            ],
            [
             0.9,
             "#4d9221"
            ],
            [
             1,
             "#276419"
            ]
           ],
           "sequential": [
            [
             0,
             "#0d0887"
            ],
            [
             0.1111111111111111,
             "#46039f"
            ],
            [
             0.2222222222222222,
             "#7201a8"
            ],
            [
             0.3333333333333333,
             "#9c179e"
            ],
            [
             0.4444444444444444,
             "#bd3786"
            ],
            [
             0.5555555555555556,
             "#d8576b"
            ],
            [
             0.6666666666666666,
             "#ed7953"
            ],
            [
             0.7777777777777778,
             "#fb9f3a"
            ],
            [
             0.8888888888888888,
             "#fdca26"
            ],
            [
             1,
             "#f0f921"
            ]
           ],
           "sequentialminus": [
            [
             0,
             "#0d0887"
            ],
            [
             0.1111111111111111,
             "#46039f"
            ],
            [
             0.2222222222222222,
             "#7201a8"
            ],
            [
             0.3333333333333333,
             "#9c179e"
            ],
            [
             0.4444444444444444,
             "#bd3786"
            ],
            [
             0.5555555555555556,
             "#d8576b"
            ],
            [
             0.6666666666666666,
             "#ed7953"
            ],
            [
             0.7777777777777778,
             "#fb9f3a"
            ],
            [
             0.8888888888888888,
             "#fdca26"
            ],
            [
             1,
             "#f0f921"
            ]
           ]
          },
          "colorway": [
           "#636efa",
           "#EF553B",
           "#00cc96",
           "#ab63fa",
           "#FFA15A",
           "#19d3f3",
           "#FF6692",
           "#B6E880",
           "#FF97FF",
           "#FECB52"
          ],
          "font": {
           "color": "#2a3f5f"
          },
          "geo": {
           "bgcolor": "white",
           "lakecolor": "white",
           "landcolor": "#E5ECF6",
           "showlakes": true,
           "showland": true,
           "subunitcolor": "white"
          },
          "hoverlabel": {
           "align": "left"
          },
          "hovermode": "closest",
          "mapbox": {
           "style": "light"
          },
          "paper_bgcolor": "white",
          "plot_bgcolor": "#E5ECF6",
          "polar": {
           "angularaxis": {
            "gridcolor": "white",
            "linecolor": "white",
            "ticks": ""
           },
           "bgcolor": "#E5ECF6",
           "radialaxis": {
            "gridcolor": "white",
            "linecolor": "white",
            "ticks": ""
           }
          },
          "scene": {
           "xaxis": {
            "backgroundcolor": "#E5ECF6",
            "gridcolor": "white",
            "gridwidth": 2,
            "linecolor": "white",
            "showbackground": true,
            "ticks": "",
            "zerolinecolor": "white"
           },
           "yaxis": {
            "backgroundcolor": "#E5ECF6",
            "gridcolor": "white",
            "gridwidth": 2,
            "linecolor": "white",
            "showbackground": true,
            "ticks": "",
            "zerolinecolor": "white"
           },
           "zaxis": {
            "backgroundcolor": "#E5ECF6",
            "gridcolor": "white",
            "gridwidth": 2,
            "linecolor": "white",
            "showbackground": true,
            "ticks": "",
            "zerolinecolor": "white"
           }
          },
          "shapedefaults": {
           "line": {
            "color": "#2a3f5f"
           }
          },
          "ternary": {
           "aaxis": {
            "gridcolor": "white",
            "linecolor": "white",
            "ticks": ""
           },
           "baxis": {
            "gridcolor": "white",
            "linecolor": "white",
            "ticks": ""
           },
           "bgcolor": "#E5ECF6",
           "caxis": {
            "gridcolor": "white",
            "linecolor": "white",
            "ticks": ""
           }
          },
          "title": {
           "x": 0.05
          },
          "xaxis": {
           "automargin": true,
           "gridcolor": "white",
           "linecolor": "white",
           "ticks": "",
           "title": {
            "standoff": 15
           },
           "zerolinecolor": "white",
           "zerolinewidth": 2
          },
          "yaxis": {
           "automargin": true,
           "gridcolor": "white",
           "linecolor": "white",
           "ticks": "",
           "title": {
            "standoff": 15
           },
           "zerolinecolor": "white",
           "zerolinewidth": 2
          }
         }
        },
        "title": {
         "text": "Coronavirus Total Confirmed Cases by Country"
        }
       }
      },
      "text/html": [
       "<div>\n",
       "        \n",
       "        \n",
       "            <div id=\"2ada47b1-e296-4e0a-abc3-89effbc1ee3a\" class=\"plotly-graph-div\" style=\"height:525px; width:100%;\"></div>\n",
       "            <script type=\"text/javascript\">\n",
       "                require([\"plotly\"], function(Plotly) {\n",
       "                    window.PLOTLYENV=window.PLOTLYENV || {};\n",
       "                    \n",
       "                if (document.getElementById(\"2ada47b1-e296-4e0a-abc3-89effbc1ee3a\")) {\n",
       "                    Plotly.newPlot(\n",
       "                        '2ada47b1-e296-4e0a-abc3-89effbc1ee3a',\n",
       "                        [{\"coloraxis\": \"coloraxis\", \"geo\": \"geo\", \"hovertemplate\": \"<b>%{hovertext}</b><br><br>country=%{location}<br>total_cases=%{z}<extra></extra>\", \"hovertext\": [\"USA\", \"Brazil\", \"Russia\", \"India\", \"UK\", \"Spain\", \"Peru\", \"Chile\", \"Italy\", \"Iran\", \"Mexico\", \"Pakistan\", \"Turkey\", \"Saudi Arabia\", \"Germany\", \"France\", \"South Africa\", \"Bangladesh\", \"Canada\", \"Colombia\", \"Qatar\", \"China\", \"Egypt\", \"Sweden\", \"Argentina\", \"Belarus\", \"Belgium\", \"Indonesia\", \"Ecuador\", \"Iraq\", \"Netherlands\", \"UAE\", \"Kuwait\", \"Ukraine\", \"Singapore\", \"Portugal\", \"Kazakhstan\", \"Oman\", \"Philippines\", \"Poland\", \"Panama\", \"Bolivia\", \"Dominican Republic\", \"Afghanistan\", \"Switzerland\", \"Romania\", \"Bahrain\", \"Armenia\", \"Nigeria\", \"Israel\", \"Ireland\", \"Honduras\", \"Guatemala\", \"Japan\", \"Azerbaijan\", \"Ghana\", \"Austria\", \"Moldova\", \"Serbia\", \"Algeria\", \"Nepal\", \"Morocco\", \"S. Korea\", \"Denmark\", \"Cameroon\", \"Czechia\", \"Ivory Coast\", \"Sudan\", \"Uzbekistan\", \"Norway\", \"Malaysia\", \"Australia\", \"Finland\", \"DRC\", \"Senegal\", \"El Salvador\", \"Kenya\", \"North Macedonia\", \"Kyrgyzstan\", \"Venezuela\", \"Tajikistan\", \"Haiti\", \"Ethiopia\", \"Gabon\", \"Guinea\", \"Bulgaria\", \"Bosnia and Herzegovina\", \"Djibouti\", \"Mauritania\", \"French Guiana\", \"Luxembourg\", \"Hungary\", \"CAR\", \"Costa Rica\", \"Greece\", \"Thailand\", \"Palestine\", \"Somalia\", \"Croatia\", \"Albania\", \"Mayotte\", \"Nicaragua\", \"Madagascar\", \"Maldives\", \"Cuba\", \"Mali\", \"Paraguay\", \"Sri Lanka\", \"South Sudan\", \"Equatorial Guinea\", \"Estonia\", \"Iceland\", \"Lithuania\", \"Lebanon\", \"Slovakia\", \"Guinea-Bissau\", \"Slovenia\", \"Zambia\", \"New Zealand\", \"Sierra Leone\", \"Congo\", \"Malawi\", \"Cabo Verde\", \"Hong Kong\", \"Benin\", \"Yemen\", \"Tunisia\", \"Jordan\", \"Latvia\", \"Niger\", \"Rwanda\", \"Cyprus\", \"Burkina Faso\", \"Uruguay\", \"Georgia\", \"Mozambique\", \"Uganda\", \"Libya\", \"Eswatini\", \"Chad\", \"Andorra\", \"Liberia\", \"Sao Tome and Principe\", \"Diamond Princess\", \"Jamaica\", \"San Marino\", \"Malta\", \"Togo\", \"Montenegro\", \"Zimbabwe\", \"Channel Islands\", \"Suriname\", \"R\\u00e9union\", \"Tanzania\", \"Taiwan\", \"Vietnam\", \"Mauritius\", \"Isle of Man\", \"Syria\", \"Myanmar\", \"Comoros\", \"Namibia\", \"Angola\", \"Guyana\", \"Martinique\", \"Botswana\", \"Mongolia\", \"Eritrea\", \"Cayman Islands\", \"Faeroe Islands\", \"Guadeloupe\", \"Gibraltar\", \"Burundi\", \"Bermuda\", \"Brunei\", \"Cambodia\", \"Trinidad and Tobago\", \"Monaco\", \"Bahamas\", \"Aruba\", \"Barbados\", \"Liechtenstein\", \"Seychelles\", \"Sint Maarten\", \"Bhutan\", \"Antigua and Barbuda\", \"French Polynesia\", \"Gambia\", \"Macao\", \"Saint Martin\", \"Turks and Caicos\", \"Lesotho\", \"St. Vincent Grenadines\", \"Belize\", \"Timor-Leste\", \"Cura\\u00e7ao\", \"Grenada\", \"New Caledonia\", \"Laos\", \"Saint Lucia\", \"Dominica\", \"Fiji\", \"Saint Kitts and Nevis\", \"Falkland Islands\", \"Greenland\", \"Vatican City\", \"Montserrat\", \"Papua New Guinea\", \"Western Sahara\", \"MS Zaandam\", \"British Virgin Islands\", \"Caribbean Netherlands\", \"St. Barth\", \"Anguilla\", \"Saint Pierre Miquelon\"], \"locationmode\": \"country names\", \"locations\": [\"USA\", \"Brazil\", \"Russia\", \"India\", \"UK\", \"Spain\", \"Peru\", \"Chile\", \"Italy\", \"Iran\", \"Mexico\", \"Pakistan\", \"Turkey\", \"Saudi Arabia\", \"Germany\", \"France\", \"South Africa\", \"Bangladesh\", \"Canada\", \"Colombia\", \"Qatar\", \"China\", \"Egypt\", \"Sweden\", \"Argentina\", \"Belarus\", \"Belgium\", \"Indonesia\", \"Ecuador\", \"Iraq\", \"Netherlands\", \"UAE\", \"Kuwait\", \"Ukraine\", \"Singapore\", \"Portugal\", \"Kazakhstan\", \"Oman\", \"Philippines\", \"Poland\", \"Panama\", \"Bolivia\", \"Dominican Republic\", \"Afghanistan\", \"Switzerland\", \"Romania\", \"Bahrain\", \"Armenia\", \"Nigeria\", \"Israel\", \"Ireland\", \"Honduras\", \"Guatemala\", \"Japan\", \"Azerbaijan\", \"Ghana\", \"Austria\", \"Moldova\", \"Serbia\", \"Algeria\", \"Nepal\", \"Morocco\", \"S. Korea\", \"Denmark\", \"Cameroon\", \"Czechia\", \"Ivory Coast\", \"Sudan\", \"Uzbekistan\", \"Norway\", \"Malaysia\", \"Australia\", \"Finland\", \"DRC\", \"Senegal\", \"El Salvador\", \"Kenya\", \"North Macedonia\", \"Kyrgyzstan\", \"Venezuela\", \"Tajikistan\", \"Haiti\", \"Ethiopia\", \"Gabon\", \"Guinea\", \"Bulgaria\", \"Bosnia and Herzegovina\", \"Djibouti\", \"Mauritania\", \"French Guiana\", \"Luxembourg\", \"Hungary\", \"CAR\", \"Costa Rica\", \"Greece\", \"Thailand\", \"Palestine\", \"Somalia\", \"Croatia\", \"Albania\", \"Mayotte\", \"Nicaragua\", \"Madagascar\", \"Maldives\", \"Cuba\", \"Mali\", \"Paraguay\", \"Sri Lanka\", \"South Sudan\", \"Equatorial Guinea\", \"Estonia\", \"Iceland\", \"Lithuania\", \"Lebanon\", \"Slovakia\", \"Guinea-Bissau\", \"Slovenia\", \"Zambia\", \"New Zealand\", \"Sierra Leone\", \"Congo\", \"Malawi\", \"Cabo Verde\", \"Hong Kong\", \"Benin\", \"Yemen\", \"Tunisia\", \"Jordan\", \"Latvia\", \"Niger\", \"Rwanda\", \"Cyprus\", \"Burkina Faso\", \"Uruguay\", \"Georgia\", \"Mozambique\", \"Uganda\", \"Libya\", \"Eswatini\", \"Chad\", \"Andorra\", \"Liberia\", \"Sao Tome and Principe\", \"Diamond Princess\", \"Jamaica\", \"San Marino\", \"Malta\", \"Togo\", \"Montenegro\", \"Zimbabwe\", \"Channel Islands\", \"Suriname\", \"R\\u00e9union\", \"Tanzania\", \"Taiwan\", \"Vietnam\", \"Mauritius\", \"Isle of Man\", \"Syria\", \"Myanmar\", \"Comoros\", \"Namibia\", \"Angola\", \"Guyana\", \"Martinique\", \"Botswana\", \"Mongolia\", \"Eritrea\", \"Cayman Islands\", \"Faeroe Islands\", \"Guadeloupe\", \"Gibraltar\", \"Burundi\", \"Bermuda\", \"Brunei\", \"Cambodia\", \"Trinidad and Tobago\", \"Monaco\", \"Bahamas\", \"Aruba\", \"Barbados\", \"Liechtenstein\", \"Seychelles\", \"Sint Maarten\", \"Bhutan\", \"Antigua and Barbuda\", \"French Polynesia\", \"Gambia\", \"Macao\", \"Saint Martin\", \"Turks and Caicos\", \"Lesotho\", \"St. Vincent Grenadines\", \"Belize\", \"Timor-Leste\", \"Cura\\u00e7ao\", \"Grenada\", \"New Caledonia\", \"Laos\", \"Saint Lucia\", \"Dominica\", \"Fiji\", \"Saint Kitts and Nevis\", \"Falkland Islands\", \"Greenland\", \"Vatican City\", \"Montserrat\", \"Papua New Guinea\", \"Western Sahara\", \"MS Zaandam\", \"British Virgin Islands\", \"Caribbean Netherlands\", \"St. Barth\", \"Anguilla\", \"Saint Pierre Miquelon\"], \"name\": \"\", \"type\": \"choropleth\", \"z\": [2806513, 1476884, 661165, 626591, 313483, 297183, 288477, 284541, 240961, 232863, 231770, 217809, 202284, 197608, 196594, 166378, 159333, 153277, 104643, 102009, 97897, 83537, 69814, 69692, 67197, 62698, 61598, 59394, 58257, 53708, 50335, 49469, 47859, 45887, 44310, 42782, 42574, 42555, 38805, 35146, 34463, 34227, 34197, 32022, 31967, 27746, 27414, 26658, 26484, 26452, 25477, 20262, 19011, 18723, 18684, 18134, 17941, 17150, 15195, 14657, 14519, 12969, 12904, 12815, 12592, 12116, 9702, 9573, 8996, 8902, 8643, 8001, 7241, 7189, 7054, 7000, 6941, 6625, 6261, 6062, 6058, 6040, 5846, 5513, 5404, 5154, 4788, 4715, 4472, 4444, 4395, 4166, 3788, 3753, 3458, 3179, 2978, 2944, 2912, 2662, 2650, 2519, 2403, 2400, 2353, 2260, 2260, 2066, 2021, 2001, 1990, 1850, 1825, 1796, 1700, 1654, 1634, 1632, 1530, 1518, 1382, 1342, 1301, 1243, 1199, 1190, 1178, 1136, 1122, 1075, 1042, 999, 967, 943, 939, 918, 902, 874, 873, 868, 855, 819, 715, 712, 707, 698, 671, 661, 616, 605, 571, 535, 531, 509, 448, 355, 341, 336, 312, 304, 303, 293, 291, 248, 242, 227, 220, 215, 201, 187, 182, 178, 170, 146, 141, 141, 130, 106, 104, 104, 97, 82, 81, 77, 77, 69, 62, 49, 46, 43, 42, 35, 29, 28, 24, 23, 23, 21, 19, 19, 18, 18, 15, 13, 13, 12, 11, 11, 10, 9, 8, 7, 6, 3, 1]}],\n",
       "                        {\"coloraxis\": {\"colorbar\": {\"title\": {\"text\": \"total_cases\"}}, \"colorscale\": [[0.0, \"rgb(252, 222, 156)\"], [0.16666666666666666, \"rgb(250, 164, 118)\"], [0.3333333333333333, \"rgb(240, 116, 110)\"], [0.5, \"rgb(227, 79, 111)\"], [0.6666666666666666, \"rgb(220, 57, 119)\"], [0.8333333333333334, \"rgb(185, 37, 122)\"], [1.0, \"rgb(124, 29, 111)\"]]}, \"geo\": {\"center\": {}, \"domain\": {\"x\": [0.0, 1.0], \"y\": [0.0, 1.0]}, \"showcoastlines\": false, \"showframe\": false}, \"legend\": {\"tracegroupgap\": 0}, \"margin\": {\"t\": 60}, \"template\": {\"data\": {\"bar\": [{\"error_x\": {\"color\": \"#2a3f5f\"}, \"error_y\": {\"color\": \"#2a3f5f\"}, \"marker\": {\"line\": {\"color\": \"#E5ECF6\", \"width\": 0.5}}, \"type\": \"bar\"}], \"barpolar\": [{\"marker\": {\"line\": {\"color\": \"#E5ECF6\", \"width\": 0.5}}, \"type\": \"barpolar\"}], \"carpet\": [{\"aaxis\": {\"endlinecolor\": \"#2a3f5f\", \"gridcolor\": \"white\", \"linecolor\": \"white\", \"minorgridcolor\": \"white\", \"startlinecolor\": \"#2a3f5f\"}, \"baxis\": {\"endlinecolor\": \"#2a3f5f\", \"gridcolor\": \"white\", \"linecolor\": \"white\", \"minorgridcolor\": \"white\", \"startlinecolor\": \"#2a3f5f\"}, \"type\": \"carpet\"}], \"choropleth\": [{\"colorbar\": {\"outlinewidth\": 0, \"ticks\": \"\"}, \"type\": \"choropleth\"}], \"contour\": [{\"colorbar\": {\"outlinewidth\": 0, \"ticks\": \"\"}, \"colorscale\": [[0.0, \"#0d0887\"], [0.1111111111111111, \"#46039f\"], [0.2222222222222222, \"#7201a8\"], [0.3333333333333333, \"#9c179e\"], [0.4444444444444444, \"#bd3786\"], [0.5555555555555556, \"#d8576b\"], [0.6666666666666666, \"#ed7953\"], [0.7777777777777778, \"#fb9f3a\"], [0.8888888888888888, \"#fdca26\"], [1.0, \"#f0f921\"]], \"type\": \"contour\"}], \"contourcarpet\": [{\"colorbar\": {\"outlinewidth\": 0, \"ticks\": \"\"}, \"type\": \"contourcarpet\"}], \"heatmap\": [{\"colorbar\": {\"outlinewidth\": 0, \"ticks\": \"\"}, \"colorscale\": [[0.0, \"#0d0887\"], [0.1111111111111111, \"#46039f\"], [0.2222222222222222, \"#7201a8\"], [0.3333333333333333, \"#9c179e\"], [0.4444444444444444, \"#bd3786\"], [0.5555555555555556, \"#d8576b\"], [0.6666666666666666, \"#ed7953\"], [0.7777777777777778, \"#fb9f3a\"], [0.8888888888888888, \"#fdca26\"], [1.0, \"#f0f921\"]], \"type\": \"heatmap\"}], \"heatmapgl\": [{\"colorbar\": {\"outlinewidth\": 0, \"ticks\": \"\"}, \"colorscale\": [[0.0, \"#0d0887\"], [0.1111111111111111, \"#46039f\"], [0.2222222222222222, \"#7201a8\"], [0.3333333333333333, \"#9c179e\"], [0.4444444444444444, \"#bd3786\"], [0.5555555555555556, \"#d8576b\"], [0.6666666666666666, \"#ed7953\"], [0.7777777777777778, \"#fb9f3a\"], [0.8888888888888888, \"#fdca26\"], [1.0, \"#f0f921\"]], \"type\": \"heatmapgl\"}], \"histogram\": [{\"marker\": {\"colorbar\": {\"outlinewidth\": 0, \"ticks\": \"\"}}, \"type\": \"histogram\"}], \"histogram2d\": [{\"colorbar\": {\"outlinewidth\": 0, \"ticks\": \"\"}, \"colorscale\": [[0.0, \"#0d0887\"], [0.1111111111111111, \"#46039f\"], [0.2222222222222222, \"#7201a8\"], [0.3333333333333333, \"#9c179e\"], [0.4444444444444444, \"#bd3786\"], [0.5555555555555556, \"#d8576b\"], [0.6666666666666666, \"#ed7953\"], [0.7777777777777778, \"#fb9f3a\"], [0.8888888888888888, \"#fdca26\"], [1.0, \"#f0f921\"]], \"type\": \"histogram2d\"}], \"histogram2dcontour\": [{\"colorbar\": {\"outlinewidth\": 0, \"ticks\": \"\"}, \"colorscale\": [[0.0, \"#0d0887\"], [0.1111111111111111, \"#46039f\"], [0.2222222222222222, \"#7201a8\"], [0.3333333333333333, \"#9c179e\"], [0.4444444444444444, \"#bd3786\"], [0.5555555555555556, \"#d8576b\"], [0.6666666666666666, \"#ed7953\"], [0.7777777777777778, \"#fb9f3a\"], [0.8888888888888888, \"#fdca26\"], [1.0, \"#f0f921\"]], \"type\": \"histogram2dcontour\"}], \"mesh3d\": [{\"colorbar\": {\"outlinewidth\": 0, \"ticks\": \"\"}, \"type\": \"mesh3d\"}], \"parcoords\": [{\"line\": {\"colorbar\": {\"outlinewidth\": 0, \"ticks\": \"\"}}, \"type\": \"parcoords\"}], \"pie\": [{\"automargin\": true, \"type\": \"pie\"}], \"scatter\": [{\"marker\": {\"colorbar\": {\"outlinewidth\": 0, \"ticks\": \"\"}}, \"type\": \"scatter\"}], \"scatter3d\": [{\"line\": {\"colorbar\": {\"outlinewidth\": 0, \"ticks\": \"\"}}, \"marker\": {\"colorbar\": {\"outlinewidth\": 0, \"ticks\": \"\"}}, \"type\": \"scatter3d\"}], \"scattercarpet\": [{\"marker\": {\"colorbar\": {\"outlinewidth\": 0, \"ticks\": \"\"}}, \"type\": \"scattercarpet\"}], \"scattergeo\": [{\"marker\": {\"colorbar\": {\"outlinewidth\": 0, \"ticks\": \"\"}}, \"type\": \"scattergeo\"}], \"scattergl\": [{\"marker\": {\"colorbar\": {\"outlinewidth\": 0, \"ticks\": \"\"}}, \"type\": \"scattergl\"}], \"scattermapbox\": [{\"marker\": {\"colorbar\": {\"outlinewidth\": 0, \"ticks\": \"\"}}, \"type\": \"scattermapbox\"}], \"scatterpolar\": [{\"marker\": {\"colorbar\": {\"outlinewidth\": 0, \"ticks\": \"\"}}, \"type\": \"scatterpolar\"}], \"scatterpolargl\": [{\"marker\": {\"colorbar\": {\"outlinewidth\": 0, \"ticks\": \"\"}}, \"type\": \"scatterpolargl\"}], \"scatterternary\": [{\"marker\": {\"colorbar\": {\"outlinewidth\": 0, \"ticks\": \"\"}}, \"type\": \"scatterternary\"}], \"surface\": [{\"colorbar\": {\"outlinewidth\": 0, \"ticks\": \"\"}, \"colorscale\": [[0.0, \"#0d0887\"], [0.1111111111111111, \"#46039f\"], [0.2222222222222222, \"#7201a8\"], [0.3333333333333333, \"#9c179e\"], [0.4444444444444444, \"#bd3786\"], [0.5555555555555556, \"#d8576b\"], [0.6666666666666666, \"#ed7953\"], [0.7777777777777778, \"#fb9f3a\"], [0.8888888888888888, \"#fdca26\"], [1.0, \"#f0f921\"]], \"type\": \"surface\"}], \"table\": [{\"cells\": {\"fill\": {\"color\": \"#EBF0F8\"}, \"line\": {\"color\": \"white\"}}, \"header\": {\"fill\": {\"color\": \"#C8D4E3\"}, \"line\": {\"color\": \"white\"}}, \"type\": \"table\"}]}, \"layout\": {\"annotationdefaults\": {\"arrowcolor\": \"#2a3f5f\", \"arrowhead\": 0, \"arrowwidth\": 1}, \"coloraxis\": {\"colorbar\": {\"outlinewidth\": 0, \"ticks\": \"\"}}, \"colorscale\": {\"diverging\": [[0, \"#8e0152\"], [0.1, \"#c51b7d\"], [0.2, \"#de77ae\"], [0.3, \"#f1b6da\"], [0.4, \"#fde0ef\"], [0.5, \"#f7f7f7\"], [0.6, \"#e6f5d0\"], [0.7, \"#b8e186\"], [0.8, \"#7fbc41\"], [0.9, \"#4d9221\"], [1, \"#276419\"]], \"sequential\": [[0.0, \"#0d0887\"], [0.1111111111111111, \"#46039f\"], [0.2222222222222222, \"#7201a8\"], [0.3333333333333333, \"#9c179e\"], [0.4444444444444444, \"#bd3786\"], [0.5555555555555556, \"#d8576b\"], [0.6666666666666666, \"#ed7953\"], [0.7777777777777778, \"#fb9f3a\"], [0.8888888888888888, \"#fdca26\"], [1.0, \"#f0f921\"]], \"sequentialminus\": [[0.0, \"#0d0887\"], [0.1111111111111111, \"#46039f\"], [0.2222222222222222, \"#7201a8\"], [0.3333333333333333, \"#9c179e\"], [0.4444444444444444, \"#bd3786\"], [0.5555555555555556, \"#d8576b\"], [0.6666666666666666, \"#ed7953\"], [0.7777777777777778, \"#fb9f3a\"], [0.8888888888888888, \"#fdca26\"], [1.0, \"#f0f921\"]]}, \"colorway\": [\"#636efa\", \"#EF553B\", \"#00cc96\", \"#ab63fa\", \"#FFA15A\", \"#19d3f3\", \"#FF6692\", \"#B6E880\", \"#FF97FF\", \"#FECB52\"], \"font\": {\"color\": \"#2a3f5f\"}, \"geo\": {\"bgcolor\": \"white\", \"lakecolor\": \"white\", \"landcolor\": \"#E5ECF6\", \"showlakes\": true, \"showland\": true, \"subunitcolor\": \"white\"}, \"hoverlabel\": {\"align\": \"left\"}, \"hovermode\": \"closest\", \"mapbox\": {\"style\": \"light\"}, \"paper_bgcolor\": \"white\", \"plot_bgcolor\": \"#E5ECF6\", \"polar\": {\"angularaxis\": {\"gridcolor\": \"white\", \"linecolor\": \"white\", \"ticks\": \"\"}, \"bgcolor\": \"#E5ECF6\", \"radialaxis\": {\"gridcolor\": \"white\", \"linecolor\": \"white\", \"ticks\": \"\"}}, \"scene\": {\"xaxis\": {\"backgroundcolor\": \"#E5ECF6\", \"gridcolor\": \"white\", \"gridwidth\": 2, \"linecolor\": \"white\", \"showbackground\": true, \"ticks\": \"\", \"zerolinecolor\": \"white\"}, \"yaxis\": {\"backgroundcolor\": \"#E5ECF6\", \"gridcolor\": \"white\", \"gridwidth\": 2, \"linecolor\": \"white\", \"showbackground\": true, \"ticks\": \"\", \"zerolinecolor\": \"white\"}, \"zaxis\": {\"backgroundcolor\": \"#E5ECF6\", \"gridcolor\": \"white\", \"gridwidth\": 2, \"linecolor\": \"white\", \"showbackground\": true, \"ticks\": \"\", \"zerolinecolor\": \"white\"}}, \"shapedefaults\": {\"line\": {\"color\": \"#2a3f5f\"}}, \"ternary\": {\"aaxis\": {\"gridcolor\": \"white\", \"linecolor\": \"white\", \"ticks\": \"\"}, \"baxis\": {\"gridcolor\": \"white\", \"linecolor\": \"white\", \"ticks\": \"\"}, \"bgcolor\": \"#E5ECF6\", \"caxis\": {\"gridcolor\": \"white\", \"linecolor\": \"white\", \"ticks\": \"\"}}, \"title\": {\"x\": 0.05}, \"xaxis\": {\"automargin\": true, \"gridcolor\": \"white\", \"linecolor\": \"white\", \"ticks\": \"\", \"title\": {\"standoff\": 15}, \"zerolinecolor\": \"white\", \"zerolinewidth\": 2}, \"yaxis\": {\"automargin\": true, \"gridcolor\": \"white\", \"linecolor\": \"white\", \"ticks\": \"\", \"title\": {\"standoff\": 15}, \"zerolinecolor\": \"white\", \"zerolinewidth\": 2}}}, \"title\": {\"text\": \"Coronavirus Total Confirmed Cases by Country\"}},\n",
       "                        {\"responsive\": true}\n",
       "                    ).then(function(){\n",
       "                            \n",
       "var gd = document.getElementById('2ada47b1-e296-4e0a-abc3-89effbc1ee3a');\n",
       "var x = new MutationObserver(function (mutations, observer) {{\n",
       "        var display = window.getComputedStyle(gd).display;\n",
       "        if (!display || display === 'none') {{\n",
       "            console.log([gd, 'removed!']);\n",
       "            Plotly.purge(gd);\n",
       "            observer.disconnect();\n",
       "        }}\n",
       "}});\n",
       "\n",
       "// Listen for the removal of the full notebook cells\n",
       "var notebookContainer = gd.closest('#notebook-container');\n",
       "if (notebookContainer) {{\n",
       "    x.observe(notebookContainer, {childList: true});\n",
       "}}\n",
       "\n",
       "// Listen for the clearing of the current output cell\n",
       "var outputEl = gd.closest('.output');\n",
       "if (outputEl) {{\n",
       "    x.observe(outputEl, {childList: true});\n",
       "}}\n",
       "\n",
       "                        })\n",
       "                };\n",
       "                });\n",
       "            </script>\n",
       "        </div>"
      ]
     },
     "metadata": {},
     "output_type": "display_data"
    }
   ],
   "source": [
    "fig = px.choropleth(covid,\n",
    "    locations='country',\n",
    "    locationmode='country names',\n",
    "    color='total_cases',\n",
    "    hover_name='country',\n",
    "    color_continuous_scale='sunsetdark')\n",
    "\n",
    "fig.update_layout(\n",
    "    title_text='Coronavirus Total Confirmed Cases by Country',\n",
    "    geo=dict(showframe=False,showcoastlines=False))\n",
    "\n",
    "fig.show()"
   ]
  },
  {
   "cell_type": "code",
   "execution_count": 8,
   "metadata": {},
   "outputs": [
    {
     "data": {
      "text/html": [
       "<div>\n",
       "<style scoped>\n",
       "    .dataframe tbody tr th:only-of-type {\n",
       "        vertical-align: middle;\n",
       "    }\n",
       "\n",
       "    .dataframe tbody tr th {\n",
       "        vertical-align: top;\n",
       "    }\n",
       "\n",
       "    .dataframe thead th {\n",
       "        text-align: right;\n",
       "    }\n",
       "</style>\n",
       "<table border=\"1\" class=\"dataframe\">\n",
       "  <thead>\n",
       "    <tr style=\"text-align: right;\">\n",
       "      <th></th>\n",
       "      <th>country</th>\n",
       "      <th>cases_per_mil</th>\n",
       "    </tr>\n",
       "  </thead>\n",
       "  <tbody>\n",
       "    <tr>\n",
       "      <th>20</th>\n",
       "      <td>Qatar</td>\n",
       "      <td>34866.0</td>\n",
       "    </tr>\n",
       "    <tr>\n",
       "      <th>145</th>\n",
       "      <td>San Marino</td>\n",
       "      <td>20571.0</td>\n",
       "    </tr>\n",
       "    <tr>\n",
       "      <th>46</th>\n",
       "      <td>Bahrain</td>\n",
       "      <td>16118.0</td>\n",
       "    </tr>\n",
       "    <tr>\n",
       "      <th>205</th>\n",
       "      <td>Vatican City</td>\n",
       "      <td>14981.0</td>\n",
       "    </tr>\n",
       "    <tr>\n",
       "      <th>7</th>\n",
       "      <td>Chile</td>\n",
       "      <td>14885.0</td>\n",
       "    </tr>\n",
       "    <tr>\n",
       "      <th>89</th>\n",
       "      <td>French Guiana</td>\n",
       "      <td>14882.0</td>\n",
       "    </tr>\n",
       "    <tr>\n",
       "      <th>32</th>\n",
       "      <td>Kuwait</td>\n",
       "      <td>11207.0</td>\n",
       "    </tr>\n",
       "    <tr>\n",
       "      <th>140</th>\n",
       "      <td>Andorra</td>\n",
       "      <td>11066.0</td>\n",
       "    </tr>\n",
       "    <tr>\n",
       "      <th>100</th>\n",
       "      <td>Mayotte</td>\n",
       "      <td>9715.0</td>\n",
       "    </tr>\n",
       "    <tr>\n",
       "      <th>47</th>\n",
       "      <td>Armenia</td>\n",
       "      <td>8996.0</td>\n",
       "    </tr>\n",
       "    <tr>\n",
       "      <th>6</th>\n",
       "      <td>Peru</td>\n",
       "      <td>8749.0</td>\n",
       "    </tr>\n",
       "    <tr>\n",
       "      <th>0</th>\n",
       "      <td>USA</td>\n",
       "      <td>8479.0</td>\n",
       "    </tr>\n",
       "    <tr>\n",
       "      <th>37</th>\n",
       "      <td>Oman</td>\n",
       "      <td>8335.0</td>\n",
       "    </tr>\n",
       "    <tr>\n",
       "      <th>40</th>\n",
       "      <td>Panama</td>\n",
       "      <td>7988.0</td>\n",
       "    </tr>\n",
       "    <tr>\n",
       "      <th>34</th>\n",
       "      <td>Singapore</td>\n",
       "      <td>7574.0</td>\n",
       "    </tr>\n",
       "    <tr>\n",
       "      <th>90</th>\n",
       "      <td>Luxembourg</td>\n",
       "      <td>7021.0</td>\n",
       "    </tr>\n",
       "    <tr>\n",
       "      <th>1</th>\n",
       "      <td>Brazil</td>\n",
       "      <td>6948.0</td>\n",
       "    </tr>\n",
       "    <tr>\n",
       "      <th>23</th>\n",
       "      <td>Sweden</td>\n",
       "      <td>6901.0</td>\n",
       "    </tr>\n",
       "    <tr>\n",
       "      <th>25</th>\n",
       "      <td>Belarus</td>\n",
       "      <td>6635.0</td>\n",
       "    </tr>\n",
       "    <tr>\n",
       "      <th>5</th>\n",
       "      <td>Spain</td>\n",
       "      <td>6356.0</td>\n",
       "    </tr>\n",
       "    <tr>\n",
       "      <th>13</th>\n",
       "      <td>Saudi Arabia</td>\n",
       "      <td>5676.0</td>\n",
       "    </tr>\n",
       "    <tr>\n",
       "      <th>111</th>\n",
       "      <td>Iceland</td>\n",
       "      <td>5421.0</td>\n",
       "    </tr>\n",
       "    <tr>\n",
       "      <th>26</th>\n",
       "      <td>Belgium</td>\n",
       "      <td>5315.0</td>\n",
       "    </tr>\n",
       "    <tr>\n",
       "      <th>171</th>\n",
       "      <td>Gibraltar</td>\n",
       "      <td>5283.0</td>\n",
       "    </tr>\n",
       "    <tr>\n",
       "      <th>50</th>\n",
       "      <td>Ireland</td>\n",
       "      <td>5160.0</td>\n",
       "    </tr>\n",
       "  </tbody>\n",
       "</table>\n",
       "</div>"
      ],
      "text/plain": [
       "           country  cases_per_mil\n",
       "20           Qatar        34866.0\n",
       "145     San Marino        20571.0\n",
       "46         Bahrain        16118.0\n",
       "205   Vatican City        14981.0\n",
       "7            Chile        14885.0\n",
       "89   French Guiana        14882.0\n",
       "32          Kuwait        11207.0\n",
       "140        Andorra        11066.0\n",
       "100        Mayotte         9715.0\n",
       "47         Armenia         8996.0\n",
       "6             Peru         8749.0\n",
       "0              USA         8479.0\n",
       "37            Oman         8335.0\n",
       "40          Panama         7988.0\n",
       "34       Singapore         7574.0\n",
       "90      Luxembourg         7021.0\n",
       "1           Brazil         6948.0\n",
       "23          Sweden         6901.0\n",
       "25         Belarus         6635.0\n",
       "5            Spain         6356.0\n",
       "13    Saudi Arabia         5676.0\n",
       "111        Iceland         5421.0\n",
       "26         Belgium         5315.0\n",
       "171      Gibraltar         5283.0\n",
       "50         Ireland         5160.0"
      ]
     },
     "execution_count": 8,
     "metadata": {},
     "output_type": "execute_result"
    }
   ],
   "source": [
    "# by total cases/per 1 million pop\n",
    "\n",
    "covid[['country','cases_per_mil']].sort_values(by='cases_per_mil',ascending=False).head(25)"
   ]
  },
  {
   "cell_type": "code",
   "execution_count": 9,
   "metadata": {},
   "outputs": [
    {
     "data": {
      "application/vnd.plotly.v1+json": {
       "config": {
        "plotlyServerURL": "https://plot.ly"
       },
       "data": [
        {
         "coloraxis": "coloraxis",
         "geo": "geo",
         "hovertemplate": "<b>%{hovertext}</b><br><br>country=%{location}<br>cases_per_mil=%{z}<extra></extra>",
         "hovertext": [
          "USA",
          "Brazil",
          "Russia",
          "India",
          "UK",
          "Spain",
          "Peru",
          "Chile",
          "Italy",
          "Iran",
          "Mexico",
          "Pakistan",
          "Turkey",
          "Saudi Arabia",
          "Germany",
          "France",
          "South Africa",
          "Bangladesh",
          "Canada",
          "Colombia",
          "Qatar",
          "China",
          "Egypt",
          "Sweden",
          "Argentina",
          "Belarus",
          "Belgium",
          "Indonesia",
          "Ecuador",
          "Iraq",
          "Netherlands",
          "UAE",
          "Kuwait",
          "Ukraine",
          "Singapore",
          "Portugal",
          "Kazakhstan",
          "Oman",
          "Philippines",
          "Poland",
          "Panama",
          "Bolivia",
          "Dominican Republic",
          "Afghanistan",
          "Switzerland",
          "Romania",
          "Bahrain",
          "Armenia",
          "Nigeria",
          "Israel",
          "Ireland",
          "Honduras",
          "Guatemala",
          "Japan",
          "Azerbaijan",
          "Ghana",
          "Austria",
          "Moldova",
          "Serbia",
          "Algeria",
          "Nepal",
          "Morocco",
          "S. Korea",
          "Denmark",
          "Cameroon",
          "Czechia",
          "Ivory Coast",
          "Sudan",
          "Uzbekistan",
          "Norway",
          "Malaysia",
          "Australia",
          "Finland",
          "DRC",
          "Senegal",
          "El Salvador",
          "Kenya",
          "North Macedonia",
          "Kyrgyzstan",
          "Venezuela",
          "Tajikistan",
          "Haiti",
          "Ethiopia",
          "Gabon",
          "Guinea",
          "Bulgaria",
          "Bosnia and Herzegovina",
          "Djibouti",
          "Mauritania",
          "French Guiana",
          "Luxembourg",
          "Hungary",
          "CAR",
          "Costa Rica",
          "Greece",
          "Thailand",
          "Palestine",
          "Somalia",
          "Croatia",
          "Albania",
          "Mayotte",
          "Nicaragua",
          "Madagascar",
          "Maldives",
          "Cuba",
          "Mali",
          "Paraguay",
          "Sri Lanka",
          "South Sudan",
          "Equatorial Guinea",
          "Estonia",
          "Iceland",
          "Lithuania",
          "Lebanon",
          "Slovakia",
          "Guinea-Bissau",
          "Slovenia",
          "Zambia",
          "New Zealand",
          "Sierra Leone",
          "Congo",
          "Malawi",
          "Cabo Verde",
          "Hong Kong",
          "Benin",
          "Yemen",
          "Tunisia",
          "Jordan",
          "Latvia",
          "Niger",
          "Rwanda",
          "Cyprus",
          "Burkina Faso",
          "Uruguay",
          "Georgia",
          "Mozambique",
          "Uganda",
          "Libya",
          "Eswatini",
          "Chad",
          "Andorra",
          "Liberia",
          "Sao Tome and Principe",
          "Diamond Princess",
          "Jamaica",
          "San Marino",
          "Malta",
          "Togo",
          "Montenegro",
          "Zimbabwe",
          "Channel Islands",
          "Suriname",
          "Réunion",
          "Tanzania",
          "Taiwan",
          "Vietnam",
          "Mauritius",
          "Isle of Man",
          "Syria",
          "Myanmar",
          "Comoros",
          "Namibia",
          "Angola",
          "Guyana",
          "Martinique",
          "Botswana",
          "Mongolia",
          "Eritrea",
          "Cayman Islands",
          "Faeroe Islands",
          "Guadeloupe",
          "Gibraltar",
          "Burundi",
          "Bermuda",
          "Brunei",
          "Cambodia",
          "Trinidad and Tobago",
          "Monaco",
          "Bahamas",
          "Aruba",
          "Barbados",
          "Liechtenstein",
          "Seychelles",
          "Sint Maarten",
          "Bhutan",
          "Antigua and Barbuda",
          "French Polynesia",
          "Gambia",
          "Macao",
          "Saint Martin",
          "Turks and Caicos",
          "Lesotho",
          "St. Vincent Grenadines",
          "Belize",
          "Timor-Leste",
          "Curaçao",
          "Grenada",
          "New Caledonia",
          "Laos",
          "Saint Lucia",
          "Dominica",
          "Fiji",
          "Saint Kitts and Nevis",
          "Falkland Islands",
          "Greenland",
          "Vatican City",
          "Montserrat",
          "Papua New Guinea",
          "Western Sahara",
          "MS Zaandam",
          "British Virgin Islands",
          "Caribbean Netherlands",
          "St. Barth",
          "Anguilla",
          "Saint Pierre Miquelon"
         ],
         "locationmode": "country names",
         "locations": [
          "USA",
          "Brazil",
          "Russia",
          "India",
          "UK",
          "Spain",
          "Peru",
          "Chile",
          "Italy",
          "Iran",
          "Mexico",
          "Pakistan",
          "Turkey",
          "Saudi Arabia",
          "Germany",
          "France",
          "South Africa",
          "Bangladesh",
          "Canada",
          "Colombia",
          "Qatar",
          "China",
          "Egypt",
          "Sweden",
          "Argentina",
          "Belarus",
          "Belgium",
          "Indonesia",
          "Ecuador",
          "Iraq",
          "Netherlands",
          "UAE",
          "Kuwait",
          "Ukraine",
          "Singapore",
          "Portugal",
          "Kazakhstan",
          "Oman",
          "Philippines",
          "Poland",
          "Panama",
          "Bolivia",
          "Dominican Republic",
          "Afghanistan",
          "Switzerland",
          "Romania",
          "Bahrain",
          "Armenia",
          "Nigeria",
          "Israel",
          "Ireland",
          "Honduras",
          "Guatemala",
          "Japan",
          "Azerbaijan",
          "Ghana",
          "Austria",
          "Moldova",
          "Serbia",
          "Algeria",
          "Nepal",
          "Morocco",
          "S. Korea",
          "Denmark",
          "Cameroon",
          "Czechia",
          "Ivory Coast",
          "Sudan",
          "Uzbekistan",
          "Norway",
          "Malaysia",
          "Australia",
          "Finland",
          "DRC",
          "Senegal",
          "El Salvador",
          "Kenya",
          "North Macedonia",
          "Kyrgyzstan",
          "Venezuela",
          "Tajikistan",
          "Haiti",
          "Ethiopia",
          "Gabon",
          "Guinea",
          "Bulgaria",
          "Bosnia and Herzegovina",
          "Djibouti",
          "Mauritania",
          "French Guiana",
          "Luxembourg",
          "Hungary",
          "CAR",
          "Costa Rica",
          "Greece",
          "Thailand",
          "Palestine",
          "Somalia",
          "Croatia",
          "Albania",
          "Mayotte",
          "Nicaragua",
          "Madagascar",
          "Maldives",
          "Cuba",
          "Mali",
          "Paraguay",
          "Sri Lanka",
          "South Sudan",
          "Equatorial Guinea",
          "Estonia",
          "Iceland",
          "Lithuania",
          "Lebanon",
          "Slovakia",
          "Guinea-Bissau",
          "Slovenia",
          "Zambia",
          "New Zealand",
          "Sierra Leone",
          "Congo",
          "Malawi",
          "Cabo Verde",
          "Hong Kong",
          "Benin",
          "Yemen",
          "Tunisia",
          "Jordan",
          "Latvia",
          "Niger",
          "Rwanda",
          "Cyprus",
          "Burkina Faso",
          "Uruguay",
          "Georgia",
          "Mozambique",
          "Uganda",
          "Libya",
          "Eswatini",
          "Chad",
          "Andorra",
          "Liberia",
          "Sao Tome and Principe",
          "Diamond Princess",
          "Jamaica",
          "San Marino",
          "Malta",
          "Togo",
          "Montenegro",
          "Zimbabwe",
          "Channel Islands",
          "Suriname",
          "Réunion",
          "Tanzania",
          "Taiwan",
          "Vietnam",
          "Mauritius",
          "Isle of Man",
          "Syria",
          "Myanmar",
          "Comoros",
          "Namibia",
          "Angola",
          "Guyana",
          "Martinique",
          "Botswana",
          "Mongolia",
          "Eritrea",
          "Cayman Islands",
          "Faeroe Islands",
          "Guadeloupe",
          "Gibraltar",
          "Burundi",
          "Bermuda",
          "Brunei",
          "Cambodia",
          "Trinidad and Tobago",
          "Monaco",
          "Bahamas",
          "Aruba",
          "Barbados",
          "Liechtenstein",
          "Seychelles",
          "Sint Maarten",
          "Bhutan",
          "Antigua and Barbuda",
          "French Polynesia",
          "Gambia",
          "Macao",
          "Saint Martin",
          "Turks and Caicos",
          "Lesotho",
          "St. Vincent Grenadines",
          "Belize",
          "Timor-Leste",
          "Curaçao",
          "Grenada",
          "New Caledonia",
          "Laos",
          "Saint Lucia",
          "Dominica",
          "Fiji",
          "Saint Kitts and Nevis",
          "Falkland Islands",
          "Greenland",
          "Vatican City",
          "Montserrat",
          "Papua New Guinea",
          "Western Sahara",
          "MS Zaandam",
          "British Virgin Islands",
          "Caribbean Netherlands",
          "St. Barth",
          "Anguilla",
          "Saint Pierre Miquelon"
         ],
         "name": "",
         "type": "choropleth",
         "z": [
          8479,
          6948,
          4531,
          454,
          4618,
          6356,
          8749,
          14885,
          3985,
          2772,
          1798,
          986,
          2398,
          5676,
          2346,
          2549,
          2687,
          931,
          2773,
          2005,
          34866,
          58,
          682,
          6901,
          1487,
          6635,
          5315,
          217,
          3302,
          1335,
          2938,
          5002,
          11207,
          1049,
          7574,
          4196,
          2267,
          8335,
          354,
          929,
          7988,
          2932,
          3152,
          823,
          3694,
          1442,
          16118,
          8996,
          128,
          2876,
          5160,
          2046,
          1061,
          148,
          1843,
          584,
          1992,
          4251,
          1739,
          334,
          498,
          351,
          252,
          2212,
          474,
          1131,
          368,
          218,
          269,
          1642,
          267,
          314,
          1307,
          80,
          421,
          1079,
          129,
          3180,
          960,
          213,
          635,
          530,
          51,
          2477,
          412,
          742,
          1459,
          4772,
          962,
          14882,
          7021,
          431,
          784,
          737,
          332,
          46,
          584,
          185,
          709,
          925,
          9715,
          380,
          87,
          4440,
          208,
          112,
          317,
          96,
          181,
          1427,
          1500,
          5421,
          671,
          263,
          311,
          841,
          786,
          89,
          306,
          190,
          250,
          70,
          2340,
          166,
          99,
          40,
          100,
          111,
          595,
          44,
          80,
          827,
          46,
          271,
          235,
          29,
          20,
          127,
          752,
          53,
          11066,
          162,
          3263,
          null,
          239,
          20571,
          1520,
          80,
          981,
          41,
          3284,
          912,
          593,
          9,
          19,
          4,
          268,
          3951,
          18,
          6,
          348,
          115,
          9,
          315,
          645,
          97,
          67,
          61,
          3058,
          3827,
          455,
          5283,
          14,
          2344,
          322,
          8,
          93,
          2701,
          264,
          974,
          338,
          2151,
          824,
          1796,
          100,
          705,
          221,
          20,
          71,
          1112,
          1085,
          16,
          261,
          70,
          18,
          140,
          204,
          74,
          3,
          103,
          250,
          20,
          282,
          3737,
          229,
          14981,
          2204,
          1,
          17,
          null,
          265,
          267,
          607,
          200,
          173
         ]
        }
       ],
       "layout": {
        "coloraxis": {
         "colorbar": {
          "title": {
           "text": "cases_per_mil"
          }
         },
         "colorscale": [
          [
           0,
           "rgb(252, 222, 156)"
          ],
          [
           0.16666666666666666,
           "rgb(250, 164, 118)"
          ],
          [
           0.3333333333333333,
           "rgb(240, 116, 110)"
          ],
          [
           0.5,
           "rgb(227, 79, 111)"
          ],
          [
           0.6666666666666666,
           "rgb(220, 57, 119)"
          ],
          [
           0.8333333333333334,
           "rgb(185, 37, 122)"
          ],
          [
           1,
           "rgb(124, 29, 111)"
          ]
         ]
        },
        "geo": {
         "center": {},
         "domain": {
          "x": [
           0,
           1
          ],
          "y": [
           0,
           1
          ]
         },
         "showcoastlines": false,
         "showframe": false
        },
        "legend": {
         "tracegroupgap": 0
        },
        "margin": {
         "t": 60
        },
        "template": {
         "data": {
          "bar": [
           {
            "error_x": {
             "color": "#2a3f5f"
            },
            "error_y": {
             "color": "#2a3f5f"
            },
            "marker": {
             "line": {
              "color": "#E5ECF6",
              "width": 0.5
             }
            },
            "type": "bar"
           }
          ],
          "barpolar": [
           {
            "marker": {
             "line": {
              "color": "#E5ECF6",
              "width": 0.5
             }
            },
            "type": "barpolar"
           }
          ],
          "carpet": [
           {
            "aaxis": {
             "endlinecolor": "#2a3f5f",
             "gridcolor": "white",
             "linecolor": "white",
             "minorgridcolor": "white",
             "startlinecolor": "#2a3f5f"
            },
            "baxis": {
             "endlinecolor": "#2a3f5f",
             "gridcolor": "white",
             "linecolor": "white",
             "minorgridcolor": "white",
             "startlinecolor": "#2a3f5f"
            },
            "type": "carpet"
           }
          ],
          "choropleth": [
           {
            "colorbar": {
             "outlinewidth": 0,
             "ticks": ""
            },
            "type": "choropleth"
           }
          ],
          "contour": [
           {
            "colorbar": {
             "outlinewidth": 0,
             "ticks": ""
            },
            "colorscale": [
             [
              0,
              "#0d0887"
             ],
             [
              0.1111111111111111,
              "#46039f"
             ],
             [
              0.2222222222222222,
              "#7201a8"
             ],
             [
              0.3333333333333333,
              "#9c179e"
             ],
             [
              0.4444444444444444,
              "#bd3786"
             ],
             [
              0.5555555555555556,
              "#d8576b"
             ],
             [
              0.6666666666666666,
              "#ed7953"
             ],
             [
              0.7777777777777778,
              "#fb9f3a"
             ],
             [
              0.8888888888888888,
              "#fdca26"
             ],
             [
              1,
              "#f0f921"
             ]
            ],
            "type": "contour"
           }
          ],
          "contourcarpet": [
           {
            "colorbar": {
             "outlinewidth": 0,
             "ticks": ""
            },
            "type": "contourcarpet"
           }
          ],
          "heatmap": [
           {
            "colorbar": {
             "outlinewidth": 0,
             "ticks": ""
            },
            "colorscale": [
             [
              0,
              "#0d0887"
             ],
             [
              0.1111111111111111,
              "#46039f"
             ],
             [
              0.2222222222222222,
              "#7201a8"
             ],
             [
              0.3333333333333333,
              "#9c179e"
             ],
             [
              0.4444444444444444,
              "#bd3786"
             ],
             [
              0.5555555555555556,
              "#d8576b"
             ],
             [
              0.6666666666666666,
              "#ed7953"
             ],
             [
              0.7777777777777778,
              "#fb9f3a"
             ],
             [
              0.8888888888888888,
              "#fdca26"
             ],
             [
              1,
              "#f0f921"
             ]
            ],
            "type": "heatmap"
           }
          ],
          "heatmapgl": [
           {
            "colorbar": {
             "outlinewidth": 0,
             "ticks": ""
            },
            "colorscale": [
             [
              0,
              "#0d0887"
             ],
             [
              0.1111111111111111,
              "#46039f"
             ],
             [
              0.2222222222222222,
              "#7201a8"
             ],
             [
              0.3333333333333333,
              "#9c179e"
             ],
             [
              0.4444444444444444,
              "#bd3786"
             ],
             [
              0.5555555555555556,
              "#d8576b"
             ],
             [
              0.6666666666666666,
              "#ed7953"
             ],
             [
              0.7777777777777778,
              "#fb9f3a"
             ],
             [
              0.8888888888888888,
              "#fdca26"
             ],
             [
              1,
              "#f0f921"
             ]
            ],
            "type": "heatmapgl"
           }
          ],
          "histogram": [
           {
            "marker": {
             "colorbar": {
              "outlinewidth": 0,
              "ticks": ""
             }
            },
            "type": "histogram"
           }
          ],
          "histogram2d": [
           {
            "colorbar": {
             "outlinewidth": 0,
             "ticks": ""
            },
            "colorscale": [
             [
              0,
              "#0d0887"
             ],
             [
              0.1111111111111111,
              "#46039f"
             ],
             [
              0.2222222222222222,
              "#7201a8"
             ],
             [
              0.3333333333333333,
              "#9c179e"
             ],
             [
              0.4444444444444444,
              "#bd3786"
             ],
             [
              0.5555555555555556,
              "#d8576b"
             ],
             [
              0.6666666666666666,
              "#ed7953"
             ],
             [
              0.7777777777777778,
              "#fb9f3a"
             ],
             [
              0.8888888888888888,
              "#fdca26"
             ],
             [
              1,
              "#f0f921"
             ]
            ],
            "type": "histogram2d"
           }
          ],
          "histogram2dcontour": [
           {
            "colorbar": {
             "outlinewidth": 0,
             "ticks": ""
            },
            "colorscale": [
             [
              0,
              "#0d0887"
             ],
             [
              0.1111111111111111,
              "#46039f"
             ],
             [
              0.2222222222222222,
              "#7201a8"
             ],
             [
              0.3333333333333333,
              "#9c179e"
             ],
             [
              0.4444444444444444,
              "#bd3786"
             ],
             [
              0.5555555555555556,
              "#d8576b"
             ],
             [
              0.6666666666666666,
              "#ed7953"
             ],
             [
              0.7777777777777778,
              "#fb9f3a"
             ],
             [
              0.8888888888888888,
              "#fdca26"
             ],
             [
              1,
              "#f0f921"
             ]
            ],
            "type": "histogram2dcontour"
           }
          ],
          "mesh3d": [
           {
            "colorbar": {
             "outlinewidth": 0,
             "ticks": ""
            },
            "type": "mesh3d"
           }
          ],
          "parcoords": [
           {
            "line": {
             "colorbar": {
              "outlinewidth": 0,
              "ticks": ""
             }
            },
            "type": "parcoords"
           }
          ],
          "pie": [
           {
            "automargin": true,
            "type": "pie"
           }
          ],
          "scatter": [
           {
            "marker": {
             "colorbar": {
              "outlinewidth": 0,
              "ticks": ""
             }
            },
            "type": "scatter"
           }
          ],
          "scatter3d": [
           {
            "line": {
             "colorbar": {
              "outlinewidth": 0,
              "ticks": ""
             }
            },
            "marker": {
             "colorbar": {
              "outlinewidth": 0,
              "ticks": ""
             }
            },
            "type": "scatter3d"
           }
          ],
          "scattercarpet": [
           {
            "marker": {
             "colorbar": {
              "outlinewidth": 0,
              "ticks": ""
             }
            },
            "type": "scattercarpet"
           }
          ],
          "scattergeo": [
           {
            "marker": {
             "colorbar": {
              "outlinewidth": 0,
              "ticks": ""
             }
            },
            "type": "scattergeo"
           }
          ],
          "scattergl": [
           {
            "marker": {
             "colorbar": {
              "outlinewidth": 0,
              "ticks": ""
             }
            },
            "type": "scattergl"
           }
          ],
          "scattermapbox": [
           {
            "marker": {
             "colorbar": {
              "outlinewidth": 0,
              "ticks": ""
             }
            },
            "type": "scattermapbox"
           }
          ],
          "scatterpolar": [
           {
            "marker": {
             "colorbar": {
              "outlinewidth": 0,
              "ticks": ""
             }
            },
            "type": "scatterpolar"
           }
          ],
          "scatterpolargl": [
           {
            "marker": {
             "colorbar": {
              "outlinewidth": 0,
              "ticks": ""
             }
            },
            "type": "scatterpolargl"
           }
          ],
          "scatterternary": [
           {
            "marker": {
             "colorbar": {
              "outlinewidth": 0,
              "ticks": ""
             }
            },
            "type": "scatterternary"
           }
          ],
          "surface": [
           {
            "colorbar": {
             "outlinewidth": 0,
             "ticks": ""
            },
            "colorscale": [
             [
              0,
              "#0d0887"
             ],
             [
              0.1111111111111111,
              "#46039f"
             ],
             [
              0.2222222222222222,
              "#7201a8"
             ],
             [
              0.3333333333333333,
              "#9c179e"
             ],
             [
              0.4444444444444444,
              "#bd3786"
             ],
             [
              0.5555555555555556,
              "#d8576b"
             ],
             [
              0.6666666666666666,
              "#ed7953"
             ],
             [
              0.7777777777777778,
              "#fb9f3a"
             ],
             [
              0.8888888888888888,
              "#fdca26"
             ],
             [
              1,
              "#f0f921"
             ]
            ],
            "type": "surface"
           }
          ],
          "table": [
           {
            "cells": {
             "fill": {
              "color": "#EBF0F8"
             },
             "line": {
              "color": "white"
             }
            },
            "header": {
             "fill": {
              "color": "#C8D4E3"
             },
             "line": {
              "color": "white"
             }
            },
            "type": "table"
           }
          ]
         },
         "layout": {
          "annotationdefaults": {
           "arrowcolor": "#2a3f5f",
           "arrowhead": 0,
           "arrowwidth": 1
          },
          "coloraxis": {
           "colorbar": {
            "outlinewidth": 0,
            "ticks": ""
           }
          },
          "colorscale": {
           "diverging": [
            [
             0,
             "#8e0152"
            ],
            [
             0.1,
             "#c51b7d"
            ],
            [
             0.2,
             "#de77ae"
            ],
            [
             0.3,
             "#f1b6da"
            ],
            [
             0.4,
             "#fde0ef"
            ],
            [
             0.5,
             "#f7f7f7"
            ],
            [
             0.6,
             "#e6f5d0"
            ],
            [
             0.7,
             "#b8e186"
            ],
            [
             0.8,
             "#7fbc41"
            ],
            [
             0.9,
             "#4d9221"
            ],
            [
             1,
             "#276419"
            ]
           ],
           "sequential": [
            [
             0,
             "#0d0887"
            ],
            [
             0.1111111111111111,
             "#46039f"
            ],
            [
             0.2222222222222222,
             "#7201a8"
            ],
            [
             0.3333333333333333,
             "#9c179e"
            ],
            [
             0.4444444444444444,
             "#bd3786"
            ],
            [
             0.5555555555555556,
             "#d8576b"
            ],
            [
             0.6666666666666666,
             "#ed7953"
            ],
            [
             0.7777777777777778,
             "#fb9f3a"
            ],
            [
             0.8888888888888888,
             "#fdca26"
            ],
            [
             1,
             "#f0f921"
            ]
           ],
           "sequentialminus": [
            [
             0,
             "#0d0887"
            ],
            [
             0.1111111111111111,
             "#46039f"
            ],
            [
             0.2222222222222222,
             "#7201a8"
            ],
            [
             0.3333333333333333,
             "#9c179e"
            ],
            [
             0.4444444444444444,
             "#bd3786"
            ],
            [
             0.5555555555555556,
             "#d8576b"
            ],
            [
             0.6666666666666666,
             "#ed7953"
            ],
            [
             0.7777777777777778,
             "#fb9f3a"
            ],
            [
             0.8888888888888888,
             "#fdca26"
            ],
            [
             1,
             "#f0f921"
            ]
           ]
          },
          "colorway": [
           "#636efa",
           "#EF553B",
           "#00cc96",
           "#ab63fa",
           "#FFA15A",
           "#19d3f3",
           "#FF6692",
           "#B6E880",
           "#FF97FF",
           "#FECB52"
          ],
          "font": {
           "color": "#2a3f5f"
          },
          "geo": {
           "bgcolor": "white",
           "lakecolor": "white",
           "landcolor": "#E5ECF6",
           "showlakes": true,
           "showland": true,
           "subunitcolor": "white"
          },
          "hoverlabel": {
           "align": "left"
          },
          "hovermode": "closest",
          "mapbox": {
           "style": "light"
          },
          "paper_bgcolor": "white",
          "plot_bgcolor": "#E5ECF6",
          "polar": {
           "angularaxis": {
            "gridcolor": "white",
            "linecolor": "white",
            "ticks": ""
           },
           "bgcolor": "#E5ECF6",
           "radialaxis": {
            "gridcolor": "white",
            "linecolor": "white",
            "ticks": ""
           }
          },
          "scene": {
           "xaxis": {
            "backgroundcolor": "#E5ECF6",
            "gridcolor": "white",
            "gridwidth": 2,
            "linecolor": "white",
            "showbackground": true,
            "ticks": "",
            "zerolinecolor": "white"
           },
           "yaxis": {
            "backgroundcolor": "#E5ECF6",
            "gridcolor": "white",
            "gridwidth": 2,
            "linecolor": "white",
            "showbackground": true,
            "ticks": "",
            "zerolinecolor": "white"
           },
           "zaxis": {
            "backgroundcolor": "#E5ECF6",
            "gridcolor": "white",
            "gridwidth": 2,
            "linecolor": "white",
            "showbackground": true,
            "ticks": "",
            "zerolinecolor": "white"
           }
          },
          "shapedefaults": {
           "line": {
            "color": "#2a3f5f"
           }
          },
          "ternary": {
           "aaxis": {
            "gridcolor": "white",
            "linecolor": "white",
            "ticks": ""
           },
           "baxis": {
            "gridcolor": "white",
            "linecolor": "white",
            "ticks": ""
           },
           "bgcolor": "#E5ECF6",
           "caxis": {
            "gridcolor": "white",
            "linecolor": "white",
            "ticks": ""
           }
          },
          "title": {
           "x": 0.05
          },
          "xaxis": {
           "automargin": true,
           "gridcolor": "white",
           "linecolor": "white",
           "ticks": "",
           "title": {
            "standoff": 15
           },
           "zerolinecolor": "white",
           "zerolinewidth": 2
          },
          "yaxis": {
           "automargin": true,
           "gridcolor": "white",
           "linecolor": "white",
           "ticks": "",
           "title": {
            "standoff": 15
           },
           "zerolinecolor": "white",
           "zerolinewidth": 2
          }
         }
        },
        "title": {
         "text": "Coronavirus Cases/1M Pop, by Country"
        }
       }
      },
      "text/html": [
       "<div>\n",
       "        \n",
       "        \n",
       "            <div id=\"dab13b47-bb0e-41bc-8a28-9e1ef615e7b3\" class=\"plotly-graph-div\" style=\"height:525px; width:100%;\"></div>\n",
       "            <script type=\"text/javascript\">\n",
       "                require([\"plotly\"], function(Plotly) {\n",
       "                    window.PLOTLYENV=window.PLOTLYENV || {};\n",
       "                    \n",
       "                if (document.getElementById(\"dab13b47-bb0e-41bc-8a28-9e1ef615e7b3\")) {\n",
       "                    Plotly.newPlot(\n",
       "                        'dab13b47-bb0e-41bc-8a28-9e1ef615e7b3',\n",
       "                        [{\"coloraxis\": \"coloraxis\", \"geo\": \"geo\", \"hovertemplate\": \"<b>%{hovertext}</b><br><br>country=%{location}<br>cases_per_mil=%{z}<extra></extra>\", \"hovertext\": [\"USA\", \"Brazil\", \"Russia\", \"India\", \"UK\", \"Spain\", \"Peru\", \"Chile\", \"Italy\", \"Iran\", \"Mexico\", \"Pakistan\", \"Turkey\", \"Saudi Arabia\", \"Germany\", \"France\", \"South Africa\", \"Bangladesh\", \"Canada\", \"Colombia\", \"Qatar\", \"China\", \"Egypt\", \"Sweden\", \"Argentina\", \"Belarus\", \"Belgium\", \"Indonesia\", \"Ecuador\", \"Iraq\", \"Netherlands\", \"UAE\", \"Kuwait\", \"Ukraine\", \"Singapore\", \"Portugal\", \"Kazakhstan\", \"Oman\", \"Philippines\", \"Poland\", \"Panama\", \"Bolivia\", \"Dominican Republic\", \"Afghanistan\", \"Switzerland\", \"Romania\", \"Bahrain\", \"Armenia\", \"Nigeria\", \"Israel\", \"Ireland\", \"Honduras\", \"Guatemala\", \"Japan\", \"Azerbaijan\", \"Ghana\", \"Austria\", \"Moldova\", \"Serbia\", \"Algeria\", \"Nepal\", \"Morocco\", \"S. Korea\", \"Denmark\", \"Cameroon\", \"Czechia\", \"Ivory Coast\", \"Sudan\", \"Uzbekistan\", \"Norway\", \"Malaysia\", \"Australia\", \"Finland\", \"DRC\", \"Senegal\", \"El Salvador\", \"Kenya\", \"North Macedonia\", \"Kyrgyzstan\", \"Venezuela\", \"Tajikistan\", \"Haiti\", \"Ethiopia\", \"Gabon\", \"Guinea\", \"Bulgaria\", \"Bosnia and Herzegovina\", \"Djibouti\", \"Mauritania\", \"French Guiana\", \"Luxembourg\", \"Hungary\", \"CAR\", \"Costa Rica\", \"Greece\", \"Thailand\", \"Palestine\", \"Somalia\", \"Croatia\", \"Albania\", \"Mayotte\", \"Nicaragua\", \"Madagascar\", \"Maldives\", \"Cuba\", \"Mali\", \"Paraguay\", \"Sri Lanka\", \"South Sudan\", \"Equatorial Guinea\", \"Estonia\", \"Iceland\", \"Lithuania\", \"Lebanon\", \"Slovakia\", \"Guinea-Bissau\", \"Slovenia\", \"Zambia\", \"New Zealand\", \"Sierra Leone\", \"Congo\", \"Malawi\", \"Cabo Verde\", \"Hong Kong\", \"Benin\", \"Yemen\", \"Tunisia\", \"Jordan\", \"Latvia\", \"Niger\", \"Rwanda\", \"Cyprus\", \"Burkina Faso\", \"Uruguay\", \"Georgia\", \"Mozambique\", \"Uganda\", \"Libya\", \"Eswatini\", \"Chad\", \"Andorra\", \"Liberia\", \"Sao Tome and Principe\", \"Diamond Princess\", \"Jamaica\", \"San Marino\", \"Malta\", \"Togo\", \"Montenegro\", \"Zimbabwe\", \"Channel Islands\", \"Suriname\", \"R\\u00e9union\", \"Tanzania\", \"Taiwan\", \"Vietnam\", \"Mauritius\", \"Isle of Man\", \"Syria\", \"Myanmar\", \"Comoros\", \"Namibia\", \"Angola\", \"Guyana\", \"Martinique\", \"Botswana\", \"Mongolia\", \"Eritrea\", \"Cayman Islands\", \"Faeroe Islands\", \"Guadeloupe\", \"Gibraltar\", \"Burundi\", \"Bermuda\", \"Brunei\", \"Cambodia\", \"Trinidad and Tobago\", \"Monaco\", \"Bahamas\", \"Aruba\", \"Barbados\", \"Liechtenstein\", \"Seychelles\", \"Sint Maarten\", \"Bhutan\", \"Antigua and Barbuda\", \"French Polynesia\", \"Gambia\", \"Macao\", \"Saint Martin\", \"Turks and Caicos\", \"Lesotho\", \"St. Vincent Grenadines\", \"Belize\", \"Timor-Leste\", \"Cura\\u00e7ao\", \"Grenada\", \"New Caledonia\", \"Laos\", \"Saint Lucia\", \"Dominica\", \"Fiji\", \"Saint Kitts and Nevis\", \"Falkland Islands\", \"Greenland\", \"Vatican City\", \"Montserrat\", \"Papua New Guinea\", \"Western Sahara\", \"MS Zaandam\", \"British Virgin Islands\", \"Caribbean Netherlands\", \"St. Barth\", \"Anguilla\", \"Saint Pierre Miquelon\"], \"locationmode\": \"country names\", \"locations\": [\"USA\", \"Brazil\", \"Russia\", \"India\", \"UK\", \"Spain\", \"Peru\", \"Chile\", \"Italy\", \"Iran\", \"Mexico\", \"Pakistan\", \"Turkey\", \"Saudi Arabia\", \"Germany\", \"France\", \"South Africa\", \"Bangladesh\", \"Canada\", \"Colombia\", \"Qatar\", \"China\", \"Egypt\", \"Sweden\", \"Argentina\", \"Belarus\", \"Belgium\", \"Indonesia\", \"Ecuador\", \"Iraq\", \"Netherlands\", \"UAE\", \"Kuwait\", \"Ukraine\", \"Singapore\", \"Portugal\", \"Kazakhstan\", \"Oman\", \"Philippines\", \"Poland\", \"Panama\", \"Bolivia\", \"Dominican Republic\", \"Afghanistan\", \"Switzerland\", \"Romania\", \"Bahrain\", \"Armenia\", \"Nigeria\", \"Israel\", \"Ireland\", \"Honduras\", \"Guatemala\", \"Japan\", \"Azerbaijan\", \"Ghana\", \"Austria\", \"Moldova\", \"Serbia\", \"Algeria\", \"Nepal\", \"Morocco\", \"S. Korea\", \"Denmark\", \"Cameroon\", \"Czechia\", \"Ivory Coast\", \"Sudan\", \"Uzbekistan\", \"Norway\", \"Malaysia\", \"Australia\", \"Finland\", \"DRC\", \"Senegal\", \"El Salvador\", \"Kenya\", \"North Macedonia\", \"Kyrgyzstan\", \"Venezuela\", \"Tajikistan\", \"Haiti\", \"Ethiopia\", \"Gabon\", \"Guinea\", \"Bulgaria\", \"Bosnia and Herzegovina\", \"Djibouti\", \"Mauritania\", \"French Guiana\", \"Luxembourg\", \"Hungary\", \"CAR\", \"Costa Rica\", \"Greece\", \"Thailand\", \"Palestine\", \"Somalia\", \"Croatia\", \"Albania\", \"Mayotte\", \"Nicaragua\", \"Madagascar\", \"Maldives\", \"Cuba\", \"Mali\", \"Paraguay\", \"Sri Lanka\", \"South Sudan\", \"Equatorial Guinea\", \"Estonia\", \"Iceland\", \"Lithuania\", \"Lebanon\", \"Slovakia\", \"Guinea-Bissau\", \"Slovenia\", \"Zambia\", \"New Zealand\", \"Sierra Leone\", \"Congo\", \"Malawi\", \"Cabo Verde\", \"Hong Kong\", \"Benin\", \"Yemen\", \"Tunisia\", \"Jordan\", \"Latvia\", \"Niger\", \"Rwanda\", \"Cyprus\", \"Burkina Faso\", \"Uruguay\", \"Georgia\", \"Mozambique\", \"Uganda\", \"Libya\", \"Eswatini\", \"Chad\", \"Andorra\", \"Liberia\", \"Sao Tome and Principe\", \"Diamond Princess\", \"Jamaica\", \"San Marino\", \"Malta\", \"Togo\", \"Montenegro\", \"Zimbabwe\", \"Channel Islands\", \"Suriname\", \"R\\u00e9union\", \"Tanzania\", \"Taiwan\", \"Vietnam\", \"Mauritius\", \"Isle of Man\", \"Syria\", \"Myanmar\", \"Comoros\", \"Namibia\", \"Angola\", \"Guyana\", \"Martinique\", \"Botswana\", \"Mongolia\", \"Eritrea\", \"Cayman Islands\", \"Faeroe Islands\", \"Guadeloupe\", \"Gibraltar\", \"Burundi\", \"Bermuda\", \"Brunei\", \"Cambodia\", \"Trinidad and Tobago\", \"Monaco\", \"Bahamas\", \"Aruba\", \"Barbados\", \"Liechtenstein\", \"Seychelles\", \"Sint Maarten\", \"Bhutan\", \"Antigua and Barbuda\", \"French Polynesia\", \"Gambia\", \"Macao\", \"Saint Martin\", \"Turks and Caicos\", \"Lesotho\", \"St. Vincent Grenadines\", \"Belize\", \"Timor-Leste\", \"Cura\\u00e7ao\", \"Grenada\", \"New Caledonia\", \"Laos\", \"Saint Lucia\", \"Dominica\", \"Fiji\", \"Saint Kitts and Nevis\", \"Falkland Islands\", \"Greenland\", \"Vatican City\", \"Montserrat\", \"Papua New Guinea\", \"Western Sahara\", \"MS Zaandam\", \"British Virgin Islands\", \"Caribbean Netherlands\", \"St. Barth\", \"Anguilla\", \"Saint Pierre Miquelon\"], \"name\": \"\", \"type\": \"choropleth\", \"z\": [8479.0, 6948.0, 4531.0, 454.0, 4618.0, 6356.0, 8749.0, 14885.0, 3985.0, 2772.0, 1798.0, 986.0, 2398.0, 5676.0, 2346.0, 2549.0, 2687.0, 931.0, 2773.0, 2005.0, 34866.0, 58.0, 682.0, 6901.0, 1487.0, 6635.0, 5315.0, 217.0, 3302.0, 1335.0, 2938.0, 5002.0, 11207.0, 1049.0, 7574.0, 4196.0, 2267.0, 8335.0, 354.0, 929.0, 7988.0, 2932.0, 3152.0, 823.0, 3694.0, 1442.0, 16118.0, 8996.0, 128.0, 2876.0, 5160.0, 2046.0, 1061.0, 148.0, 1843.0, 584.0, 1992.0, 4251.0, 1739.0, 334.0, 498.0, 351.0, 252.0, 2212.0, 474.0, 1131.0, 368.0, 218.0, 269.0, 1642.0, 267.0, 314.0, 1307.0, 80.0, 421.0, 1079.0, 129.0, 3180.0, 960.0, 213.0, 635.0, 530.0, 51.0, 2477.0, 412.0, 742.0, 1459.0, 4772.0, 962.0, 14882.0, 7021.0, 431.0, 784.0, 737.0, 332.0, 46.0, 584.0, 185.0, 709.0, 925.0, 9715.0, 380.0, 87.0, 4440.0, 208.0, 112.0, 317.0, 96.0, 181.0, 1427.0, 1500.0, 5421.0, 671.0, 263.0, 311.0, 841.0, 786.0, 89.0, 306.0, 190.0, 250.0, 70.0, 2340.0, 166.0, 99.0, 40.0, 100.0, 111.0, 595.0, 44.0, 80.0, 827.0, 46.0, 271.0, 235.0, 29.0, 20.0, 127.0, 752.0, 53.0, 11066.0, 162.0, 3263.0, null, 239.0, 20571.0, 1520.0, 80.0, 981.0, 41.0, 3284.0, 912.0, 593.0, 9.0, 19.0, 4.0, 268.0, 3951.0, 18.0, 6.0, 348.0, 115.0, 9.0, 315.0, 645.0, 97.0, 67.0, 61.0, 3058.0, 3827.0, 455.0, 5283.0, 14.0, 2344.0, 322.0, 8.0, 93.0, 2701.0, 264.0, 974.0, 338.0, 2151.0, 824.0, 1796.0, 100.0, 705.0, 221.0, 20.0, 71.0, 1112.0, 1085.0, 16.0, 261.0, 70.0, 18.0, 140.0, 204.0, 74.0, 3.0, 103.0, 250.0, 20.0, 282.0, 3737.0, 229.0, 14981.0, 2204.0, 1.0, 17.0, null, 265.0, 267.0, 607.0, 200.0, 173.0]}],\n",
       "                        {\"coloraxis\": {\"colorbar\": {\"title\": {\"text\": \"cases_per_mil\"}}, \"colorscale\": [[0.0, \"rgb(252, 222, 156)\"], [0.16666666666666666, \"rgb(250, 164, 118)\"], [0.3333333333333333, \"rgb(240, 116, 110)\"], [0.5, \"rgb(227, 79, 111)\"], [0.6666666666666666, \"rgb(220, 57, 119)\"], [0.8333333333333334, \"rgb(185, 37, 122)\"], [1.0, \"rgb(124, 29, 111)\"]]}, \"geo\": {\"center\": {}, \"domain\": {\"x\": [0.0, 1.0], \"y\": [0.0, 1.0]}, \"showcoastlines\": false, \"showframe\": false}, \"legend\": {\"tracegroupgap\": 0}, \"margin\": {\"t\": 60}, \"template\": {\"data\": {\"bar\": [{\"error_x\": {\"color\": \"#2a3f5f\"}, \"error_y\": {\"color\": \"#2a3f5f\"}, \"marker\": {\"line\": {\"color\": \"#E5ECF6\", \"width\": 0.5}}, \"type\": \"bar\"}], \"barpolar\": [{\"marker\": {\"line\": {\"color\": \"#E5ECF6\", \"width\": 0.5}}, \"type\": \"barpolar\"}], \"carpet\": [{\"aaxis\": {\"endlinecolor\": \"#2a3f5f\", \"gridcolor\": \"white\", \"linecolor\": \"white\", \"minorgridcolor\": \"white\", \"startlinecolor\": \"#2a3f5f\"}, \"baxis\": {\"endlinecolor\": \"#2a3f5f\", \"gridcolor\": \"white\", \"linecolor\": \"white\", \"minorgridcolor\": \"white\", \"startlinecolor\": \"#2a3f5f\"}, \"type\": \"carpet\"}], \"choropleth\": [{\"colorbar\": {\"outlinewidth\": 0, \"ticks\": \"\"}, \"type\": \"choropleth\"}], \"contour\": [{\"colorbar\": {\"outlinewidth\": 0, \"ticks\": \"\"}, \"colorscale\": [[0.0, \"#0d0887\"], [0.1111111111111111, \"#46039f\"], [0.2222222222222222, \"#7201a8\"], [0.3333333333333333, \"#9c179e\"], [0.4444444444444444, \"#bd3786\"], [0.5555555555555556, \"#d8576b\"], [0.6666666666666666, \"#ed7953\"], [0.7777777777777778, \"#fb9f3a\"], [0.8888888888888888, \"#fdca26\"], [1.0, \"#f0f921\"]], \"type\": \"contour\"}], \"contourcarpet\": [{\"colorbar\": {\"outlinewidth\": 0, \"ticks\": \"\"}, \"type\": \"contourcarpet\"}], \"heatmap\": [{\"colorbar\": {\"outlinewidth\": 0, \"ticks\": \"\"}, \"colorscale\": [[0.0, \"#0d0887\"], [0.1111111111111111, \"#46039f\"], [0.2222222222222222, \"#7201a8\"], [0.3333333333333333, \"#9c179e\"], [0.4444444444444444, \"#bd3786\"], [0.5555555555555556, \"#d8576b\"], [0.6666666666666666, \"#ed7953\"], [0.7777777777777778, \"#fb9f3a\"], [0.8888888888888888, \"#fdca26\"], [1.0, \"#f0f921\"]], \"type\": \"heatmap\"}], \"heatmapgl\": [{\"colorbar\": {\"outlinewidth\": 0, \"ticks\": \"\"}, \"colorscale\": [[0.0, \"#0d0887\"], [0.1111111111111111, \"#46039f\"], [0.2222222222222222, \"#7201a8\"], [0.3333333333333333, \"#9c179e\"], [0.4444444444444444, \"#bd3786\"], [0.5555555555555556, \"#d8576b\"], [0.6666666666666666, \"#ed7953\"], [0.7777777777777778, \"#fb9f3a\"], [0.8888888888888888, \"#fdca26\"], [1.0, \"#f0f921\"]], \"type\": \"heatmapgl\"}], \"histogram\": [{\"marker\": {\"colorbar\": {\"outlinewidth\": 0, \"ticks\": \"\"}}, \"type\": \"histogram\"}], \"histogram2d\": [{\"colorbar\": {\"outlinewidth\": 0, \"ticks\": \"\"}, \"colorscale\": [[0.0, \"#0d0887\"], [0.1111111111111111, \"#46039f\"], [0.2222222222222222, \"#7201a8\"], [0.3333333333333333, \"#9c179e\"], [0.4444444444444444, \"#bd3786\"], [0.5555555555555556, \"#d8576b\"], [0.6666666666666666, \"#ed7953\"], [0.7777777777777778, \"#fb9f3a\"], [0.8888888888888888, \"#fdca26\"], [1.0, \"#f0f921\"]], \"type\": \"histogram2d\"}], \"histogram2dcontour\": [{\"colorbar\": {\"outlinewidth\": 0, \"ticks\": \"\"}, \"colorscale\": [[0.0, \"#0d0887\"], [0.1111111111111111, \"#46039f\"], [0.2222222222222222, \"#7201a8\"], [0.3333333333333333, \"#9c179e\"], [0.4444444444444444, \"#bd3786\"], [0.5555555555555556, \"#d8576b\"], [0.6666666666666666, \"#ed7953\"], [0.7777777777777778, \"#fb9f3a\"], [0.8888888888888888, \"#fdca26\"], [1.0, \"#f0f921\"]], \"type\": \"histogram2dcontour\"}], \"mesh3d\": [{\"colorbar\": {\"outlinewidth\": 0, \"ticks\": \"\"}, \"type\": \"mesh3d\"}], \"parcoords\": [{\"line\": {\"colorbar\": {\"outlinewidth\": 0, \"ticks\": \"\"}}, \"type\": \"parcoords\"}], \"pie\": [{\"automargin\": true, \"type\": \"pie\"}], \"scatter\": [{\"marker\": {\"colorbar\": {\"outlinewidth\": 0, \"ticks\": \"\"}}, \"type\": \"scatter\"}], \"scatter3d\": [{\"line\": {\"colorbar\": {\"outlinewidth\": 0, \"ticks\": \"\"}}, \"marker\": {\"colorbar\": {\"outlinewidth\": 0, \"ticks\": \"\"}}, \"type\": \"scatter3d\"}], \"scattercarpet\": [{\"marker\": {\"colorbar\": {\"outlinewidth\": 0, \"ticks\": \"\"}}, \"type\": \"scattercarpet\"}], \"scattergeo\": [{\"marker\": {\"colorbar\": {\"outlinewidth\": 0, \"ticks\": \"\"}}, \"type\": \"scattergeo\"}], \"scattergl\": [{\"marker\": {\"colorbar\": {\"outlinewidth\": 0, \"ticks\": \"\"}}, \"type\": \"scattergl\"}], \"scattermapbox\": [{\"marker\": {\"colorbar\": {\"outlinewidth\": 0, \"ticks\": \"\"}}, \"type\": \"scattermapbox\"}], \"scatterpolar\": [{\"marker\": {\"colorbar\": {\"outlinewidth\": 0, \"ticks\": \"\"}}, \"type\": \"scatterpolar\"}], \"scatterpolargl\": [{\"marker\": {\"colorbar\": {\"outlinewidth\": 0, \"ticks\": \"\"}}, \"type\": \"scatterpolargl\"}], \"scatterternary\": [{\"marker\": {\"colorbar\": {\"outlinewidth\": 0, \"ticks\": \"\"}}, \"type\": \"scatterternary\"}], \"surface\": [{\"colorbar\": {\"outlinewidth\": 0, \"ticks\": \"\"}, \"colorscale\": [[0.0, \"#0d0887\"], [0.1111111111111111, \"#46039f\"], [0.2222222222222222, \"#7201a8\"], [0.3333333333333333, \"#9c179e\"], [0.4444444444444444, \"#bd3786\"], [0.5555555555555556, \"#d8576b\"], [0.6666666666666666, \"#ed7953\"], [0.7777777777777778, \"#fb9f3a\"], [0.8888888888888888, \"#fdca26\"], [1.0, \"#f0f921\"]], \"type\": \"surface\"}], \"table\": [{\"cells\": {\"fill\": {\"color\": \"#EBF0F8\"}, \"line\": {\"color\": \"white\"}}, \"header\": {\"fill\": {\"color\": \"#C8D4E3\"}, \"line\": {\"color\": \"white\"}}, \"type\": \"table\"}]}, \"layout\": {\"annotationdefaults\": {\"arrowcolor\": \"#2a3f5f\", \"arrowhead\": 0, \"arrowwidth\": 1}, \"coloraxis\": {\"colorbar\": {\"outlinewidth\": 0, \"ticks\": \"\"}}, \"colorscale\": {\"diverging\": [[0, \"#8e0152\"], [0.1, \"#c51b7d\"], [0.2, \"#de77ae\"], [0.3, \"#f1b6da\"], [0.4, \"#fde0ef\"], [0.5, \"#f7f7f7\"], [0.6, \"#e6f5d0\"], [0.7, \"#b8e186\"], [0.8, \"#7fbc41\"], [0.9, \"#4d9221\"], [1, \"#276419\"]], \"sequential\": [[0.0, \"#0d0887\"], [0.1111111111111111, \"#46039f\"], [0.2222222222222222, \"#7201a8\"], [0.3333333333333333, \"#9c179e\"], [0.4444444444444444, \"#bd3786\"], [0.5555555555555556, \"#d8576b\"], [0.6666666666666666, \"#ed7953\"], [0.7777777777777778, \"#fb9f3a\"], [0.8888888888888888, \"#fdca26\"], [1.0, \"#f0f921\"]], \"sequentialminus\": [[0.0, \"#0d0887\"], [0.1111111111111111, \"#46039f\"], [0.2222222222222222, \"#7201a8\"], [0.3333333333333333, \"#9c179e\"], [0.4444444444444444, \"#bd3786\"], [0.5555555555555556, \"#d8576b\"], [0.6666666666666666, \"#ed7953\"], [0.7777777777777778, \"#fb9f3a\"], [0.8888888888888888, \"#fdca26\"], [1.0, \"#f0f921\"]]}, \"colorway\": [\"#636efa\", \"#EF553B\", \"#00cc96\", \"#ab63fa\", \"#FFA15A\", \"#19d3f3\", \"#FF6692\", \"#B6E880\", \"#FF97FF\", \"#FECB52\"], \"font\": {\"color\": \"#2a3f5f\"}, \"geo\": {\"bgcolor\": \"white\", \"lakecolor\": \"white\", \"landcolor\": \"#E5ECF6\", \"showlakes\": true, \"showland\": true, \"subunitcolor\": \"white\"}, \"hoverlabel\": {\"align\": \"left\"}, \"hovermode\": \"closest\", \"mapbox\": {\"style\": \"light\"}, \"paper_bgcolor\": \"white\", \"plot_bgcolor\": \"#E5ECF6\", \"polar\": {\"angularaxis\": {\"gridcolor\": \"white\", \"linecolor\": \"white\", \"ticks\": \"\"}, \"bgcolor\": \"#E5ECF6\", \"radialaxis\": {\"gridcolor\": \"white\", \"linecolor\": \"white\", \"ticks\": \"\"}}, \"scene\": {\"xaxis\": {\"backgroundcolor\": \"#E5ECF6\", \"gridcolor\": \"white\", \"gridwidth\": 2, \"linecolor\": \"white\", \"showbackground\": true, \"ticks\": \"\", \"zerolinecolor\": \"white\"}, \"yaxis\": {\"backgroundcolor\": \"#E5ECF6\", \"gridcolor\": \"white\", \"gridwidth\": 2, \"linecolor\": \"white\", \"showbackground\": true, \"ticks\": \"\", \"zerolinecolor\": \"white\"}, \"zaxis\": {\"backgroundcolor\": \"#E5ECF6\", \"gridcolor\": \"white\", \"gridwidth\": 2, \"linecolor\": \"white\", \"showbackground\": true, \"ticks\": \"\", \"zerolinecolor\": \"white\"}}, \"shapedefaults\": {\"line\": {\"color\": \"#2a3f5f\"}}, \"ternary\": {\"aaxis\": {\"gridcolor\": \"white\", \"linecolor\": \"white\", \"ticks\": \"\"}, \"baxis\": {\"gridcolor\": \"white\", \"linecolor\": \"white\", \"ticks\": \"\"}, \"bgcolor\": \"#E5ECF6\", \"caxis\": {\"gridcolor\": \"white\", \"linecolor\": \"white\", \"ticks\": \"\"}}, \"title\": {\"x\": 0.05}, \"xaxis\": {\"automargin\": true, \"gridcolor\": \"white\", \"linecolor\": \"white\", \"ticks\": \"\", \"title\": {\"standoff\": 15}, \"zerolinecolor\": \"white\", \"zerolinewidth\": 2}, \"yaxis\": {\"automargin\": true, \"gridcolor\": \"white\", \"linecolor\": \"white\", \"ticks\": \"\", \"title\": {\"standoff\": 15}, \"zerolinecolor\": \"white\", \"zerolinewidth\": 2}}}, \"title\": {\"text\": \"Coronavirus Cases/1M Pop, by Country\"}},\n",
       "                        {\"responsive\": true}\n",
       "                    ).then(function(){\n",
       "                            \n",
       "var gd = document.getElementById('dab13b47-bb0e-41bc-8a28-9e1ef615e7b3');\n",
       "var x = new MutationObserver(function (mutations, observer) {{\n",
       "        var display = window.getComputedStyle(gd).display;\n",
       "        if (!display || display === 'none') {{\n",
       "            console.log([gd, 'removed!']);\n",
       "            Plotly.purge(gd);\n",
       "            observer.disconnect();\n",
       "        }}\n",
       "}});\n",
       "\n",
       "// Listen for the removal of the full notebook cells\n",
       "var notebookContainer = gd.closest('#notebook-container');\n",
       "if (notebookContainer) {{\n",
       "    x.observe(notebookContainer, {childList: true});\n",
       "}}\n",
       "\n",
       "// Listen for the clearing of the current output cell\n",
       "var outputEl = gd.closest('.output');\n",
       "if (outputEl) {{\n",
       "    x.observe(outputEl, {childList: true});\n",
       "}}\n",
       "\n",
       "                        })\n",
       "                };\n",
       "                });\n",
       "            </script>\n",
       "        </div>"
      ]
     },
     "metadata": {},
     "output_type": "display_data"
    }
   ],
   "source": [
    "fig = px.choropleth(covid,\n",
    "    locations='country',\n",
    "    locationmode='country names',\n",
    "    color='cases_per_mil',\n",
    "    hover_name='country',\n",
    "    color_continuous_scale='sunsetdark')\n",
    "\n",
    "fig.update_layout(\n",
    "    title_text='Coronavirus Cases/1M Pop, by Country',\n",
    "    geo=dict(showframe=False,showcoastlines=False))\n",
    "\n",
    "fig.show()"
   ]
  },
  {
   "cell_type": "code",
   "execution_count": 10,
   "metadata": {},
   "outputs": [
    {
     "data": {
      "text/html": [
       "<div>\n",
       "<style scoped>\n",
       "    .dataframe tbody tr th:only-of-type {\n",
       "        vertical-align: middle;\n",
       "    }\n",
       "\n",
       "    .dataframe tbody tr th {\n",
       "        vertical-align: top;\n",
       "    }\n",
       "\n",
       "    .dataframe thead th {\n",
       "        text-align: right;\n",
       "    }\n",
       "</style>\n",
       "<table border=\"1\" class=\"dataframe\">\n",
       "  <thead>\n",
       "    <tr style=\"text-align: right;\">\n",
       "      <th></th>\n",
       "      <th>country</th>\n",
       "      <th>total_deaths</th>\n",
       "    </tr>\n",
       "  </thead>\n",
       "  <tbody>\n",
       "    <tr>\n",
       "      <th>0</th>\n",
       "      <td>USA</td>\n",
       "      <td>131136.0</td>\n",
       "    </tr>\n",
       "    <tr>\n",
       "      <th>1</th>\n",
       "      <td>Brazil</td>\n",
       "      <td>61314.0</td>\n",
       "    </tr>\n",
       "    <tr>\n",
       "      <th>4</th>\n",
       "      <td>UK</td>\n",
       "      <td>43906.0</td>\n",
       "    </tr>\n",
       "    <tr>\n",
       "      <th>8</th>\n",
       "      <td>Italy</td>\n",
       "      <td>34818.0</td>\n",
       "    </tr>\n",
       "    <tr>\n",
       "      <th>15</th>\n",
       "      <td>France</td>\n",
       "      <td>29875.0</td>\n",
       "    </tr>\n",
       "    <tr>\n",
       "      <th>10</th>\n",
       "      <td>Mexico</td>\n",
       "      <td>28510.0</td>\n",
       "    </tr>\n",
       "    <tr>\n",
       "      <th>5</th>\n",
       "      <td>Spain</td>\n",
       "      <td>28368.0</td>\n",
       "    </tr>\n",
       "    <tr>\n",
       "      <th>3</th>\n",
       "      <td>India</td>\n",
       "      <td>18226.0</td>\n",
       "    </tr>\n",
       "    <tr>\n",
       "      <th>9</th>\n",
       "      <td>Iran</td>\n",
       "      <td>11106.0</td>\n",
       "    </tr>\n",
       "    <tr>\n",
       "      <th>6</th>\n",
       "      <td>Peru</td>\n",
       "      <td>9860.0</td>\n",
       "    </tr>\n",
       "    <tr>\n",
       "      <th>26</th>\n",
       "      <td>Belgium</td>\n",
       "      <td>9761.0</td>\n",
       "    </tr>\n",
       "    <tr>\n",
       "      <th>2</th>\n",
       "      <td>Russia</td>\n",
       "      <td>9683.0</td>\n",
       "    </tr>\n",
       "    <tr>\n",
       "      <th>14</th>\n",
       "      <td>Germany</td>\n",
       "      <td>9063.0</td>\n",
       "    </tr>\n",
       "    <tr>\n",
       "      <th>18</th>\n",
       "      <td>Canada</td>\n",
       "      <td>8637.0</td>\n",
       "    </tr>\n",
       "    <tr>\n",
       "      <th>30</th>\n",
       "      <td>Netherlands</td>\n",
       "      <td>6113.0</td>\n",
       "    </tr>\n",
       "    <tr>\n",
       "      <th>7</th>\n",
       "      <td>Chile</td>\n",
       "      <td>5920.0</td>\n",
       "    </tr>\n",
       "    <tr>\n",
       "      <th>23</th>\n",
       "      <td>Sweden</td>\n",
       "      <td>5370.0</td>\n",
       "    </tr>\n",
       "    <tr>\n",
       "      <th>12</th>\n",
       "      <td>Turkey</td>\n",
       "      <td>5167.0</td>\n",
       "    </tr>\n",
       "    <tr>\n",
       "      <th>21</th>\n",
       "      <td>China</td>\n",
       "      <td>4634.0</td>\n",
       "    </tr>\n",
       "    <tr>\n",
       "      <th>28</th>\n",
       "      <td>Ecuador</td>\n",
       "      <td>4576.0</td>\n",
       "    </tr>\n",
       "    <tr>\n",
       "      <th>11</th>\n",
       "      <td>Pakistan</td>\n",
       "      <td>4473.0</td>\n",
       "    </tr>\n",
       "    <tr>\n",
       "      <th>19</th>\n",
       "      <td>Colombia</td>\n",
       "      <td>3470.0</td>\n",
       "    </tr>\n",
       "    <tr>\n",
       "      <th>22</th>\n",
       "      <td>Egypt</td>\n",
       "      <td>3034.0</td>\n",
       "    </tr>\n",
       "    <tr>\n",
       "      <th>27</th>\n",
       "      <td>Indonesia</td>\n",
       "      <td>2987.0</td>\n",
       "    </tr>\n",
       "    <tr>\n",
       "      <th>16</th>\n",
       "      <td>South Africa</td>\n",
       "      <td>2749.0</td>\n",
       "    </tr>\n",
       "  </tbody>\n",
       "</table>\n",
       "</div>"
      ],
      "text/plain": [
       "         country  total_deaths\n",
       "0            USA      131136.0\n",
       "1         Brazil       61314.0\n",
       "4             UK       43906.0\n",
       "8          Italy       34818.0\n",
       "15        France       29875.0\n",
       "10        Mexico       28510.0\n",
       "5          Spain       28368.0\n",
       "3          India       18226.0\n",
       "9           Iran       11106.0\n",
       "6           Peru        9860.0\n",
       "26       Belgium        9761.0\n",
       "2         Russia        9683.0\n",
       "14       Germany        9063.0\n",
       "18        Canada        8637.0\n",
       "30   Netherlands        6113.0\n",
       "7          Chile        5920.0\n",
       "23        Sweden        5370.0\n",
       "12        Turkey        5167.0\n",
       "21         China        4634.0\n",
       "28       Ecuador        4576.0\n",
       "11      Pakistan        4473.0\n",
       "19      Colombia        3470.0\n",
       "22         Egypt        3034.0\n",
       "27     Indonesia        2987.0\n",
       "16  South Africa        2749.0"
      ]
     },
     "execution_count": 10,
     "metadata": {},
     "output_type": "execute_result"
    }
   ],
   "source": [
    "# total deaths\n",
    "covid[['country','total_deaths']].sort_values(by='total_deaths',ascending=False).head(25)"
   ]
  },
  {
   "cell_type": "code",
   "execution_count": 11,
   "metadata": {},
   "outputs": [
    {
     "data": {
      "application/vnd.plotly.v1+json": {
       "config": {
        "plotlyServerURL": "https://plot.ly"
       },
       "data": [
        {
         "coloraxis": "coloraxis",
         "geo": "geo",
         "hovertemplate": "<b>%{hovertext}</b><br><br>country=%{location}<br>total_deaths=%{z}<extra></extra>",
         "hovertext": [
          "USA",
          "Brazil",
          "Russia",
          "India",
          "UK",
          "Spain",
          "Peru",
          "Chile",
          "Italy",
          "Iran",
          "Mexico",
          "Pakistan",
          "Turkey",
          "Saudi Arabia",
          "Germany",
          "France",
          "South Africa",
          "Bangladesh",
          "Canada",
          "Colombia",
          "Qatar",
          "China",
          "Egypt",
          "Sweden",
          "Argentina",
          "Belarus",
          "Belgium",
          "Indonesia",
          "Ecuador",
          "Iraq",
          "Netherlands",
          "UAE",
          "Kuwait",
          "Ukraine",
          "Singapore",
          "Portugal",
          "Kazakhstan",
          "Oman",
          "Philippines",
          "Poland",
          "Panama",
          "Bolivia",
          "Dominican Republic",
          "Afghanistan",
          "Switzerland",
          "Romania",
          "Bahrain",
          "Armenia",
          "Nigeria",
          "Israel",
          "Ireland",
          "Honduras",
          "Guatemala",
          "Japan",
          "Azerbaijan",
          "Ghana",
          "Austria",
          "Moldova",
          "Serbia",
          "Algeria",
          "Nepal",
          "Morocco",
          "S. Korea",
          "Denmark",
          "Cameroon",
          "Czechia",
          "Ivory Coast",
          "Sudan",
          "Uzbekistan",
          "Norway",
          "Malaysia",
          "Australia",
          "Finland",
          "DRC",
          "Senegal",
          "El Salvador",
          "Kenya",
          "North Macedonia",
          "Kyrgyzstan",
          "Venezuela",
          "Tajikistan",
          "Haiti",
          "Ethiopia",
          "Gabon",
          "Guinea",
          "Bulgaria",
          "Bosnia and Herzegovina",
          "Djibouti",
          "Mauritania",
          "French Guiana",
          "Luxembourg",
          "Hungary",
          "CAR",
          "Costa Rica",
          "Greece",
          "Thailand",
          "Palestine",
          "Somalia",
          "Croatia",
          "Albania",
          "Mayotte",
          "Nicaragua",
          "Madagascar",
          "Maldives",
          "Cuba",
          "Mali",
          "Paraguay",
          "Sri Lanka",
          "South Sudan",
          "Equatorial Guinea",
          "Estonia",
          "Iceland",
          "Lithuania",
          "Lebanon",
          "Slovakia",
          "Guinea-Bissau",
          "Slovenia",
          "Zambia",
          "New Zealand",
          "Sierra Leone",
          "Congo",
          "Malawi",
          "Cabo Verde",
          "Hong Kong",
          "Benin",
          "Yemen",
          "Tunisia",
          "Jordan",
          "Latvia",
          "Niger",
          "Rwanda",
          "Cyprus",
          "Burkina Faso",
          "Uruguay",
          "Georgia",
          "Mozambique",
          "Uganda",
          "Libya",
          "Eswatini",
          "Chad",
          "Andorra",
          "Liberia",
          "Sao Tome and Principe",
          "Diamond Princess",
          "Jamaica",
          "San Marino",
          "Malta",
          "Togo",
          "Montenegro",
          "Zimbabwe",
          "Channel Islands",
          "Suriname",
          "Réunion",
          "Tanzania",
          "Taiwan",
          "Vietnam",
          "Mauritius",
          "Isle of Man",
          "Syria",
          "Myanmar",
          "Comoros",
          "Namibia",
          "Angola",
          "Guyana",
          "Martinique",
          "Botswana",
          "Mongolia",
          "Eritrea",
          "Cayman Islands",
          "Faeroe Islands",
          "Guadeloupe",
          "Gibraltar",
          "Burundi",
          "Bermuda",
          "Brunei",
          "Cambodia",
          "Trinidad and Tobago",
          "Monaco",
          "Bahamas",
          "Aruba",
          "Barbados",
          "Liechtenstein",
          "Seychelles",
          "Sint Maarten",
          "Bhutan",
          "Antigua and Barbuda",
          "French Polynesia",
          "Gambia",
          "Macao",
          "Saint Martin",
          "Turks and Caicos",
          "Lesotho",
          "St. Vincent Grenadines",
          "Belize",
          "Timor-Leste",
          "Curaçao",
          "Grenada",
          "New Caledonia",
          "Laos",
          "Saint Lucia",
          "Dominica",
          "Fiji",
          "Saint Kitts and Nevis",
          "Falkland Islands",
          "Greenland",
          "Vatican City",
          "Montserrat",
          "Papua New Guinea",
          "Western Sahara",
          "MS Zaandam",
          "British Virgin Islands",
          "Caribbean Netherlands",
          "St. Barth",
          "Anguilla",
          "Saint Pierre Miquelon"
         ],
         "locationmode": "country names",
         "locations": [
          "USA",
          "Brazil",
          "Russia",
          "India",
          "UK",
          "Spain",
          "Peru",
          "Chile",
          "Italy",
          "Iran",
          "Mexico",
          "Pakistan",
          "Turkey",
          "Saudi Arabia",
          "Germany",
          "France",
          "South Africa",
          "Bangladesh",
          "Canada",
          "Colombia",
          "Qatar",
          "China",
          "Egypt",
          "Sweden",
          "Argentina",
          "Belarus",
          "Belgium",
          "Indonesia",
          "Ecuador",
          "Iraq",
          "Netherlands",
          "UAE",
          "Kuwait",
          "Ukraine",
          "Singapore",
          "Portugal",
          "Kazakhstan",
          "Oman",
          "Philippines",
          "Poland",
          "Panama",
          "Bolivia",
          "Dominican Republic",
          "Afghanistan",
          "Switzerland",
          "Romania",
          "Bahrain",
          "Armenia",
          "Nigeria",
          "Israel",
          "Ireland",
          "Honduras",
          "Guatemala",
          "Japan",
          "Azerbaijan",
          "Ghana",
          "Austria",
          "Moldova",
          "Serbia",
          "Algeria",
          "Nepal",
          "Morocco",
          "S. Korea",
          "Denmark",
          "Cameroon",
          "Czechia",
          "Ivory Coast",
          "Sudan",
          "Uzbekistan",
          "Norway",
          "Malaysia",
          "Australia",
          "Finland",
          "DRC",
          "Senegal",
          "El Salvador",
          "Kenya",
          "North Macedonia",
          "Kyrgyzstan",
          "Venezuela",
          "Tajikistan",
          "Haiti",
          "Ethiopia",
          "Gabon",
          "Guinea",
          "Bulgaria",
          "Bosnia and Herzegovina",
          "Djibouti",
          "Mauritania",
          "French Guiana",
          "Luxembourg",
          "Hungary",
          "CAR",
          "Costa Rica",
          "Greece",
          "Thailand",
          "Palestine",
          "Somalia",
          "Croatia",
          "Albania",
          "Mayotte",
          "Nicaragua",
          "Madagascar",
          "Maldives",
          "Cuba",
          "Mali",
          "Paraguay",
          "Sri Lanka",
          "South Sudan",
          "Equatorial Guinea",
          "Estonia",
          "Iceland",
          "Lithuania",
          "Lebanon",
          "Slovakia",
          "Guinea-Bissau",
          "Slovenia",
          "Zambia",
          "New Zealand",
          "Sierra Leone",
          "Congo",
          "Malawi",
          "Cabo Verde",
          "Hong Kong",
          "Benin",
          "Yemen",
          "Tunisia",
          "Jordan",
          "Latvia",
          "Niger",
          "Rwanda",
          "Cyprus",
          "Burkina Faso",
          "Uruguay",
          "Georgia",
          "Mozambique",
          "Uganda",
          "Libya",
          "Eswatini",
          "Chad",
          "Andorra",
          "Liberia",
          "Sao Tome and Principe",
          "Diamond Princess",
          "Jamaica",
          "San Marino",
          "Malta",
          "Togo",
          "Montenegro",
          "Zimbabwe",
          "Channel Islands",
          "Suriname",
          "Réunion",
          "Tanzania",
          "Taiwan",
          "Vietnam",
          "Mauritius",
          "Isle of Man",
          "Syria",
          "Myanmar",
          "Comoros",
          "Namibia",
          "Angola",
          "Guyana",
          "Martinique",
          "Botswana",
          "Mongolia",
          "Eritrea",
          "Cayman Islands",
          "Faeroe Islands",
          "Guadeloupe",
          "Gibraltar",
          "Burundi",
          "Bermuda",
          "Brunei",
          "Cambodia",
          "Trinidad and Tobago",
          "Monaco",
          "Bahamas",
          "Aruba",
          "Barbados",
          "Liechtenstein",
          "Seychelles",
          "Sint Maarten",
          "Bhutan",
          "Antigua and Barbuda",
          "French Polynesia",
          "Gambia",
          "Macao",
          "Saint Martin",
          "Turks and Caicos",
          "Lesotho",
          "St. Vincent Grenadines",
          "Belize",
          "Timor-Leste",
          "Curaçao",
          "Grenada",
          "New Caledonia",
          "Laos",
          "Saint Lucia",
          "Dominica",
          "Fiji",
          "Saint Kitts and Nevis",
          "Falkland Islands",
          "Greenland",
          "Vatican City",
          "Montserrat",
          "Papua New Guinea",
          "Western Sahara",
          "MS Zaandam",
          "British Virgin Islands",
          "Caribbean Netherlands",
          "St. Barth",
          "Anguilla",
          "Saint Pierre Miquelon"
         ],
         "name": "",
         "type": "choropleth",
         "z": [
          131136,
          61314,
          9683,
          18226,
          43906,
          28368,
          9860,
          5920,
          34818,
          11106,
          28510,
          4473,
          5167,
          1752,
          9063,
          29875,
          2749,
          1926,
          8637,
          3470,
          118,
          4634,
          3034,
          5370,
          1363,
          405,
          9761,
          2987,
          4576,
          2160,
          6113,
          317,
          359,
          1185,
          26,
          1587,
          188,
          188,
          1274,
          1492,
          645,
          1201,
          765,
          807,
          1965,
          1687,
          93,
          459,
          603,
          324,
          1738,
          542,
          817,
          974,
          228,
          117,
          705,
          560,
          287,
          928,
          31,
          229,
          282,
          606,
          313,
          353,
          68,
          602,
          27,
          251,
          121,
          104,
          328,
          176,
          121,
          191,
          152,
          321,
          66,
          54,
          52,
          107,
          103,
          42,
          33,
          232,
          189,
          55,
          129,
          16,
          110,
          587,
          47,
          17,
          192,
          58,
          8,
          90,
          110,
          69,
          35,
          83,
          24,
          10,
          86,
          117,
          19,
          11,
          38,
          32,
          69,
          10,
          78,
          35,
          28,
          24,
          111,
          30,
          22,
          60,
          41,
          16,
          15,
          7,
          21,
          318,
          50,
          9,
          30,
          67,
          3,
          19,
          53,
          28,
          15,
          6,
          null,
          25,
          11,
          74,
          52,
          37,
          13,
          13,
          10,
          42,
          9,
          14,
          12,
          7,
          47,
          13,
          2,
          21,
          7,
          null,
          10,
          24,
          9,
          6,
          7,
          null,
          15,
          13,
          14,
          1,
          null,
          null,
          1,
          null,
          14,
          null,
          1,
          9,
          3,
          null,
          8,
          4,
          11,
          3,
          7,
          1,
          null,
          15,
          null,
          3,
          null,
          2,
          null,
          3,
          2,
          null,
          null,
          2,
          null,
          1,
          null,
          null,
          null,
          null,
          null,
          null,
          null,
          null,
          null,
          null,
          1,
          null,
          1,
          2,
          1,
          null,
          null,
          null,
          null
         ]
        }
       ],
       "layout": {
        "coloraxis": {
         "colorbar": {
          "title": {
           "text": "total_deaths"
          }
         },
         "colorscale": [
          [
           0,
           "rgb(252, 222, 156)"
          ],
          [
           0.16666666666666666,
           "rgb(250, 164, 118)"
          ],
          [
           0.3333333333333333,
           "rgb(240, 116, 110)"
          ],
          [
           0.5,
           "rgb(227, 79, 111)"
          ],
          [
           0.6666666666666666,
           "rgb(220, 57, 119)"
          ],
          [
           0.8333333333333334,
           "rgb(185, 37, 122)"
          ],
          [
           1,
           "rgb(124, 29, 111)"
          ]
         ]
        },
        "geo": {
         "center": {},
         "domain": {
          "x": [
           0,
           1
          ],
          "y": [
           0,
           1
          ]
         },
         "showcoastlines": false,
         "showframe": false
        },
        "legend": {
         "tracegroupgap": 0
        },
        "margin": {
         "t": 60
        },
        "template": {
         "data": {
          "bar": [
           {
            "error_x": {
             "color": "#2a3f5f"
            },
            "error_y": {
             "color": "#2a3f5f"
            },
            "marker": {
             "line": {
              "color": "#E5ECF6",
              "width": 0.5
             }
            },
            "type": "bar"
           }
          ],
          "barpolar": [
           {
            "marker": {
             "line": {
              "color": "#E5ECF6",
              "width": 0.5
             }
            },
            "type": "barpolar"
           }
          ],
          "carpet": [
           {
            "aaxis": {
             "endlinecolor": "#2a3f5f",
             "gridcolor": "white",
             "linecolor": "white",
             "minorgridcolor": "white",
             "startlinecolor": "#2a3f5f"
            },
            "baxis": {
             "endlinecolor": "#2a3f5f",
             "gridcolor": "white",
             "linecolor": "white",
             "minorgridcolor": "white",
             "startlinecolor": "#2a3f5f"
            },
            "type": "carpet"
           }
          ],
          "choropleth": [
           {
            "colorbar": {
             "outlinewidth": 0,
             "ticks": ""
            },
            "type": "choropleth"
           }
          ],
          "contour": [
           {
            "colorbar": {
             "outlinewidth": 0,
             "ticks": ""
            },
            "colorscale": [
             [
              0,
              "#0d0887"
             ],
             [
              0.1111111111111111,
              "#46039f"
             ],
             [
              0.2222222222222222,
              "#7201a8"
             ],
             [
              0.3333333333333333,
              "#9c179e"
             ],
             [
              0.4444444444444444,
              "#bd3786"
             ],
             [
              0.5555555555555556,
              "#d8576b"
             ],
             [
              0.6666666666666666,
              "#ed7953"
             ],
             [
              0.7777777777777778,
              "#fb9f3a"
             ],
             [
              0.8888888888888888,
              "#fdca26"
             ],
             [
              1,
              "#f0f921"
             ]
            ],
            "type": "contour"
           }
          ],
          "contourcarpet": [
           {
            "colorbar": {
             "outlinewidth": 0,
             "ticks": ""
            },
            "type": "contourcarpet"
           }
          ],
          "heatmap": [
           {
            "colorbar": {
             "outlinewidth": 0,
             "ticks": ""
            },
            "colorscale": [
             [
              0,
              "#0d0887"
             ],
             [
              0.1111111111111111,
              "#46039f"
             ],
             [
              0.2222222222222222,
              "#7201a8"
             ],
             [
              0.3333333333333333,
              "#9c179e"
             ],
             [
              0.4444444444444444,
              "#bd3786"
             ],
             [
              0.5555555555555556,
              "#d8576b"
             ],
             [
              0.6666666666666666,
              "#ed7953"
             ],
             [
              0.7777777777777778,
              "#fb9f3a"
             ],
             [
              0.8888888888888888,
              "#fdca26"
             ],
             [
              1,
              "#f0f921"
             ]
            ],
            "type": "heatmap"
           }
          ],
          "heatmapgl": [
           {
            "colorbar": {
             "outlinewidth": 0,
             "ticks": ""
            },
            "colorscale": [
             [
              0,
              "#0d0887"
             ],
             [
              0.1111111111111111,
              "#46039f"
             ],
             [
              0.2222222222222222,
              "#7201a8"
             ],
             [
              0.3333333333333333,
              "#9c179e"
             ],
             [
              0.4444444444444444,
              "#bd3786"
             ],
             [
              0.5555555555555556,
              "#d8576b"
             ],
             [
              0.6666666666666666,
              "#ed7953"
             ],
             [
              0.7777777777777778,
              "#fb9f3a"
             ],
             [
              0.8888888888888888,
              "#fdca26"
             ],
             [
              1,
              "#f0f921"
             ]
            ],
            "type": "heatmapgl"
           }
          ],
          "histogram": [
           {
            "marker": {
             "colorbar": {
              "outlinewidth": 0,
              "ticks": ""
             }
            },
            "type": "histogram"
           }
          ],
          "histogram2d": [
           {
            "colorbar": {
             "outlinewidth": 0,
             "ticks": ""
            },
            "colorscale": [
             [
              0,
              "#0d0887"
             ],
             [
              0.1111111111111111,
              "#46039f"
             ],
             [
              0.2222222222222222,
              "#7201a8"
             ],
             [
              0.3333333333333333,
              "#9c179e"
             ],
             [
              0.4444444444444444,
              "#bd3786"
             ],
             [
              0.5555555555555556,
              "#d8576b"
             ],
             [
              0.6666666666666666,
              "#ed7953"
             ],
             [
              0.7777777777777778,
              "#fb9f3a"
             ],
             [
              0.8888888888888888,
              "#fdca26"
             ],
             [
              1,
              "#f0f921"
             ]
            ],
            "type": "histogram2d"
           }
          ],
          "histogram2dcontour": [
           {
            "colorbar": {
             "outlinewidth": 0,
             "ticks": ""
            },
            "colorscale": [
             [
              0,
              "#0d0887"
             ],
             [
              0.1111111111111111,
              "#46039f"
             ],
             [
              0.2222222222222222,
              "#7201a8"
             ],
             [
              0.3333333333333333,
              "#9c179e"
             ],
             [
              0.4444444444444444,
              "#bd3786"
             ],
             [
              0.5555555555555556,
              "#d8576b"
             ],
             [
              0.6666666666666666,
              "#ed7953"
             ],
             [
              0.7777777777777778,
              "#fb9f3a"
             ],
             [
              0.8888888888888888,
              "#fdca26"
             ],
             [
              1,
              "#f0f921"
             ]
            ],
            "type": "histogram2dcontour"
           }
          ],
          "mesh3d": [
           {
            "colorbar": {
             "outlinewidth": 0,
             "ticks": ""
            },
            "type": "mesh3d"
           }
          ],
          "parcoords": [
           {
            "line": {
             "colorbar": {
              "outlinewidth": 0,
              "ticks": ""
             }
            },
            "type": "parcoords"
           }
          ],
          "pie": [
           {
            "automargin": true,
            "type": "pie"
           }
          ],
          "scatter": [
           {
            "marker": {
             "colorbar": {
              "outlinewidth": 0,
              "ticks": ""
             }
            },
            "type": "scatter"
           }
          ],
          "scatter3d": [
           {
            "line": {
             "colorbar": {
              "outlinewidth": 0,
              "ticks": ""
             }
            },
            "marker": {
             "colorbar": {
              "outlinewidth": 0,
              "ticks": ""
             }
            },
            "type": "scatter3d"
           }
          ],
          "scattercarpet": [
           {
            "marker": {
             "colorbar": {
              "outlinewidth": 0,
              "ticks": ""
             }
            },
            "type": "scattercarpet"
           }
          ],
          "scattergeo": [
           {
            "marker": {
             "colorbar": {
              "outlinewidth": 0,
              "ticks": ""
             }
            },
            "type": "scattergeo"
           }
          ],
          "scattergl": [
           {
            "marker": {
             "colorbar": {
              "outlinewidth": 0,
              "ticks": ""
             }
            },
            "type": "scattergl"
           }
          ],
          "scattermapbox": [
           {
            "marker": {
             "colorbar": {
              "outlinewidth": 0,
              "ticks": ""
             }
            },
            "type": "scattermapbox"
           }
          ],
          "scatterpolar": [
           {
            "marker": {
             "colorbar": {
              "outlinewidth": 0,
              "ticks": ""
             }
            },
            "type": "scatterpolar"
           }
          ],
          "scatterpolargl": [
           {
            "marker": {
             "colorbar": {
              "outlinewidth": 0,
              "ticks": ""
             }
            },
            "type": "scatterpolargl"
           }
          ],
          "scatterternary": [
           {
            "marker": {
             "colorbar": {
              "outlinewidth": 0,
              "ticks": ""
             }
            },
            "type": "scatterternary"
           }
          ],
          "surface": [
           {
            "colorbar": {
             "outlinewidth": 0,
             "ticks": ""
            },
            "colorscale": [
             [
              0,
              "#0d0887"
             ],
             [
              0.1111111111111111,
              "#46039f"
             ],
             [
              0.2222222222222222,
              "#7201a8"
             ],
             [
              0.3333333333333333,
              "#9c179e"
             ],
             [
              0.4444444444444444,
              "#bd3786"
             ],
             [
              0.5555555555555556,
              "#d8576b"
             ],
             [
              0.6666666666666666,
              "#ed7953"
             ],
             [
              0.7777777777777778,
              "#fb9f3a"
             ],
             [
              0.8888888888888888,
              "#fdca26"
             ],
             [
              1,
              "#f0f921"
             ]
            ],
            "type": "surface"
           }
          ],
          "table": [
           {
            "cells": {
             "fill": {
              "color": "#EBF0F8"
             },
             "line": {
              "color": "white"
             }
            },
            "header": {
             "fill": {
              "color": "#C8D4E3"
             },
             "line": {
              "color": "white"
             }
            },
            "type": "table"
           }
          ]
         },
         "layout": {
          "annotationdefaults": {
           "arrowcolor": "#2a3f5f",
           "arrowhead": 0,
           "arrowwidth": 1
          },
          "coloraxis": {
           "colorbar": {
            "outlinewidth": 0,
            "ticks": ""
           }
          },
          "colorscale": {
           "diverging": [
            [
             0,
             "#8e0152"
            ],
            [
             0.1,
             "#c51b7d"
            ],
            [
             0.2,
             "#de77ae"
            ],
            [
             0.3,
             "#f1b6da"
            ],
            [
             0.4,
             "#fde0ef"
            ],
            [
             0.5,
             "#f7f7f7"
            ],
            [
             0.6,
             "#e6f5d0"
            ],
            [
             0.7,
             "#b8e186"
            ],
            [
             0.8,
             "#7fbc41"
            ],
            [
             0.9,
             "#4d9221"
            ],
            [
             1,
             "#276419"
            ]
           ],
           "sequential": [
            [
             0,
             "#0d0887"
            ],
            [
             0.1111111111111111,
             "#46039f"
            ],
            [
             0.2222222222222222,
             "#7201a8"
            ],
            [
             0.3333333333333333,
             "#9c179e"
            ],
            [
             0.4444444444444444,
             "#bd3786"
            ],
            [
             0.5555555555555556,
             "#d8576b"
            ],
            [
             0.6666666666666666,
             "#ed7953"
            ],
            [
             0.7777777777777778,
             "#fb9f3a"
            ],
            [
             0.8888888888888888,
             "#fdca26"
            ],
            [
             1,
             "#f0f921"
            ]
           ],
           "sequentialminus": [
            [
             0,
             "#0d0887"
            ],
            [
             0.1111111111111111,
             "#46039f"
            ],
            [
             0.2222222222222222,
             "#7201a8"
            ],
            [
             0.3333333333333333,
             "#9c179e"
            ],
            [
             0.4444444444444444,
             "#bd3786"
            ],
            [
             0.5555555555555556,
             "#d8576b"
            ],
            [
             0.6666666666666666,
             "#ed7953"
            ],
            [
             0.7777777777777778,
             "#fb9f3a"
            ],
            [
             0.8888888888888888,
             "#fdca26"
            ],
            [
             1,
             "#f0f921"
            ]
           ]
          },
          "colorway": [
           "#636efa",
           "#EF553B",
           "#00cc96",
           "#ab63fa",
           "#FFA15A",
           "#19d3f3",
           "#FF6692",
           "#B6E880",
           "#FF97FF",
           "#FECB52"
          ],
          "font": {
           "color": "#2a3f5f"
          },
          "geo": {
           "bgcolor": "white",
           "lakecolor": "white",
           "landcolor": "#E5ECF6",
           "showlakes": true,
           "showland": true,
           "subunitcolor": "white"
          },
          "hoverlabel": {
           "align": "left"
          },
          "hovermode": "closest",
          "mapbox": {
           "style": "light"
          },
          "paper_bgcolor": "white",
          "plot_bgcolor": "#E5ECF6",
          "polar": {
           "angularaxis": {
            "gridcolor": "white",
            "linecolor": "white",
            "ticks": ""
           },
           "bgcolor": "#E5ECF6",
           "radialaxis": {
            "gridcolor": "white",
            "linecolor": "white",
            "ticks": ""
           }
          },
          "scene": {
           "xaxis": {
            "backgroundcolor": "#E5ECF6",
            "gridcolor": "white",
            "gridwidth": 2,
            "linecolor": "white",
            "showbackground": true,
            "ticks": "",
            "zerolinecolor": "white"
           },
           "yaxis": {
            "backgroundcolor": "#E5ECF6",
            "gridcolor": "white",
            "gridwidth": 2,
            "linecolor": "white",
            "showbackground": true,
            "ticks": "",
            "zerolinecolor": "white"
           },
           "zaxis": {
            "backgroundcolor": "#E5ECF6",
            "gridcolor": "white",
            "gridwidth": 2,
            "linecolor": "white",
            "showbackground": true,
            "ticks": "",
            "zerolinecolor": "white"
           }
          },
          "shapedefaults": {
           "line": {
            "color": "#2a3f5f"
           }
          },
          "ternary": {
           "aaxis": {
            "gridcolor": "white",
            "linecolor": "white",
            "ticks": ""
           },
           "baxis": {
            "gridcolor": "white",
            "linecolor": "white",
            "ticks": ""
           },
           "bgcolor": "#E5ECF6",
           "caxis": {
            "gridcolor": "white",
            "linecolor": "white",
            "ticks": ""
           }
          },
          "title": {
           "x": 0.05
          },
          "xaxis": {
           "automargin": true,
           "gridcolor": "white",
           "linecolor": "white",
           "ticks": "",
           "title": {
            "standoff": 15
           },
           "zerolinecolor": "white",
           "zerolinewidth": 2
          },
          "yaxis": {
           "automargin": true,
           "gridcolor": "white",
           "linecolor": "white",
           "ticks": "",
           "title": {
            "standoff": 15
           },
           "zerolinecolor": "white",
           "zerolinewidth": 2
          }
         }
        },
        "title": {
         "text": "Coronavirus Total Confirmed Deaths by Country"
        }
       }
      },
      "text/html": [
       "<div>\n",
       "        \n",
       "        \n",
       "            <div id=\"9cf581af-5794-46f4-8d68-6843aa2a76ad\" class=\"plotly-graph-div\" style=\"height:525px; width:100%;\"></div>\n",
       "            <script type=\"text/javascript\">\n",
       "                require([\"plotly\"], function(Plotly) {\n",
       "                    window.PLOTLYENV=window.PLOTLYENV || {};\n",
       "                    \n",
       "                if (document.getElementById(\"9cf581af-5794-46f4-8d68-6843aa2a76ad\")) {\n",
       "                    Plotly.newPlot(\n",
       "                        '9cf581af-5794-46f4-8d68-6843aa2a76ad',\n",
       "                        [{\"coloraxis\": \"coloraxis\", \"geo\": \"geo\", \"hovertemplate\": \"<b>%{hovertext}</b><br><br>country=%{location}<br>total_deaths=%{z}<extra></extra>\", \"hovertext\": [\"USA\", \"Brazil\", \"Russia\", \"India\", \"UK\", \"Spain\", \"Peru\", \"Chile\", \"Italy\", \"Iran\", \"Mexico\", \"Pakistan\", \"Turkey\", \"Saudi Arabia\", \"Germany\", \"France\", \"South Africa\", \"Bangladesh\", \"Canada\", \"Colombia\", \"Qatar\", \"China\", \"Egypt\", \"Sweden\", \"Argentina\", \"Belarus\", \"Belgium\", \"Indonesia\", \"Ecuador\", \"Iraq\", \"Netherlands\", \"UAE\", \"Kuwait\", \"Ukraine\", \"Singapore\", \"Portugal\", \"Kazakhstan\", \"Oman\", \"Philippines\", \"Poland\", \"Panama\", \"Bolivia\", \"Dominican Republic\", \"Afghanistan\", \"Switzerland\", \"Romania\", \"Bahrain\", \"Armenia\", \"Nigeria\", \"Israel\", \"Ireland\", \"Honduras\", \"Guatemala\", \"Japan\", \"Azerbaijan\", \"Ghana\", \"Austria\", \"Moldova\", \"Serbia\", \"Algeria\", \"Nepal\", \"Morocco\", \"S. Korea\", \"Denmark\", \"Cameroon\", \"Czechia\", \"Ivory Coast\", \"Sudan\", \"Uzbekistan\", \"Norway\", \"Malaysia\", \"Australia\", \"Finland\", \"DRC\", \"Senegal\", \"El Salvador\", \"Kenya\", \"North Macedonia\", \"Kyrgyzstan\", \"Venezuela\", \"Tajikistan\", \"Haiti\", \"Ethiopia\", \"Gabon\", \"Guinea\", \"Bulgaria\", \"Bosnia and Herzegovina\", \"Djibouti\", \"Mauritania\", \"French Guiana\", \"Luxembourg\", \"Hungary\", \"CAR\", \"Costa Rica\", \"Greece\", \"Thailand\", \"Palestine\", \"Somalia\", \"Croatia\", \"Albania\", \"Mayotte\", \"Nicaragua\", \"Madagascar\", \"Maldives\", \"Cuba\", \"Mali\", \"Paraguay\", \"Sri Lanka\", \"South Sudan\", \"Equatorial Guinea\", \"Estonia\", \"Iceland\", \"Lithuania\", \"Lebanon\", \"Slovakia\", \"Guinea-Bissau\", \"Slovenia\", \"Zambia\", \"New Zealand\", \"Sierra Leone\", \"Congo\", \"Malawi\", \"Cabo Verde\", \"Hong Kong\", \"Benin\", \"Yemen\", \"Tunisia\", \"Jordan\", \"Latvia\", \"Niger\", \"Rwanda\", \"Cyprus\", \"Burkina Faso\", \"Uruguay\", \"Georgia\", \"Mozambique\", \"Uganda\", \"Libya\", \"Eswatini\", \"Chad\", \"Andorra\", \"Liberia\", \"Sao Tome and Principe\", \"Diamond Princess\", \"Jamaica\", \"San Marino\", \"Malta\", \"Togo\", \"Montenegro\", \"Zimbabwe\", \"Channel Islands\", \"Suriname\", \"R\\u00e9union\", \"Tanzania\", \"Taiwan\", \"Vietnam\", \"Mauritius\", \"Isle of Man\", \"Syria\", \"Myanmar\", \"Comoros\", \"Namibia\", \"Angola\", \"Guyana\", \"Martinique\", \"Botswana\", \"Mongolia\", \"Eritrea\", \"Cayman Islands\", \"Faeroe Islands\", \"Guadeloupe\", \"Gibraltar\", \"Burundi\", \"Bermuda\", \"Brunei\", \"Cambodia\", \"Trinidad and Tobago\", \"Monaco\", \"Bahamas\", \"Aruba\", \"Barbados\", \"Liechtenstein\", \"Seychelles\", \"Sint Maarten\", \"Bhutan\", \"Antigua and Barbuda\", \"French Polynesia\", \"Gambia\", \"Macao\", \"Saint Martin\", \"Turks and Caicos\", \"Lesotho\", \"St. Vincent Grenadines\", \"Belize\", \"Timor-Leste\", \"Cura\\u00e7ao\", \"Grenada\", \"New Caledonia\", \"Laos\", \"Saint Lucia\", \"Dominica\", \"Fiji\", \"Saint Kitts and Nevis\", \"Falkland Islands\", \"Greenland\", \"Vatican City\", \"Montserrat\", \"Papua New Guinea\", \"Western Sahara\", \"MS Zaandam\", \"British Virgin Islands\", \"Caribbean Netherlands\", \"St. Barth\", \"Anguilla\", \"Saint Pierre Miquelon\"], \"locationmode\": \"country names\", \"locations\": [\"USA\", \"Brazil\", \"Russia\", \"India\", \"UK\", \"Spain\", \"Peru\", \"Chile\", \"Italy\", \"Iran\", \"Mexico\", \"Pakistan\", \"Turkey\", \"Saudi Arabia\", \"Germany\", \"France\", \"South Africa\", \"Bangladesh\", \"Canada\", \"Colombia\", \"Qatar\", \"China\", \"Egypt\", \"Sweden\", \"Argentina\", \"Belarus\", \"Belgium\", \"Indonesia\", \"Ecuador\", \"Iraq\", \"Netherlands\", \"UAE\", \"Kuwait\", \"Ukraine\", \"Singapore\", \"Portugal\", \"Kazakhstan\", \"Oman\", \"Philippines\", \"Poland\", \"Panama\", \"Bolivia\", \"Dominican Republic\", \"Afghanistan\", \"Switzerland\", \"Romania\", \"Bahrain\", \"Armenia\", \"Nigeria\", \"Israel\", \"Ireland\", \"Honduras\", \"Guatemala\", \"Japan\", \"Azerbaijan\", \"Ghana\", \"Austria\", \"Moldova\", \"Serbia\", \"Algeria\", \"Nepal\", \"Morocco\", \"S. Korea\", \"Denmark\", \"Cameroon\", \"Czechia\", \"Ivory Coast\", \"Sudan\", \"Uzbekistan\", \"Norway\", \"Malaysia\", \"Australia\", \"Finland\", \"DRC\", \"Senegal\", \"El Salvador\", \"Kenya\", \"North Macedonia\", \"Kyrgyzstan\", \"Venezuela\", \"Tajikistan\", \"Haiti\", \"Ethiopia\", \"Gabon\", \"Guinea\", \"Bulgaria\", \"Bosnia and Herzegovina\", \"Djibouti\", \"Mauritania\", \"French Guiana\", \"Luxembourg\", \"Hungary\", \"CAR\", \"Costa Rica\", \"Greece\", \"Thailand\", \"Palestine\", \"Somalia\", \"Croatia\", \"Albania\", \"Mayotte\", \"Nicaragua\", \"Madagascar\", \"Maldives\", \"Cuba\", \"Mali\", \"Paraguay\", \"Sri Lanka\", \"South Sudan\", \"Equatorial Guinea\", \"Estonia\", \"Iceland\", \"Lithuania\", \"Lebanon\", \"Slovakia\", \"Guinea-Bissau\", \"Slovenia\", \"Zambia\", \"New Zealand\", \"Sierra Leone\", \"Congo\", \"Malawi\", \"Cabo Verde\", \"Hong Kong\", \"Benin\", \"Yemen\", \"Tunisia\", \"Jordan\", \"Latvia\", \"Niger\", \"Rwanda\", \"Cyprus\", \"Burkina Faso\", \"Uruguay\", \"Georgia\", \"Mozambique\", \"Uganda\", \"Libya\", \"Eswatini\", \"Chad\", \"Andorra\", \"Liberia\", \"Sao Tome and Principe\", \"Diamond Princess\", \"Jamaica\", \"San Marino\", \"Malta\", \"Togo\", \"Montenegro\", \"Zimbabwe\", \"Channel Islands\", \"Suriname\", \"R\\u00e9union\", \"Tanzania\", \"Taiwan\", \"Vietnam\", \"Mauritius\", \"Isle of Man\", \"Syria\", \"Myanmar\", \"Comoros\", \"Namibia\", \"Angola\", \"Guyana\", \"Martinique\", \"Botswana\", \"Mongolia\", \"Eritrea\", \"Cayman Islands\", \"Faeroe Islands\", \"Guadeloupe\", \"Gibraltar\", \"Burundi\", \"Bermuda\", \"Brunei\", \"Cambodia\", \"Trinidad and Tobago\", \"Monaco\", \"Bahamas\", \"Aruba\", \"Barbados\", \"Liechtenstein\", \"Seychelles\", \"Sint Maarten\", \"Bhutan\", \"Antigua and Barbuda\", \"French Polynesia\", \"Gambia\", \"Macao\", \"Saint Martin\", \"Turks and Caicos\", \"Lesotho\", \"St. Vincent Grenadines\", \"Belize\", \"Timor-Leste\", \"Cura\\u00e7ao\", \"Grenada\", \"New Caledonia\", \"Laos\", \"Saint Lucia\", \"Dominica\", \"Fiji\", \"Saint Kitts and Nevis\", \"Falkland Islands\", \"Greenland\", \"Vatican City\", \"Montserrat\", \"Papua New Guinea\", \"Western Sahara\", \"MS Zaandam\", \"British Virgin Islands\", \"Caribbean Netherlands\", \"St. Barth\", \"Anguilla\", \"Saint Pierre Miquelon\"], \"name\": \"\", \"type\": \"choropleth\", \"z\": [131136.0, 61314.0, 9683.0, 18226.0, 43906.0, 28368.0, 9860.0, 5920.0, 34818.0, 11106.0, 28510.0, 4473.0, 5167.0, 1752.0, 9063.0, 29875.0, 2749.0, 1926.0, 8637.0, 3470.0, 118.0, 4634.0, 3034.0, 5370.0, 1363.0, 405.0, 9761.0, 2987.0, 4576.0, 2160.0, 6113.0, 317.0, 359.0, 1185.0, 26.0, 1587.0, 188.0, 188.0, 1274.0, 1492.0, 645.0, 1201.0, 765.0, 807.0, 1965.0, 1687.0, 93.0, 459.0, 603.0, 324.0, 1738.0, 542.0, 817.0, 974.0, 228.0, 117.0, 705.0, 560.0, 287.0, 928.0, 31.0, 229.0, 282.0, 606.0, 313.0, 353.0, 68.0, 602.0, 27.0, 251.0, 121.0, 104.0, 328.0, 176.0, 121.0, 191.0, 152.0, 321.0, 66.0, 54.0, 52.0, 107.0, 103.0, 42.0, 33.0, 232.0, 189.0, 55.0, 129.0, 16.0, 110.0, 587.0, 47.0, 17.0, 192.0, 58.0, 8.0, 90.0, 110.0, 69.0, 35.0, 83.0, 24.0, 10.0, 86.0, 117.0, 19.0, 11.0, 38.0, 32.0, 69.0, 10.0, 78.0, 35.0, 28.0, 24.0, 111.0, 30.0, 22.0, 60.0, 41.0, 16.0, 15.0, 7.0, 21.0, 318.0, 50.0, 9.0, 30.0, 67.0, 3.0, 19.0, 53.0, 28.0, 15.0, 6.0, null, 25.0, 11.0, 74.0, 52.0, 37.0, 13.0, 13.0, 10.0, 42.0, 9.0, 14.0, 12.0, 7.0, 47.0, 13.0, 2.0, 21.0, 7.0, null, 10.0, 24.0, 9.0, 6.0, 7.0, null, 15.0, 13.0, 14.0, 1.0, null, null, 1.0, null, 14.0, null, 1.0, 9.0, 3.0, null, 8.0, 4.0, 11.0, 3.0, 7.0, 1.0, null, 15.0, null, 3.0, null, 2.0, null, 3.0, 2.0, null, null, 2.0, null, 1.0, null, null, null, null, null, null, null, null, null, null, 1.0, null, 1.0, 2.0, 1.0, null, null, null, null]}],\n",
       "                        {\"coloraxis\": {\"colorbar\": {\"title\": {\"text\": \"total_deaths\"}}, \"colorscale\": [[0.0, \"rgb(252, 222, 156)\"], [0.16666666666666666, \"rgb(250, 164, 118)\"], [0.3333333333333333, \"rgb(240, 116, 110)\"], [0.5, \"rgb(227, 79, 111)\"], [0.6666666666666666, \"rgb(220, 57, 119)\"], [0.8333333333333334, \"rgb(185, 37, 122)\"], [1.0, \"rgb(124, 29, 111)\"]]}, \"geo\": {\"center\": {}, \"domain\": {\"x\": [0.0, 1.0], \"y\": [0.0, 1.0]}, \"showcoastlines\": false, \"showframe\": false}, \"legend\": {\"tracegroupgap\": 0}, \"margin\": {\"t\": 60}, \"template\": {\"data\": {\"bar\": [{\"error_x\": {\"color\": \"#2a3f5f\"}, \"error_y\": {\"color\": \"#2a3f5f\"}, \"marker\": {\"line\": {\"color\": \"#E5ECF6\", \"width\": 0.5}}, \"type\": \"bar\"}], \"barpolar\": [{\"marker\": {\"line\": {\"color\": \"#E5ECF6\", \"width\": 0.5}}, \"type\": \"barpolar\"}], \"carpet\": [{\"aaxis\": {\"endlinecolor\": \"#2a3f5f\", \"gridcolor\": \"white\", \"linecolor\": \"white\", \"minorgridcolor\": \"white\", \"startlinecolor\": \"#2a3f5f\"}, \"baxis\": {\"endlinecolor\": \"#2a3f5f\", \"gridcolor\": \"white\", \"linecolor\": \"white\", \"minorgridcolor\": \"white\", \"startlinecolor\": \"#2a3f5f\"}, \"type\": \"carpet\"}], \"choropleth\": [{\"colorbar\": {\"outlinewidth\": 0, \"ticks\": \"\"}, \"type\": \"choropleth\"}], \"contour\": [{\"colorbar\": {\"outlinewidth\": 0, \"ticks\": \"\"}, \"colorscale\": [[0.0, \"#0d0887\"], [0.1111111111111111, \"#46039f\"], [0.2222222222222222, \"#7201a8\"], [0.3333333333333333, \"#9c179e\"], [0.4444444444444444, \"#bd3786\"], [0.5555555555555556, \"#d8576b\"], [0.6666666666666666, \"#ed7953\"], [0.7777777777777778, \"#fb9f3a\"], [0.8888888888888888, \"#fdca26\"], [1.0, \"#f0f921\"]], \"type\": \"contour\"}], \"contourcarpet\": [{\"colorbar\": {\"outlinewidth\": 0, \"ticks\": \"\"}, \"type\": \"contourcarpet\"}], \"heatmap\": [{\"colorbar\": {\"outlinewidth\": 0, \"ticks\": \"\"}, \"colorscale\": [[0.0, \"#0d0887\"], [0.1111111111111111, \"#46039f\"], [0.2222222222222222, \"#7201a8\"], [0.3333333333333333, \"#9c179e\"], [0.4444444444444444, \"#bd3786\"], [0.5555555555555556, \"#d8576b\"], [0.6666666666666666, \"#ed7953\"], [0.7777777777777778, \"#fb9f3a\"], [0.8888888888888888, \"#fdca26\"], [1.0, \"#f0f921\"]], \"type\": \"heatmap\"}], \"heatmapgl\": [{\"colorbar\": {\"outlinewidth\": 0, \"ticks\": \"\"}, \"colorscale\": [[0.0, \"#0d0887\"], [0.1111111111111111, \"#46039f\"], [0.2222222222222222, \"#7201a8\"], [0.3333333333333333, \"#9c179e\"], [0.4444444444444444, \"#bd3786\"], [0.5555555555555556, \"#d8576b\"], [0.6666666666666666, \"#ed7953\"], [0.7777777777777778, \"#fb9f3a\"], [0.8888888888888888, \"#fdca26\"], [1.0, \"#f0f921\"]], \"type\": \"heatmapgl\"}], \"histogram\": [{\"marker\": {\"colorbar\": {\"outlinewidth\": 0, \"ticks\": \"\"}}, \"type\": \"histogram\"}], \"histogram2d\": [{\"colorbar\": {\"outlinewidth\": 0, \"ticks\": \"\"}, \"colorscale\": [[0.0, \"#0d0887\"], [0.1111111111111111, \"#46039f\"], [0.2222222222222222, \"#7201a8\"], [0.3333333333333333, \"#9c179e\"], [0.4444444444444444, \"#bd3786\"], [0.5555555555555556, \"#d8576b\"], [0.6666666666666666, \"#ed7953\"], [0.7777777777777778, \"#fb9f3a\"], [0.8888888888888888, \"#fdca26\"], [1.0, \"#f0f921\"]], \"type\": \"histogram2d\"}], \"histogram2dcontour\": [{\"colorbar\": {\"outlinewidth\": 0, \"ticks\": \"\"}, \"colorscale\": [[0.0, \"#0d0887\"], [0.1111111111111111, \"#46039f\"], [0.2222222222222222, \"#7201a8\"], [0.3333333333333333, \"#9c179e\"], [0.4444444444444444, \"#bd3786\"], [0.5555555555555556, \"#d8576b\"], [0.6666666666666666, \"#ed7953\"], [0.7777777777777778, \"#fb9f3a\"], [0.8888888888888888, \"#fdca26\"], [1.0, \"#f0f921\"]], \"type\": \"histogram2dcontour\"}], \"mesh3d\": [{\"colorbar\": {\"outlinewidth\": 0, \"ticks\": \"\"}, \"type\": \"mesh3d\"}], \"parcoords\": [{\"line\": {\"colorbar\": {\"outlinewidth\": 0, \"ticks\": \"\"}}, \"type\": \"parcoords\"}], \"pie\": [{\"automargin\": true, \"type\": \"pie\"}], \"scatter\": [{\"marker\": {\"colorbar\": {\"outlinewidth\": 0, \"ticks\": \"\"}}, \"type\": \"scatter\"}], \"scatter3d\": [{\"line\": {\"colorbar\": {\"outlinewidth\": 0, \"ticks\": \"\"}}, \"marker\": {\"colorbar\": {\"outlinewidth\": 0, \"ticks\": \"\"}}, \"type\": \"scatter3d\"}], \"scattercarpet\": [{\"marker\": {\"colorbar\": {\"outlinewidth\": 0, \"ticks\": \"\"}}, \"type\": \"scattercarpet\"}], \"scattergeo\": [{\"marker\": {\"colorbar\": {\"outlinewidth\": 0, \"ticks\": \"\"}}, \"type\": \"scattergeo\"}], \"scattergl\": [{\"marker\": {\"colorbar\": {\"outlinewidth\": 0, \"ticks\": \"\"}}, \"type\": \"scattergl\"}], \"scattermapbox\": [{\"marker\": {\"colorbar\": {\"outlinewidth\": 0, \"ticks\": \"\"}}, \"type\": \"scattermapbox\"}], \"scatterpolar\": [{\"marker\": {\"colorbar\": {\"outlinewidth\": 0, \"ticks\": \"\"}}, \"type\": \"scatterpolar\"}], \"scatterpolargl\": [{\"marker\": {\"colorbar\": {\"outlinewidth\": 0, \"ticks\": \"\"}}, \"type\": \"scatterpolargl\"}], \"scatterternary\": [{\"marker\": {\"colorbar\": {\"outlinewidth\": 0, \"ticks\": \"\"}}, \"type\": \"scatterternary\"}], \"surface\": [{\"colorbar\": {\"outlinewidth\": 0, \"ticks\": \"\"}, \"colorscale\": [[0.0, \"#0d0887\"], [0.1111111111111111, \"#46039f\"], [0.2222222222222222, \"#7201a8\"], [0.3333333333333333, \"#9c179e\"], [0.4444444444444444, \"#bd3786\"], [0.5555555555555556, \"#d8576b\"], [0.6666666666666666, \"#ed7953\"], [0.7777777777777778, \"#fb9f3a\"], [0.8888888888888888, \"#fdca26\"], [1.0, \"#f0f921\"]], \"type\": \"surface\"}], \"table\": [{\"cells\": {\"fill\": {\"color\": \"#EBF0F8\"}, \"line\": {\"color\": \"white\"}}, \"header\": {\"fill\": {\"color\": \"#C8D4E3\"}, \"line\": {\"color\": \"white\"}}, \"type\": \"table\"}]}, \"layout\": {\"annotationdefaults\": {\"arrowcolor\": \"#2a3f5f\", \"arrowhead\": 0, \"arrowwidth\": 1}, \"coloraxis\": {\"colorbar\": {\"outlinewidth\": 0, \"ticks\": \"\"}}, \"colorscale\": {\"diverging\": [[0, \"#8e0152\"], [0.1, \"#c51b7d\"], [0.2, \"#de77ae\"], [0.3, \"#f1b6da\"], [0.4, \"#fde0ef\"], [0.5, \"#f7f7f7\"], [0.6, \"#e6f5d0\"], [0.7, \"#b8e186\"], [0.8, \"#7fbc41\"], [0.9, \"#4d9221\"], [1, \"#276419\"]], \"sequential\": [[0.0, \"#0d0887\"], [0.1111111111111111, \"#46039f\"], [0.2222222222222222, \"#7201a8\"], [0.3333333333333333, \"#9c179e\"], [0.4444444444444444, \"#bd3786\"], [0.5555555555555556, \"#d8576b\"], [0.6666666666666666, \"#ed7953\"], [0.7777777777777778, \"#fb9f3a\"], [0.8888888888888888, \"#fdca26\"], [1.0, \"#f0f921\"]], \"sequentialminus\": [[0.0, \"#0d0887\"], [0.1111111111111111, \"#46039f\"], [0.2222222222222222, \"#7201a8\"], [0.3333333333333333, \"#9c179e\"], [0.4444444444444444, \"#bd3786\"], [0.5555555555555556, \"#d8576b\"], [0.6666666666666666, \"#ed7953\"], [0.7777777777777778, \"#fb9f3a\"], [0.8888888888888888, \"#fdca26\"], [1.0, \"#f0f921\"]]}, \"colorway\": [\"#636efa\", \"#EF553B\", \"#00cc96\", \"#ab63fa\", \"#FFA15A\", \"#19d3f3\", \"#FF6692\", \"#B6E880\", \"#FF97FF\", \"#FECB52\"], \"font\": {\"color\": \"#2a3f5f\"}, \"geo\": {\"bgcolor\": \"white\", \"lakecolor\": \"white\", \"landcolor\": \"#E5ECF6\", \"showlakes\": true, \"showland\": true, \"subunitcolor\": \"white\"}, \"hoverlabel\": {\"align\": \"left\"}, \"hovermode\": \"closest\", \"mapbox\": {\"style\": \"light\"}, \"paper_bgcolor\": \"white\", \"plot_bgcolor\": \"#E5ECF6\", \"polar\": {\"angularaxis\": {\"gridcolor\": \"white\", \"linecolor\": \"white\", \"ticks\": \"\"}, \"bgcolor\": \"#E5ECF6\", \"radialaxis\": {\"gridcolor\": \"white\", \"linecolor\": \"white\", \"ticks\": \"\"}}, \"scene\": {\"xaxis\": {\"backgroundcolor\": \"#E5ECF6\", \"gridcolor\": \"white\", \"gridwidth\": 2, \"linecolor\": \"white\", \"showbackground\": true, \"ticks\": \"\", \"zerolinecolor\": \"white\"}, \"yaxis\": {\"backgroundcolor\": \"#E5ECF6\", \"gridcolor\": \"white\", \"gridwidth\": 2, \"linecolor\": \"white\", \"showbackground\": true, \"ticks\": \"\", \"zerolinecolor\": \"white\"}, \"zaxis\": {\"backgroundcolor\": \"#E5ECF6\", \"gridcolor\": \"white\", \"gridwidth\": 2, \"linecolor\": \"white\", \"showbackground\": true, \"ticks\": \"\", \"zerolinecolor\": \"white\"}}, \"shapedefaults\": {\"line\": {\"color\": \"#2a3f5f\"}}, \"ternary\": {\"aaxis\": {\"gridcolor\": \"white\", \"linecolor\": \"white\", \"ticks\": \"\"}, \"baxis\": {\"gridcolor\": \"white\", \"linecolor\": \"white\", \"ticks\": \"\"}, \"bgcolor\": \"#E5ECF6\", \"caxis\": {\"gridcolor\": \"white\", \"linecolor\": \"white\", \"ticks\": \"\"}}, \"title\": {\"x\": 0.05}, \"xaxis\": {\"automargin\": true, \"gridcolor\": \"white\", \"linecolor\": \"white\", \"ticks\": \"\", \"title\": {\"standoff\": 15}, \"zerolinecolor\": \"white\", \"zerolinewidth\": 2}, \"yaxis\": {\"automargin\": true, \"gridcolor\": \"white\", \"linecolor\": \"white\", \"ticks\": \"\", \"title\": {\"standoff\": 15}, \"zerolinecolor\": \"white\", \"zerolinewidth\": 2}}}, \"title\": {\"text\": \"Coronavirus Total Confirmed Deaths by Country\"}},\n",
       "                        {\"responsive\": true}\n",
       "                    ).then(function(){\n",
       "                            \n",
       "var gd = document.getElementById('9cf581af-5794-46f4-8d68-6843aa2a76ad');\n",
       "var x = new MutationObserver(function (mutations, observer) {{\n",
       "        var display = window.getComputedStyle(gd).display;\n",
       "        if (!display || display === 'none') {{\n",
       "            console.log([gd, 'removed!']);\n",
       "            Plotly.purge(gd);\n",
       "            observer.disconnect();\n",
       "        }}\n",
       "}});\n",
       "\n",
       "// Listen for the removal of the full notebook cells\n",
       "var notebookContainer = gd.closest('#notebook-container');\n",
       "if (notebookContainer) {{\n",
       "    x.observe(notebookContainer, {childList: true});\n",
       "}}\n",
       "\n",
       "// Listen for the clearing of the current output cell\n",
       "var outputEl = gd.closest('.output');\n",
       "if (outputEl) {{\n",
       "    x.observe(outputEl, {childList: true});\n",
       "}}\n",
       "\n",
       "                        })\n",
       "                };\n",
       "                });\n",
       "            </script>\n",
       "        </div>"
      ]
     },
     "metadata": {},
     "output_type": "display_data"
    }
   ],
   "source": [
    "fig = px.choropleth(covid,\n",
    "    locations='country',\n",
    "    locationmode='country names',\n",
    "    color='total_deaths',\n",
    "    hover_name='country',\n",
    "    color_continuous_scale='sunsetdark')\n",
    "\n",
    "fig.update_layout(\n",
    "    title_text='Coronavirus Total Confirmed Deaths by Country',\n",
    "    geo=dict(showframe=False,showcoastlines=False))\n",
    "\n",
    "fig.show()"
   ]
  },
  {
   "cell_type": "code",
   "execution_count": 12,
   "metadata": {},
   "outputs": [
    {
     "data": {
      "text/html": [
       "<div>\n",
       "<style scoped>\n",
       "    .dataframe tbody tr th:only-of-type {\n",
       "        vertical-align: middle;\n",
       "    }\n",
       "\n",
       "    .dataframe tbody tr th {\n",
       "        vertical-align: top;\n",
       "    }\n",
       "\n",
       "    .dataframe thead th {\n",
       "        text-align: right;\n",
       "    }\n",
       "</style>\n",
       "<table border=\"1\" class=\"dataframe\">\n",
       "  <thead>\n",
       "    <tr style=\"text-align: right;\">\n",
       "      <th></th>\n",
       "      <th>country</th>\n",
       "      <th>deaths_per_mil</th>\n",
       "    </tr>\n",
       "  </thead>\n",
       "  <tbody>\n",
       "    <tr>\n",
       "      <th>145</th>\n",
       "      <td>San Marino</td>\n",
       "      <td>1238.0</td>\n",
       "    </tr>\n",
       "    <tr>\n",
       "      <th>26</th>\n",
       "      <td>Belgium</td>\n",
       "      <td>842.0</td>\n",
       "    </tr>\n",
       "    <tr>\n",
       "      <th>140</th>\n",
       "      <td>Andorra</td>\n",
       "      <td>673.0</td>\n",
       "    </tr>\n",
       "    <tr>\n",
       "      <th>4</th>\n",
       "      <td>UK</td>\n",
       "      <td>647.0</td>\n",
       "    </tr>\n",
       "    <tr>\n",
       "      <th>5</th>\n",
       "      <td>Spain</td>\n",
       "      <td>607.0</td>\n",
       "    </tr>\n",
       "    <tr>\n",
       "      <th>8</th>\n",
       "      <td>Italy</td>\n",
       "      <td>576.0</td>\n",
       "    </tr>\n",
       "    <tr>\n",
       "      <th>23</th>\n",
       "      <td>Sweden</td>\n",
       "      <td>532.0</td>\n",
       "    </tr>\n",
       "    <tr>\n",
       "      <th>15</th>\n",
       "      <td>France</td>\n",
       "      <td>458.0</td>\n",
       "    </tr>\n",
       "    <tr>\n",
       "      <th>0</th>\n",
       "      <td>USA</td>\n",
       "      <td>396.0</td>\n",
       "    </tr>\n",
       "    <tr>\n",
       "      <th>30</th>\n",
       "      <td>Netherlands</td>\n",
       "      <td>357.0</td>\n",
       "    </tr>\n",
       "    <tr>\n",
       "      <th>50</th>\n",
       "      <td>Ireland</td>\n",
       "      <td>352.0</td>\n",
       "    </tr>\n",
       "    <tr>\n",
       "      <th>183</th>\n",
       "      <td>Sint Maarten</td>\n",
       "      <td>350.0</td>\n",
       "    </tr>\n",
       "    <tr>\n",
       "      <th>7</th>\n",
       "      <td>Chile</td>\n",
       "      <td>310.0</td>\n",
       "    </tr>\n",
       "    <tr>\n",
       "      <th>6</th>\n",
       "      <td>Peru</td>\n",
       "      <td>299.0</td>\n",
       "    </tr>\n",
       "    <tr>\n",
       "      <th>1</th>\n",
       "      <td>Brazil</td>\n",
       "      <td>288.0</td>\n",
       "    </tr>\n",
       "    <tr>\n",
       "      <th>157</th>\n",
       "      <td>Isle of Man</td>\n",
       "      <td>282.0</td>\n",
       "    </tr>\n",
       "    <tr>\n",
       "      <th>150</th>\n",
       "      <td>Channel Islands</td>\n",
       "      <td>270.0</td>\n",
       "    </tr>\n",
       "    <tr>\n",
       "      <th>28</th>\n",
       "      <td>Ecuador</td>\n",
       "      <td>259.0</td>\n",
       "    </tr>\n",
       "    <tr>\n",
       "      <th>18</th>\n",
       "      <td>Canada</td>\n",
       "      <td>229.0</td>\n",
       "    </tr>\n",
       "    <tr>\n",
       "      <th>44</th>\n",
       "      <td>Switzerland</td>\n",
       "      <td>227.0</td>\n",
       "    </tr>\n",
       "    <tr>\n",
       "      <th>10</th>\n",
       "      <td>Mexico</td>\n",
       "      <td>221.0</td>\n",
       "    </tr>\n",
       "    <tr>\n",
       "      <th>206</th>\n",
       "      <td>Montserrat</td>\n",
       "      <td>200.0</td>\n",
       "    </tr>\n",
       "    <tr>\n",
       "      <th>90</th>\n",
       "      <td>Luxembourg</td>\n",
       "      <td>176.0</td>\n",
       "    </tr>\n",
       "    <tr>\n",
       "      <th>35</th>\n",
       "      <td>Portugal</td>\n",
       "      <td>156.0</td>\n",
       "    </tr>\n",
       "    <tr>\n",
       "      <th>47</th>\n",
       "      <td>Armenia</td>\n",
       "      <td>155.0</td>\n",
       "    </tr>\n",
       "  </tbody>\n",
       "</table>\n",
       "</div>"
      ],
      "text/plain": [
       "             country  deaths_per_mil\n",
       "145       San Marino          1238.0\n",
       "26           Belgium           842.0\n",
       "140          Andorra           673.0\n",
       "4                 UK           647.0\n",
       "5              Spain           607.0\n",
       "8              Italy           576.0\n",
       "23            Sweden           532.0\n",
       "15            France           458.0\n",
       "0                USA           396.0\n",
       "30       Netherlands           357.0\n",
       "50           Ireland           352.0\n",
       "183     Sint Maarten           350.0\n",
       "7              Chile           310.0\n",
       "6               Peru           299.0\n",
       "1             Brazil           288.0\n",
       "157      Isle of Man           282.0\n",
       "150  Channel Islands           270.0\n",
       "28           Ecuador           259.0\n",
       "18            Canada           229.0\n",
       "44       Switzerland           227.0\n",
       "10            Mexico           221.0\n",
       "206       Montserrat           200.0\n",
       "90        Luxembourg           176.0\n",
       "35          Portugal           156.0\n",
       "47           Armenia           155.0"
      ]
     },
     "execution_count": 12,
     "metadata": {},
     "output_type": "execute_result"
    }
   ],
   "source": [
    "# deaths per 1 mil pop\n",
    "covid[['country','deaths_per_mil']].sort_values(by='deaths_per_mil',ascending=False).head(25)"
   ]
  },
  {
   "cell_type": "code",
   "execution_count": 13,
   "metadata": {},
   "outputs": [
    {
     "data": {
      "application/vnd.plotly.v1+json": {
       "config": {
        "plotlyServerURL": "https://plot.ly"
       },
       "data": [
        {
         "coloraxis": "coloraxis",
         "geo": "geo",
         "hovertemplate": "<b>%{hovertext}</b><br><br>country=%{location}<br>deaths_per_mil=%{z}<extra></extra>",
         "hovertext": [
          "USA",
          "Brazil",
          "Russia",
          "India",
          "UK",
          "Spain",
          "Peru",
          "Chile",
          "Italy",
          "Iran",
          "Mexico",
          "Pakistan",
          "Turkey",
          "Saudi Arabia",
          "Germany",
          "France",
          "South Africa",
          "Bangladesh",
          "Canada",
          "Colombia",
          "Qatar",
          "China",
          "Egypt",
          "Sweden",
          "Argentina",
          "Belarus",
          "Belgium",
          "Indonesia",
          "Ecuador",
          "Iraq",
          "Netherlands",
          "UAE",
          "Kuwait",
          "Ukraine",
          "Singapore",
          "Portugal",
          "Kazakhstan",
          "Oman",
          "Philippines",
          "Poland",
          "Panama",
          "Bolivia",
          "Dominican Republic",
          "Afghanistan",
          "Switzerland",
          "Romania",
          "Bahrain",
          "Armenia",
          "Nigeria",
          "Israel",
          "Ireland",
          "Honduras",
          "Guatemala",
          "Japan",
          "Azerbaijan",
          "Ghana",
          "Austria",
          "Moldova",
          "Serbia",
          "Algeria",
          "Nepal",
          "Morocco",
          "S. Korea",
          "Denmark",
          "Cameroon",
          "Czechia",
          "Ivory Coast",
          "Sudan",
          "Uzbekistan",
          "Norway",
          "Malaysia",
          "Australia",
          "Finland",
          "DRC",
          "Senegal",
          "El Salvador",
          "Kenya",
          "North Macedonia",
          "Kyrgyzstan",
          "Venezuela",
          "Tajikistan",
          "Haiti",
          "Ethiopia",
          "Gabon",
          "Guinea",
          "Bulgaria",
          "Bosnia and Herzegovina",
          "Djibouti",
          "Mauritania",
          "French Guiana",
          "Luxembourg",
          "Hungary",
          "CAR",
          "Costa Rica",
          "Greece",
          "Thailand",
          "Palestine",
          "Somalia",
          "Croatia",
          "Albania",
          "Mayotte",
          "Nicaragua",
          "Madagascar",
          "Maldives",
          "Cuba",
          "Mali",
          "Paraguay",
          "Sri Lanka",
          "South Sudan",
          "Equatorial Guinea",
          "Estonia",
          "Iceland",
          "Lithuania",
          "Lebanon",
          "Slovakia",
          "Guinea-Bissau",
          "Slovenia",
          "Zambia",
          "New Zealand",
          "Sierra Leone",
          "Congo",
          "Malawi",
          "Cabo Verde",
          "Hong Kong",
          "Benin",
          "Yemen",
          "Tunisia",
          "Jordan",
          "Latvia",
          "Niger",
          "Rwanda",
          "Cyprus",
          "Burkina Faso",
          "Uruguay",
          "Georgia",
          "Mozambique",
          "Uganda",
          "Libya",
          "Eswatini",
          "Chad",
          "Andorra",
          "Liberia",
          "Sao Tome and Principe",
          "Diamond Princess",
          "Jamaica",
          "San Marino",
          "Malta",
          "Togo",
          "Montenegro",
          "Zimbabwe",
          "Channel Islands",
          "Suriname",
          "Réunion",
          "Tanzania",
          "Taiwan",
          "Vietnam",
          "Mauritius",
          "Isle of Man",
          "Syria",
          "Myanmar",
          "Comoros",
          "Namibia",
          "Angola",
          "Guyana",
          "Martinique",
          "Botswana",
          "Mongolia",
          "Eritrea",
          "Cayman Islands",
          "Faeroe Islands",
          "Guadeloupe",
          "Gibraltar",
          "Burundi",
          "Bermuda",
          "Brunei",
          "Cambodia",
          "Trinidad and Tobago",
          "Monaco",
          "Bahamas",
          "Aruba",
          "Barbados",
          "Liechtenstein",
          "Seychelles",
          "Sint Maarten",
          "Bhutan",
          "Antigua and Barbuda",
          "French Polynesia",
          "Gambia",
          "Macao",
          "Saint Martin",
          "Turks and Caicos",
          "Lesotho",
          "St. Vincent Grenadines",
          "Belize",
          "Timor-Leste",
          "Curaçao",
          "Grenada",
          "New Caledonia",
          "Laos",
          "Saint Lucia",
          "Dominica",
          "Fiji",
          "Saint Kitts and Nevis",
          "Falkland Islands",
          "Greenland",
          "Vatican City",
          "Montserrat",
          "Papua New Guinea",
          "Western Sahara",
          "MS Zaandam",
          "British Virgin Islands",
          "Caribbean Netherlands",
          "St. Barth",
          "Anguilla",
          "Saint Pierre Miquelon"
         ],
         "locationmode": "country names",
         "locations": [
          "USA",
          "Brazil",
          "Russia",
          "India",
          "UK",
          "Spain",
          "Peru",
          "Chile",
          "Italy",
          "Iran",
          "Mexico",
          "Pakistan",
          "Turkey",
          "Saudi Arabia",
          "Germany",
          "France",
          "South Africa",
          "Bangladesh",
          "Canada",
          "Colombia",
          "Qatar",
          "China",
          "Egypt",
          "Sweden",
          "Argentina",
          "Belarus",
          "Belgium",
          "Indonesia",
          "Ecuador",
          "Iraq",
          "Netherlands",
          "UAE",
          "Kuwait",
          "Ukraine",
          "Singapore",
          "Portugal",
          "Kazakhstan",
          "Oman",
          "Philippines",
          "Poland",
          "Panama",
          "Bolivia",
          "Dominican Republic",
          "Afghanistan",
          "Switzerland",
          "Romania",
          "Bahrain",
          "Armenia",
          "Nigeria",
          "Israel",
          "Ireland",
          "Honduras",
          "Guatemala",
          "Japan",
          "Azerbaijan",
          "Ghana",
          "Austria",
          "Moldova",
          "Serbia",
          "Algeria",
          "Nepal",
          "Morocco",
          "S. Korea",
          "Denmark",
          "Cameroon",
          "Czechia",
          "Ivory Coast",
          "Sudan",
          "Uzbekistan",
          "Norway",
          "Malaysia",
          "Australia",
          "Finland",
          "DRC",
          "Senegal",
          "El Salvador",
          "Kenya",
          "North Macedonia",
          "Kyrgyzstan",
          "Venezuela",
          "Tajikistan",
          "Haiti",
          "Ethiopia",
          "Gabon",
          "Guinea",
          "Bulgaria",
          "Bosnia and Herzegovina",
          "Djibouti",
          "Mauritania",
          "French Guiana",
          "Luxembourg",
          "Hungary",
          "CAR",
          "Costa Rica",
          "Greece",
          "Thailand",
          "Palestine",
          "Somalia",
          "Croatia",
          "Albania",
          "Mayotte",
          "Nicaragua",
          "Madagascar",
          "Maldives",
          "Cuba",
          "Mali",
          "Paraguay",
          "Sri Lanka",
          "South Sudan",
          "Equatorial Guinea",
          "Estonia",
          "Iceland",
          "Lithuania",
          "Lebanon",
          "Slovakia",
          "Guinea-Bissau",
          "Slovenia",
          "Zambia",
          "New Zealand",
          "Sierra Leone",
          "Congo",
          "Malawi",
          "Cabo Verde",
          "Hong Kong",
          "Benin",
          "Yemen",
          "Tunisia",
          "Jordan",
          "Latvia",
          "Niger",
          "Rwanda",
          "Cyprus",
          "Burkina Faso",
          "Uruguay",
          "Georgia",
          "Mozambique",
          "Uganda",
          "Libya",
          "Eswatini",
          "Chad",
          "Andorra",
          "Liberia",
          "Sao Tome and Principe",
          "Diamond Princess",
          "Jamaica",
          "San Marino",
          "Malta",
          "Togo",
          "Montenegro",
          "Zimbabwe",
          "Channel Islands",
          "Suriname",
          "Réunion",
          "Tanzania",
          "Taiwan",
          "Vietnam",
          "Mauritius",
          "Isle of Man",
          "Syria",
          "Myanmar",
          "Comoros",
          "Namibia",
          "Angola",
          "Guyana",
          "Martinique",
          "Botswana",
          "Mongolia",
          "Eritrea",
          "Cayman Islands",
          "Faeroe Islands",
          "Guadeloupe",
          "Gibraltar",
          "Burundi",
          "Bermuda",
          "Brunei",
          "Cambodia",
          "Trinidad and Tobago",
          "Monaco",
          "Bahamas",
          "Aruba",
          "Barbados",
          "Liechtenstein",
          "Seychelles",
          "Sint Maarten",
          "Bhutan",
          "Antigua and Barbuda",
          "French Polynesia",
          "Gambia",
          "Macao",
          "Saint Martin",
          "Turks and Caicos",
          "Lesotho",
          "St. Vincent Grenadines",
          "Belize",
          "Timor-Leste",
          "Curaçao",
          "Grenada",
          "New Caledonia",
          "Laos",
          "Saint Lucia",
          "Dominica",
          "Fiji",
          "Saint Kitts and Nevis",
          "Falkland Islands",
          "Greenland",
          "Vatican City",
          "Montserrat",
          "Papua New Guinea",
          "Western Sahara",
          "MS Zaandam",
          "British Virgin Islands",
          "Caribbean Netherlands",
          "St. Barth",
          "Anguilla",
          "Saint Pierre Miquelon"
         ],
         "name": "",
         "type": "choropleth",
         "z": [
          396,
          288,
          66,
          13,
          647,
          607,
          299,
          310,
          576,
          132,
          221,
          20,
          61,
          50,
          108,
          458,
          46,
          12,
          229,
          68,
          42,
          3,
          30,
          532,
          30,
          43,
          842,
          11,
          259,
          54,
          357,
          32,
          84,
          27,
          4,
          156,
          10,
          37,
          12,
          39,
          149,
          103,
          71,
          21,
          227,
          88,
          55,
          155,
          3,
          35,
          352,
          55,
          46,
          8,
          22,
          4,
          78,
          139,
          33,
          21,
          1,
          6,
          6,
          105,
          12,
          33,
          3,
          14,
          0.8,
          46,
          4,
          4,
          59,
          2,
          7,
          29,
          3,
          154,
          10,
          2,
          5,
          9,
          0.9,
          19,
          3,
          33,
          58,
          56,
          28,
          54,
          176,
          61,
          10,
          3,
          18,
          0.8,
          2,
          6,
          27,
          24,
          128,
          13,
          0.9,
          19,
          8,
          6,
          3,
          0.5,
          3,
          23,
          52,
          29,
          29,
          5,
          5,
          12,
          53,
          2,
          4,
          8,
          7,
          0.8,
          27,
          0.9,
          2,
          11,
          4,
          0.9,
          16,
          3,
          0.2,
          16,
          3,
          8,
          4,
          0.2,
          null,
          4,
          9,
          5,
          673,
          7,
          59,
          null,
          3,
          1238,
          20,
          2,
          19,
          0.5,
          270,
          22,
          2,
          0.4,
          0.3,
          null,
          8,
          282,
          0.5,
          0.1,
          8,
          null,
          0.5,
          17,
          37,
          0.4,
          null,
          null,
          15,
          null,
          35,
          null,
          0.08,
          145,
          7,
          null,
          6,
          102,
          28,
          28,
          24,
          26,
          null,
          350,
          null,
          31,
          null,
          0.8,
          null,
          78,
          52,
          null,
          null,
          5,
          null,
          6,
          null,
          null,
          null,
          null,
          null,
          null,
          null,
          null,
          null,
          null,
          200,
          null,
          2,
          null,
          33,
          null,
          null,
          null,
          null
         ]
        }
       ],
       "layout": {
        "coloraxis": {
         "colorbar": {
          "title": {
           "text": "deaths_per_mil"
          }
         },
         "colorscale": [
          [
           0,
           "rgb(252, 222, 156)"
          ],
          [
           0.16666666666666666,
           "rgb(250, 164, 118)"
          ],
          [
           0.3333333333333333,
           "rgb(240, 116, 110)"
          ],
          [
           0.5,
           "rgb(227, 79, 111)"
          ],
          [
           0.6666666666666666,
           "rgb(220, 57, 119)"
          ],
          [
           0.8333333333333334,
           "rgb(185, 37, 122)"
          ],
          [
           1,
           "rgb(124, 29, 111)"
          ]
         ]
        },
        "geo": {
         "center": {},
         "domain": {
          "x": [
           0,
           1
          ],
          "y": [
           0,
           1
          ]
         },
         "showcoastlines": false,
         "showframe": false
        },
        "legend": {
         "tracegroupgap": 0
        },
        "margin": {
         "t": 60
        },
        "template": {
         "data": {
          "bar": [
           {
            "error_x": {
             "color": "#2a3f5f"
            },
            "error_y": {
             "color": "#2a3f5f"
            },
            "marker": {
             "line": {
              "color": "#E5ECF6",
              "width": 0.5
             }
            },
            "type": "bar"
           }
          ],
          "barpolar": [
           {
            "marker": {
             "line": {
              "color": "#E5ECF6",
              "width": 0.5
             }
            },
            "type": "barpolar"
           }
          ],
          "carpet": [
           {
            "aaxis": {
             "endlinecolor": "#2a3f5f",
             "gridcolor": "white",
             "linecolor": "white",
             "minorgridcolor": "white",
             "startlinecolor": "#2a3f5f"
            },
            "baxis": {
             "endlinecolor": "#2a3f5f",
             "gridcolor": "white",
             "linecolor": "white",
             "minorgridcolor": "white",
             "startlinecolor": "#2a3f5f"
            },
            "type": "carpet"
           }
          ],
          "choropleth": [
           {
            "colorbar": {
             "outlinewidth": 0,
             "ticks": ""
            },
            "type": "choropleth"
           }
          ],
          "contour": [
           {
            "colorbar": {
             "outlinewidth": 0,
             "ticks": ""
            },
            "colorscale": [
             [
              0,
              "#0d0887"
             ],
             [
              0.1111111111111111,
              "#46039f"
             ],
             [
              0.2222222222222222,
              "#7201a8"
             ],
             [
              0.3333333333333333,
              "#9c179e"
             ],
             [
              0.4444444444444444,
              "#bd3786"
             ],
             [
              0.5555555555555556,
              "#d8576b"
             ],
             [
              0.6666666666666666,
              "#ed7953"
             ],
             [
              0.7777777777777778,
              "#fb9f3a"
             ],
             [
              0.8888888888888888,
              "#fdca26"
             ],
             [
              1,
              "#f0f921"
             ]
            ],
            "type": "contour"
           }
          ],
          "contourcarpet": [
           {
            "colorbar": {
             "outlinewidth": 0,
             "ticks": ""
            },
            "type": "contourcarpet"
           }
          ],
          "heatmap": [
           {
            "colorbar": {
             "outlinewidth": 0,
             "ticks": ""
            },
            "colorscale": [
             [
              0,
              "#0d0887"
             ],
             [
              0.1111111111111111,
              "#46039f"
             ],
             [
              0.2222222222222222,
              "#7201a8"
             ],
             [
              0.3333333333333333,
              "#9c179e"
             ],
             [
              0.4444444444444444,
              "#bd3786"
             ],
             [
              0.5555555555555556,
              "#d8576b"
             ],
             [
              0.6666666666666666,
              "#ed7953"
             ],
             [
              0.7777777777777778,
              "#fb9f3a"
             ],
             [
              0.8888888888888888,
              "#fdca26"
             ],
             [
              1,
              "#f0f921"
             ]
            ],
            "type": "heatmap"
           }
          ],
          "heatmapgl": [
           {
            "colorbar": {
             "outlinewidth": 0,
             "ticks": ""
            },
            "colorscale": [
             [
              0,
              "#0d0887"
             ],
             [
              0.1111111111111111,
              "#46039f"
             ],
             [
              0.2222222222222222,
              "#7201a8"
             ],
             [
              0.3333333333333333,
              "#9c179e"
             ],
             [
              0.4444444444444444,
              "#bd3786"
             ],
             [
              0.5555555555555556,
              "#d8576b"
             ],
             [
              0.6666666666666666,
              "#ed7953"
             ],
             [
              0.7777777777777778,
              "#fb9f3a"
             ],
             [
              0.8888888888888888,
              "#fdca26"
             ],
             [
              1,
              "#f0f921"
             ]
            ],
            "type": "heatmapgl"
           }
          ],
          "histogram": [
           {
            "marker": {
             "colorbar": {
              "outlinewidth": 0,
              "ticks": ""
             }
            },
            "type": "histogram"
           }
          ],
          "histogram2d": [
           {
            "colorbar": {
             "outlinewidth": 0,
             "ticks": ""
            },
            "colorscale": [
             [
              0,
              "#0d0887"
             ],
             [
              0.1111111111111111,
              "#46039f"
             ],
             [
              0.2222222222222222,
              "#7201a8"
             ],
             [
              0.3333333333333333,
              "#9c179e"
             ],
             [
              0.4444444444444444,
              "#bd3786"
             ],
             [
              0.5555555555555556,
              "#d8576b"
             ],
             [
              0.6666666666666666,
              "#ed7953"
             ],
             [
              0.7777777777777778,
              "#fb9f3a"
             ],
             [
              0.8888888888888888,
              "#fdca26"
             ],
             [
              1,
              "#f0f921"
             ]
            ],
            "type": "histogram2d"
           }
          ],
          "histogram2dcontour": [
           {
            "colorbar": {
             "outlinewidth": 0,
             "ticks": ""
            },
            "colorscale": [
             [
              0,
              "#0d0887"
             ],
             [
              0.1111111111111111,
              "#46039f"
             ],
             [
              0.2222222222222222,
              "#7201a8"
             ],
             [
              0.3333333333333333,
              "#9c179e"
             ],
             [
              0.4444444444444444,
              "#bd3786"
             ],
             [
              0.5555555555555556,
              "#d8576b"
             ],
             [
              0.6666666666666666,
              "#ed7953"
             ],
             [
              0.7777777777777778,
              "#fb9f3a"
             ],
             [
              0.8888888888888888,
              "#fdca26"
             ],
             [
              1,
              "#f0f921"
             ]
            ],
            "type": "histogram2dcontour"
           }
          ],
          "mesh3d": [
           {
            "colorbar": {
             "outlinewidth": 0,
             "ticks": ""
            },
            "type": "mesh3d"
           }
          ],
          "parcoords": [
           {
            "line": {
             "colorbar": {
              "outlinewidth": 0,
              "ticks": ""
             }
            },
            "type": "parcoords"
           }
          ],
          "pie": [
           {
            "automargin": true,
            "type": "pie"
           }
          ],
          "scatter": [
           {
            "marker": {
             "colorbar": {
              "outlinewidth": 0,
              "ticks": ""
             }
            },
            "type": "scatter"
           }
          ],
          "scatter3d": [
           {
            "line": {
             "colorbar": {
              "outlinewidth": 0,
              "ticks": ""
             }
            },
            "marker": {
             "colorbar": {
              "outlinewidth": 0,
              "ticks": ""
             }
            },
            "type": "scatter3d"
           }
          ],
          "scattercarpet": [
           {
            "marker": {
             "colorbar": {
              "outlinewidth": 0,
              "ticks": ""
             }
            },
            "type": "scattercarpet"
           }
          ],
          "scattergeo": [
           {
            "marker": {
             "colorbar": {
              "outlinewidth": 0,
              "ticks": ""
             }
            },
            "type": "scattergeo"
           }
          ],
          "scattergl": [
           {
            "marker": {
             "colorbar": {
              "outlinewidth": 0,
              "ticks": ""
             }
            },
            "type": "scattergl"
           }
          ],
          "scattermapbox": [
           {
            "marker": {
             "colorbar": {
              "outlinewidth": 0,
              "ticks": ""
             }
            },
            "type": "scattermapbox"
           }
          ],
          "scatterpolar": [
           {
            "marker": {
             "colorbar": {
              "outlinewidth": 0,
              "ticks": ""
             }
            },
            "type": "scatterpolar"
           }
          ],
          "scatterpolargl": [
           {
            "marker": {
             "colorbar": {
              "outlinewidth": 0,
              "ticks": ""
             }
            },
            "type": "scatterpolargl"
           }
          ],
          "scatterternary": [
           {
            "marker": {
             "colorbar": {
              "outlinewidth": 0,
              "ticks": ""
             }
            },
            "type": "scatterternary"
           }
          ],
          "surface": [
           {
            "colorbar": {
             "outlinewidth": 0,
             "ticks": ""
            },
            "colorscale": [
             [
              0,
              "#0d0887"
             ],
             [
              0.1111111111111111,
              "#46039f"
             ],
             [
              0.2222222222222222,
              "#7201a8"
             ],
             [
              0.3333333333333333,
              "#9c179e"
             ],
             [
              0.4444444444444444,
              "#bd3786"
             ],
             [
              0.5555555555555556,
              "#d8576b"
             ],
             [
              0.6666666666666666,
              "#ed7953"
             ],
             [
              0.7777777777777778,
              "#fb9f3a"
             ],
             [
              0.8888888888888888,
              "#fdca26"
             ],
             [
              1,
              "#f0f921"
             ]
            ],
            "type": "surface"
           }
          ],
          "table": [
           {
            "cells": {
             "fill": {
              "color": "#EBF0F8"
             },
             "line": {
              "color": "white"
             }
            },
            "header": {
             "fill": {
              "color": "#C8D4E3"
             },
             "line": {
              "color": "white"
             }
            },
            "type": "table"
           }
          ]
         },
         "layout": {
          "annotationdefaults": {
           "arrowcolor": "#2a3f5f",
           "arrowhead": 0,
           "arrowwidth": 1
          },
          "coloraxis": {
           "colorbar": {
            "outlinewidth": 0,
            "ticks": ""
           }
          },
          "colorscale": {
           "diverging": [
            [
             0,
             "#8e0152"
            ],
            [
             0.1,
             "#c51b7d"
            ],
            [
             0.2,
             "#de77ae"
            ],
            [
             0.3,
             "#f1b6da"
            ],
            [
             0.4,
             "#fde0ef"
            ],
            [
             0.5,
             "#f7f7f7"
            ],
            [
             0.6,
             "#e6f5d0"
            ],
            [
             0.7,
             "#b8e186"
            ],
            [
             0.8,
             "#7fbc41"
            ],
            [
             0.9,
             "#4d9221"
            ],
            [
             1,
             "#276419"
            ]
           ],
           "sequential": [
            [
             0,
             "#0d0887"
            ],
            [
             0.1111111111111111,
             "#46039f"
            ],
            [
             0.2222222222222222,
             "#7201a8"
            ],
            [
             0.3333333333333333,
             "#9c179e"
            ],
            [
             0.4444444444444444,
             "#bd3786"
            ],
            [
             0.5555555555555556,
             "#d8576b"
            ],
            [
             0.6666666666666666,
             "#ed7953"
            ],
            [
             0.7777777777777778,
             "#fb9f3a"
            ],
            [
             0.8888888888888888,
             "#fdca26"
            ],
            [
             1,
             "#f0f921"
            ]
           ],
           "sequentialminus": [
            [
             0,
             "#0d0887"
            ],
            [
             0.1111111111111111,
             "#46039f"
            ],
            [
             0.2222222222222222,
             "#7201a8"
            ],
            [
             0.3333333333333333,
             "#9c179e"
            ],
            [
             0.4444444444444444,
             "#bd3786"
            ],
            [
             0.5555555555555556,
             "#d8576b"
            ],
            [
             0.6666666666666666,
             "#ed7953"
            ],
            [
             0.7777777777777778,
             "#fb9f3a"
            ],
            [
             0.8888888888888888,
             "#fdca26"
            ],
            [
             1,
             "#f0f921"
            ]
           ]
          },
          "colorway": [
           "#636efa",
           "#EF553B",
           "#00cc96",
           "#ab63fa",
           "#FFA15A",
           "#19d3f3",
           "#FF6692",
           "#B6E880",
           "#FF97FF",
           "#FECB52"
          ],
          "font": {
           "color": "#2a3f5f"
          },
          "geo": {
           "bgcolor": "white",
           "lakecolor": "white",
           "landcolor": "#E5ECF6",
           "showlakes": true,
           "showland": true,
           "subunitcolor": "white"
          },
          "hoverlabel": {
           "align": "left"
          },
          "hovermode": "closest",
          "mapbox": {
           "style": "light"
          },
          "paper_bgcolor": "white",
          "plot_bgcolor": "#E5ECF6",
          "polar": {
           "angularaxis": {
            "gridcolor": "white",
            "linecolor": "white",
            "ticks": ""
           },
           "bgcolor": "#E5ECF6",
           "radialaxis": {
            "gridcolor": "white",
            "linecolor": "white",
            "ticks": ""
           }
          },
          "scene": {
           "xaxis": {
            "backgroundcolor": "#E5ECF6",
            "gridcolor": "white",
            "gridwidth": 2,
            "linecolor": "white",
            "showbackground": true,
            "ticks": "",
            "zerolinecolor": "white"
           },
           "yaxis": {
            "backgroundcolor": "#E5ECF6",
            "gridcolor": "white",
            "gridwidth": 2,
            "linecolor": "white",
            "showbackground": true,
            "ticks": "",
            "zerolinecolor": "white"
           },
           "zaxis": {
            "backgroundcolor": "#E5ECF6",
            "gridcolor": "white",
            "gridwidth": 2,
            "linecolor": "white",
            "showbackground": true,
            "ticks": "",
            "zerolinecolor": "white"
           }
          },
          "shapedefaults": {
           "line": {
            "color": "#2a3f5f"
           }
          },
          "ternary": {
           "aaxis": {
            "gridcolor": "white",
            "linecolor": "white",
            "ticks": ""
           },
           "baxis": {
            "gridcolor": "white",
            "linecolor": "white",
            "ticks": ""
           },
           "bgcolor": "#E5ECF6",
           "caxis": {
            "gridcolor": "white",
            "linecolor": "white",
            "ticks": ""
           }
          },
          "title": {
           "x": 0.05
          },
          "xaxis": {
           "automargin": true,
           "gridcolor": "white",
           "linecolor": "white",
           "ticks": "",
           "title": {
            "standoff": 15
           },
           "zerolinecolor": "white",
           "zerolinewidth": 2
          },
          "yaxis": {
           "automargin": true,
           "gridcolor": "white",
           "linecolor": "white",
           "ticks": "",
           "title": {
            "standoff": 15
           },
           "zerolinecolor": "white",
           "zerolinewidth": 2
          }
         }
        },
        "title": {
         "text": "Coronavirus Deaths/1M Pop, by Country"
        }
       }
      },
      "text/html": [
       "<div>\n",
       "        \n",
       "        \n",
       "            <div id=\"fc6c9276-a475-489d-8b35-391e20b5a13b\" class=\"plotly-graph-div\" style=\"height:525px; width:100%;\"></div>\n",
       "            <script type=\"text/javascript\">\n",
       "                require([\"plotly\"], function(Plotly) {\n",
       "                    window.PLOTLYENV=window.PLOTLYENV || {};\n",
       "                    \n",
       "                if (document.getElementById(\"fc6c9276-a475-489d-8b35-391e20b5a13b\")) {\n",
       "                    Plotly.newPlot(\n",
       "                        'fc6c9276-a475-489d-8b35-391e20b5a13b',\n",
       "                        [{\"coloraxis\": \"coloraxis\", \"geo\": \"geo\", \"hovertemplate\": \"<b>%{hovertext}</b><br><br>country=%{location}<br>deaths_per_mil=%{z}<extra></extra>\", \"hovertext\": [\"USA\", \"Brazil\", \"Russia\", \"India\", \"UK\", \"Spain\", \"Peru\", \"Chile\", \"Italy\", \"Iran\", \"Mexico\", \"Pakistan\", \"Turkey\", \"Saudi Arabia\", \"Germany\", \"France\", \"South Africa\", \"Bangladesh\", \"Canada\", \"Colombia\", \"Qatar\", \"China\", \"Egypt\", \"Sweden\", \"Argentina\", \"Belarus\", \"Belgium\", \"Indonesia\", \"Ecuador\", \"Iraq\", \"Netherlands\", \"UAE\", \"Kuwait\", \"Ukraine\", \"Singapore\", \"Portugal\", \"Kazakhstan\", \"Oman\", \"Philippines\", \"Poland\", \"Panama\", \"Bolivia\", \"Dominican Republic\", \"Afghanistan\", \"Switzerland\", \"Romania\", \"Bahrain\", \"Armenia\", \"Nigeria\", \"Israel\", \"Ireland\", \"Honduras\", \"Guatemala\", \"Japan\", \"Azerbaijan\", \"Ghana\", \"Austria\", \"Moldova\", \"Serbia\", \"Algeria\", \"Nepal\", \"Morocco\", \"S. Korea\", \"Denmark\", \"Cameroon\", \"Czechia\", \"Ivory Coast\", \"Sudan\", \"Uzbekistan\", \"Norway\", \"Malaysia\", \"Australia\", \"Finland\", \"DRC\", \"Senegal\", \"El Salvador\", \"Kenya\", \"North Macedonia\", \"Kyrgyzstan\", \"Venezuela\", \"Tajikistan\", \"Haiti\", \"Ethiopia\", \"Gabon\", \"Guinea\", \"Bulgaria\", \"Bosnia and Herzegovina\", \"Djibouti\", \"Mauritania\", \"French Guiana\", \"Luxembourg\", \"Hungary\", \"CAR\", \"Costa Rica\", \"Greece\", \"Thailand\", \"Palestine\", \"Somalia\", \"Croatia\", \"Albania\", \"Mayotte\", \"Nicaragua\", \"Madagascar\", \"Maldives\", \"Cuba\", \"Mali\", \"Paraguay\", \"Sri Lanka\", \"South Sudan\", \"Equatorial Guinea\", \"Estonia\", \"Iceland\", \"Lithuania\", \"Lebanon\", \"Slovakia\", \"Guinea-Bissau\", \"Slovenia\", \"Zambia\", \"New Zealand\", \"Sierra Leone\", \"Congo\", \"Malawi\", \"Cabo Verde\", \"Hong Kong\", \"Benin\", \"Yemen\", \"Tunisia\", \"Jordan\", \"Latvia\", \"Niger\", \"Rwanda\", \"Cyprus\", \"Burkina Faso\", \"Uruguay\", \"Georgia\", \"Mozambique\", \"Uganda\", \"Libya\", \"Eswatini\", \"Chad\", \"Andorra\", \"Liberia\", \"Sao Tome and Principe\", \"Diamond Princess\", \"Jamaica\", \"San Marino\", \"Malta\", \"Togo\", \"Montenegro\", \"Zimbabwe\", \"Channel Islands\", \"Suriname\", \"R\\u00e9union\", \"Tanzania\", \"Taiwan\", \"Vietnam\", \"Mauritius\", \"Isle of Man\", \"Syria\", \"Myanmar\", \"Comoros\", \"Namibia\", \"Angola\", \"Guyana\", \"Martinique\", \"Botswana\", \"Mongolia\", \"Eritrea\", \"Cayman Islands\", \"Faeroe Islands\", \"Guadeloupe\", \"Gibraltar\", \"Burundi\", \"Bermuda\", \"Brunei\", \"Cambodia\", \"Trinidad and Tobago\", \"Monaco\", \"Bahamas\", \"Aruba\", \"Barbados\", \"Liechtenstein\", \"Seychelles\", \"Sint Maarten\", \"Bhutan\", \"Antigua and Barbuda\", \"French Polynesia\", \"Gambia\", \"Macao\", \"Saint Martin\", \"Turks and Caicos\", \"Lesotho\", \"St. Vincent Grenadines\", \"Belize\", \"Timor-Leste\", \"Cura\\u00e7ao\", \"Grenada\", \"New Caledonia\", \"Laos\", \"Saint Lucia\", \"Dominica\", \"Fiji\", \"Saint Kitts and Nevis\", \"Falkland Islands\", \"Greenland\", \"Vatican City\", \"Montserrat\", \"Papua New Guinea\", \"Western Sahara\", \"MS Zaandam\", \"British Virgin Islands\", \"Caribbean Netherlands\", \"St. Barth\", \"Anguilla\", \"Saint Pierre Miquelon\"], \"locationmode\": \"country names\", \"locations\": [\"USA\", \"Brazil\", \"Russia\", \"India\", \"UK\", \"Spain\", \"Peru\", \"Chile\", \"Italy\", \"Iran\", \"Mexico\", \"Pakistan\", \"Turkey\", \"Saudi Arabia\", \"Germany\", \"France\", \"South Africa\", \"Bangladesh\", \"Canada\", \"Colombia\", \"Qatar\", \"China\", \"Egypt\", \"Sweden\", \"Argentina\", \"Belarus\", \"Belgium\", \"Indonesia\", \"Ecuador\", \"Iraq\", \"Netherlands\", \"UAE\", \"Kuwait\", \"Ukraine\", \"Singapore\", \"Portugal\", \"Kazakhstan\", \"Oman\", \"Philippines\", \"Poland\", \"Panama\", \"Bolivia\", \"Dominican Republic\", \"Afghanistan\", \"Switzerland\", \"Romania\", \"Bahrain\", \"Armenia\", \"Nigeria\", \"Israel\", \"Ireland\", \"Honduras\", \"Guatemala\", \"Japan\", \"Azerbaijan\", \"Ghana\", \"Austria\", \"Moldova\", \"Serbia\", \"Algeria\", \"Nepal\", \"Morocco\", \"S. Korea\", \"Denmark\", \"Cameroon\", \"Czechia\", \"Ivory Coast\", \"Sudan\", \"Uzbekistan\", \"Norway\", \"Malaysia\", \"Australia\", \"Finland\", \"DRC\", \"Senegal\", \"El Salvador\", \"Kenya\", \"North Macedonia\", \"Kyrgyzstan\", \"Venezuela\", \"Tajikistan\", \"Haiti\", \"Ethiopia\", \"Gabon\", \"Guinea\", \"Bulgaria\", \"Bosnia and Herzegovina\", \"Djibouti\", \"Mauritania\", \"French Guiana\", \"Luxembourg\", \"Hungary\", \"CAR\", \"Costa Rica\", \"Greece\", \"Thailand\", \"Palestine\", \"Somalia\", \"Croatia\", \"Albania\", \"Mayotte\", \"Nicaragua\", \"Madagascar\", \"Maldives\", \"Cuba\", \"Mali\", \"Paraguay\", \"Sri Lanka\", \"South Sudan\", \"Equatorial Guinea\", \"Estonia\", \"Iceland\", \"Lithuania\", \"Lebanon\", \"Slovakia\", \"Guinea-Bissau\", \"Slovenia\", \"Zambia\", \"New Zealand\", \"Sierra Leone\", \"Congo\", \"Malawi\", \"Cabo Verde\", \"Hong Kong\", \"Benin\", \"Yemen\", \"Tunisia\", \"Jordan\", \"Latvia\", \"Niger\", \"Rwanda\", \"Cyprus\", \"Burkina Faso\", \"Uruguay\", \"Georgia\", \"Mozambique\", \"Uganda\", \"Libya\", \"Eswatini\", \"Chad\", \"Andorra\", \"Liberia\", \"Sao Tome and Principe\", \"Diamond Princess\", \"Jamaica\", \"San Marino\", \"Malta\", \"Togo\", \"Montenegro\", \"Zimbabwe\", \"Channel Islands\", \"Suriname\", \"R\\u00e9union\", \"Tanzania\", \"Taiwan\", \"Vietnam\", \"Mauritius\", \"Isle of Man\", \"Syria\", \"Myanmar\", \"Comoros\", \"Namibia\", \"Angola\", \"Guyana\", \"Martinique\", \"Botswana\", \"Mongolia\", \"Eritrea\", \"Cayman Islands\", \"Faeroe Islands\", \"Guadeloupe\", \"Gibraltar\", \"Burundi\", \"Bermuda\", \"Brunei\", \"Cambodia\", \"Trinidad and Tobago\", \"Monaco\", \"Bahamas\", \"Aruba\", \"Barbados\", \"Liechtenstein\", \"Seychelles\", \"Sint Maarten\", \"Bhutan\", \"Antigua and Barbuda\", \"French Polynesia\", \"Gambia\", \"Macao\", \"Saint Martin\", \"Turks and Caicos\", \"Lesotho\", \"St. Vincent Grenadines\", \"Belize\", \"Timor-Leste\", \"Cura\\u00e7ao\", \"Grenada\", \"New Caledonia\", \"Laos\", \"Saint Lucia\", \"Dominica\", \"Fiji\", \"Saint Kitts and Nevis\", \"Falkland Islands\", \"Greenland\", \"Vatican City\", \"Montserrat\", \"Papua New Guinea\", \"Western Sahara\", \"MS Zaandam\", \"British Virgin Islands\", \"Caribbean Netherlands\", \"St. Barth\", \"Anguilla\", \"Saint Pierre Miquelon\"], \"name\": \"\", \"type\": \"choropleth\", \"z\": [396.0, 288.0, 66.0, 13.0, 647.0, 607.0, 299.0, 310.0, 576.0, 132.0, 221.0, 20.0, 61.0, 50.0, 108.0, 458.0, 46.0, 12.0, 229.0, 68.0, 42.0, 3.0, 30.0, 532.0, 30.0, 43.0, 842.0, 11.0, 259.0, 54.0, 357.0, 32.0, 84.0, 27.0, 4.0, 156.0, 10.0, 37.0, 12.0, 39.0, 149.0, 103.0, 71.0, 21.0, 227.0, 88.0, 55.0, 155.0, 3.0, 35.0, 352.0, 55.0, 46.0, 8.0, 22.0, 4.0, 78.0, 139.0, 33.0, 21.0, 1.0, 6.0, 6.0, 105.0, 12.0, 33.0, 3.0, 14.0, 0.8, 46.0, 4.0, 4.0, 59.0, 2.0, 7.0, 29.0, 3.0, 154.0, 10.0, 2.0, 5.0, 9.0, 0.9, 19.0, 3.0, 33.0, 58.0, 56.0, 28.0, 54.0, 176.0, 61.0, 10.0, 3.0, 18.0, 0.8, 2.0, 6.0, 27.0, 24.0, 128.0, 13.0, 0.9, 19.0, 8.0, 6.0, 3.0, 0.5, 3.0, 23.0, 52.0, 29.0, 29.0, 5.0, 5.0, 12.0, 53.0, 2.0, 4.0, 8.0, 7.0, 0.8, 27.0, 0.9, 2.0, 11.0, 4.0, 0.9, 16.0, 3.0, 0.2, 16.0, 3.0, 8.0, 4.0, 0.2, null, 4.0, 9.0, 5.0, 673.0, 7.0, 59.0, null, 3.0, 1238.0, 20.0, 2.0, 19.0, 0.5, 270.0, 22.0, 2.0, 0.4, 0.3, null, 8.0, 282.0, 0.5, 0.1, 8.0, null, 0.5, 17.0, 37.0, 0.4, null, null, 15.0, null, 35.0, null, 0.08, 145.0, 7.0, null, 6.0, 102.0, 28.0, 28.0, 24.0, 26.0, null, 350.0, null, 31.0, null, 0.8, null, 78.0, 52.0, null, null, 5.0, null, 6.0, null, null, null, null, null, null, null, null, null, null, 200.0, null, 2.0, null, 33.0, null, null, null, null]}],\n",
       "                        {\"coloraxis\": {\"colorbar\": {\"title\": {\"text\": \"deaths_per_mil\"}}, \"colorscale\": [[0.0, \"rgb(252, 222, 156)\"], [0.16666666666666666, \"rgb(250, 164, 118)\"], [0.3333333333333333, \"rgb(240, 116, 110)\"], [0.5, \"rgb(227, 79, 111)\"], [0.6666666666666666, \"rgb(220, 57, 119)\"], [0.8333333333333334, \"rgb(185, 37, 122)\"], [1.0, \"rgb(124, 29, 111)\"]]}, \"geo\": {\"center\": {}, \"domain\": {\"x\": [0.0, 1.0], \"y\": [0.0, 1.0]}, \"showcoastlines\": false, \"showframe\": false}, \"legend\": {\"tracegroupgap\": 0}, \"margin\": {\"t\": 60}, \"template\": {\"data\": {\"bar\": [{\"error_x\": {\"color\": \"#2a3f5f\"}, \"error_y\": {\"color\": \"#2a3f5f\"}, \"marker\": {\"line\": {\"color\": \"#E5ECF6\", \"width\": 0.5}}, \"type\": \"bar\"}], \"barpolar\": [{\"marker\": {\"line\": {\"color\": \"#E5ECF6\", \"width\": 0.5}}, \"type\": \"barpolar\"}], \"carpet\": [{\"aaxis\": {\"endlinecolor\": \"#2a3f5f\", \"gridcolor\": \"white\", \"linecolor\": \"white\", \"minorgridcolor\": \"white\", \"startlinecolor\": \"#2a3f5f\"}, \"baxis\": {\"endlinecolor\": \"#2a3f5f\", \"gridcolor\": \"white\", \"linecolor\": \"white\", \"minorgridcolor\": \"white\", \"startlinecolor\": \"#2a3f5f\"}, \"type\": \"carpet\"}], \"choropleth\": [{\"colorbar\": {\"outlinewidth\": 0, \"ticks\": \"\"}, \"type\": \"choropleth\"}], \"contour\": [{\"colorbar\": {\"outlinewidth\": 0, \"ticks\": \"\"}, \"colorscale\": [[0.0, \"#0d0887\"], [0.1111111111111111, \"#46039f\"], [0.2222222222222222, \"#7201a8\"], [0.3333333333333333, \"#9c179e\"], [0.4444444444444444, \"#bd3786\"], [0.5555555555555556, \"#d8576b\"], [0.6666666666666666, \"#ed7953\"], [0.7777777777777778, \"#fb9f3a\"], [0.8888888888888888, \"#fdca26\"], [1.0, \"#f0f921\"]], \"type\": \"contour\"}], \"contourcarpet\": [{\"colorbar\": {\"outlinewidth\": 0, \"ticks\": \"\"}, \"type\": \"contourcarpet\"}], \"heatmap\": [{\"colorbar\": {\"outlinewidth\": 0, \"ticks\": \"\"}, \"colorscale\": [[0.0, \"#0d0887\"], [0.1111111111111111, \"#46039f\"], [0.2222222222222222, \"#7201a8\"], [0.3333333333333333, \"#9c179e\"], [0.4444444444444444, \"#bd3786\"], [0.5555555555555556, \"#d8576b\"], [0.6666666666666666, \"#ed7953\"], [0.7777777777777778, \"#fb9f3a\"], [0.8888888888888888, \"#fdca26\"], [1.0, \"#f0f921\"]], \"type\": \"heatmap\"}], \"heatmapgl\": [{\"colorbar\": {\"outlinewidth\": 0, \"ticks\": \"\"}, \"colorscale\": [[0.0, \"#0d0887\"], [0.1111111111111111, \"#46039f\"], [0.2222222222222222, \"#7201a8\"], [0.3333333333333333, \"#9c179e\"], [0.4444444444444444, \"#bd3786\"], [0.5555555555555556, \"#d8576b\"], [0.6666666666666666, \"#ed7953\"], [0.7777777777777778, \"#fb9f3a\"], [0.8888888888888888, \"#fdca26\"], [1.0, \"#f0f921\"]], \"type\": \"heatmapgl\"}], \"histogram\": [{\"marker\": {\"colorbar\": {\"outlinewidth\": 0, \"ticks\": \"\"}}, \"type\": \"histogram\"}], \"histogram2d\": [{\"colorbar\": {\"outlinewidth\": 0, \"ticks\": \"\"}, \"colorscale\": [[0.0, \"#0d0887\"], [0.1111111111111111, \"#46039f\"], [0.2222222222222222, \"#7201a8\"], [0.3333333333333333, \"#9c179e\"], [0.4444444444444444, \"#bd3786\"], [0.5555555555555556, \"#d8576b\"], [0.6666666666666666, \"#ed7953\"], [0.7777777777777778, \"#fb9f3a\"], [0.8888888888888888, \"#fdca26\"], [1.0, \"#f0f921\"]], \"type\": \"histogram2d\"}], \"histogram2dcontour\": [{\"colorbar\": {\"outlinewidth\": 0, \"ticks\": \"\"}, \"colorscale\": [[0.0, \"#0d0887\"], [0.1111111111111111, \"#46039f\"], [0.2222222222222222, \"#7201a8\"], [0.3333333333333333, \"#9c179e\"], [0.4444444444444444, \"#bd3786\"], [0.5555555555555556, \"#d8576b\"], [0.6666666666666666, \"#ed7953\"], [0.7777777777777778, \"#fb9f3a\"], [0.8888888888888888, \"#fdca26\"], [1.0, \"#f0f921\"]], \"type\": \"histogram2dcontour\"}], \"mesh3d\": [{\"colorbar\": {\"outlinewidth\": 0, \"ticks\": \"\"}, \"type\": \"mesh3d\"}], \"parcoords\": [{\"line\": {\"colorbar\": {\"outlinewidth\": 0, \"ticks\": \"\"}}, \"type\": \"parcoords\"}], \"pie\": [{\"automargin\": true, \"type\": \"pie\"}], \"scatter\": [{\"marker\": {\"colorbar\": {\"outlinewidth\": 0, \"ticks\": \"\"}}, \"type\": \"scatter\"}], \"scatter3d\": [{\"line\": {\"colorbar\": {\"outlinewidth\": 0, \"ticks\": \"\"}}, \"marker\": {\"colorbar\": {\"outlinewidth\": 0, \"ticks\": \"\"}}, \"type\": \"scatter3d\"}], \"scattercarpet\": [{\"marker\": {\"colorbar\": {\"outlinewidth\": 0, \"ticks\": \"\"}}, \"type\": \"scattercarpet\"}], \"scattergeo\": [{\"marker\": {\"colorbar\": {\"outlinewidth\": 0, \"ticks\": \"\"}}, \"type\": \"scattergeo\"}], \"scattergl\": [{\"marker\": {\"colorbar\": {\"outlinewidth\": 0, \"ticks\": \"\"}}, \"type\": \"scattergl\"}], \"scattermapbox\": [{\"marker\": {\"colorbar\": {\"outlinewidth\": 0, \"ticks\": \"\"}}, \"type\": \"scattermapbox\"}], \"scatterpolar\": [{\"marker\": {\"colorbar\": {\"outlinewidth\": 0, \"ticks\": \"\"}}, \"type\": \"scatterpolar\"}], \"scatterpolargl\": [{\"marker\": {\"colorbar\": {\"outlinewidth\": 0, \"ticks\": \"\"}}, \"type\": \"scatterpolargl\"}], \"scatterternary\": [{\"marker\": {\"colorbar\": {\"outlinewidth\": 0, \"ticks\": \"\"}}, \"type\": \"scatterternary\"}], \"surface\": [{\"colorbar\": {\"outlinewidth\": 0, \"ticks\": \"\"}, \"colorscale\": [[0.0, \"#0d0887\"], [0.1111111111111111, \"#46039f\"], [0.2222222222222222, \"#7201a8\"], [0.3333333333333333, \"#9c179e\"], [0.4444444444444444, \"#bd3786\"], [0.5555555555555556, \"#d8576b\"], [0.6666666666666666, \"#ed7953\"], [0.7777777777777778, \"#fb9f3a\"], [0.8888888888888888, \"#fdca26\"], [1.0, \"#f0f921\"]], \"type\": \"surface\"}], \"table\": [{\"cells\": {\"fill\": {\"color\": \"#EBF0F8\"}, \"line\": {\"color\": \"white\"}}, \"header\": {\"fill\": {\"color\": \"#C8D4E3\"}, \"line\": {\"color\": \"white\"}}, \"type\": \"table\"}]}, \"layout\": {\"annotationdefaults\": {\"arrowcolor\": \"#2a3f5f\", \"arrowhead\": 0, \"arrowwidth\": 1}, \"coloraxis\": {\"colorbar\": {\"outlinewidth\": 0, \"ticks\": \"\"}}, \"colorscale\": {\"diverging\": [[0, \"#8e0152\"], [0.1, \"#c51b7d\"], [0.2, \"#de77ae\"], [0.3, \"#f1b6da\"], [0.4, \"#fde0ef\"], [0.5, \"#f7f7f7\"], [0.6, \"#e6f5d0\"], [0.7, \"#b8e186\"], [0.8, \"#7fbc41\"], [0.9, \"#4d9221\"], [1, \"#276419\"]], \"sequential\": [[0.0, \"#0d0887\"], [0.1111111111111111, \"#46039f\"], [0.2222222222222222, \"#7201a8\"], [0.3333333333333333, \"#9c179e\"], [0.4444444444444444, \"#bd3786\"], [0.5555555555555556, \"#d8576b\"], [0.6666666666666666, \"#ed7953\"], [0.7777777777777778, \"#fb9f3a\"], [0.8888888888888888, \"#fdca26\"], [1.0, \"#f0f921\"]], \"sequentialminus\": [[0.0, \"#0d0887\"], [0.1111111111111111, \"#46039f\"], [0.2222222222222222, \"#7201a8\"], [0.3333333333333333, \"#9c179e\"], [0.4444444444444444, \"#bd3786\"], [0.5555555555555556, \"#d8576b\"], [0.6666666666666666, \"#ed7953\"], [0.7777777777777778, \"#fb9f3a\"], [0.8888888888888888, \"#fdca26\"], [1.0, \"#f0f921\"]]}, \"colorway\": [\"#636efa\", \"#EF553B\", \"#00cc96\", \"#ab63fa\", \"#FFA15A\", \"#19d3f3\", \"#FF6692\", \"#B6E880\", \"#FF97FF\", \"#FECB52\"], \"font\": {\"color\": \"#2a3f5f\"}, \"geo\": {\"bgcolor\": \"white\", \"lakecolor\": \"white\", \"landcolor\": \"#E5ECF6\", \"showlakes\": true, \"showland\": true, \"subunitcolor\": \"white\"}, \"hoverlabel\": {\"align\": \"left\"}, \"hovermode\": \"closest\", \"mapbox\": {\"style\": \"light\"}, \"paper_bgcolor\": \"white\", \"plot_bgcolor\": \"#E5ECF6\", \"polar\": {\"angularaxis\": {\"gridcolor\": \"white\", \"linecolor\": \"white\", \"ticks\": \"\"}, \"bgcolor\": \"#E5ECF6\", \"radialaxis\": {\"gridcolor\": \"white\", \"linecolor\": \"white\", \"ticks\": \"\"}}, \"scene\": {\"xaxis\": {\"backgroundcolor\": \"#E5ECF6\", \"gridcolor\": \"white\", \"gridwidth\": 2, \"linecolor\": \"white\", \"showbackground\": true, \"ticks\": \"\", \"zerolinecolor\": \"white\"}, \"yaxis\": {\"backgroundcolor\": \"#E5ECF6\", \"gridcolor\": \"white\", \"gridwidth\": 2, \"linecolor\": \"white\", \"showbackground\": true, \"ticks\": \"\", \"zerolinecolor\": \"white\"}, \"zaxis\": {\"backgroundcolor\": \"#E5ECF6\", \"gridcolor\": \"white\", \"gridwidth\": 2, \"linecolor\": \"white\", \"showbackground\": true, \"ticks\": \"\", \"zerolinecolor\": \"white\"}}, \"shapedefaults\": {\"line\": {\"color\": \"#2a3f5f\"}}, \"ternary\": {\"aaxis\": {\"gridcolor\": \"white\", \"linecolor\": \"white\", \"ticks\": \"\"}, \"baxis\": {\"gridcolor\": \"white\", \"linecolor\": \"white\", \"ticks\": \"\"}, \"bgcolor\": \"#E5ECF6\", \"caxis\": {\"gridcolor\": \"white\", \"linecolor\": \"white\", \"ticks\": \"\"}}, \"title\": {\"x\": 0.05}, \"xaxis\": {\"automargin\": true, \"gridcolor\": \"white\", \"linecolor\": \"white\", \"ticks\": \"\", \"title\": {\"standoff\": 15}, \"zerolinecolor\": \"white\", \"zerolinewidth\": 2}, \"yaxis\": {\"automargin\": true, \"gridcolor\": \"white\", \"linecolor\": \"white\", \"ticks\": \"\", \"title\": {\"standoff\": 15}, \"zerolinecolor\": \"white\", \"zerolinewidth\": 2}}}, \"title\": {\"text\": \"Coronavirus Deaths/1M Pop, by Country\"}},\n",
       "                        {\"responsive\": true}\n",
       "                    ).then(function(){\n",
       "                            \n",
       "var gd = document.getElementById('fc6c9276-a475-489d-8b35-391e20b5a13b');\n",
       "var x = new MutationObserver(function (mutations, observer) {{\n",
       "        var display = window.getComputedStyle(gd).display;\n",
       "        if (!display || display === 'none') {{\n",
       "            console.log([gd, 'removed!']);\n",
       "            Plotly.purge(gd);\n",
       "            observer.disconnect();\n",
       "        }}\n",
       "}});\n",
       "\n",
       "// Listen for the removal of the full notebook cells\n",
       "var notebookContainer = gd.closest('#notebook-container');\n",
       "if (notebookContainer) {{\n",
       "    x.observe(notebookContainer, {childList: true});\n",
       "}}\n",
       "\n",
       "// Listen for the clearing of the current output cell\n",
       "var outputEl = gd.closest('.output');\n",
       "if (outputEl) {{\n",
       "    x.observe(outputEl, {childList: true});\n",
       "}}\n",
       "\n",
       "                        })\n",
       "                };\n",
       "                });\n",
       "            </script>\n",
       "        </div>"
      ]
     },
     "metadata": {},
     "output_type": "display_data"
    }
   ],
   "source": [
    "fig = px.choropleth(covid,\n",
    "    locations='country',\n",
    "    locationmode='country names',\n",
    "    color='deaths_per_mil',\n",
    "    hover_name='country',\n",
    "    color_continuous_scale='sunsetdark')\n",
    "\n",
    "fig.update_layout(\n",
    "    title_text='Coronavirus Deaths/1M Pop, by Country',\n",
    "    geo=dict(showframe=False,showcoastlines=False))\n",
    "\n",
    "fig.show()"
   ]
  },
  {
   "cell_type": "code",
   "execution_count": 14,
   "metadata": {},
   "outputs": [
    {
     "data": {
      "text/html": [
       "<div>\n",
       "<style scoped>\n",
       "    .dataframe tbody tr th:only-of-type {\n",
       "        vertical-align: middle;\n",
       "    }\n",
       "\n",
       "    .dataframe tbody tr th {\n",
       "        vertical-align: top;\n",
       "    }\n",
       "\n",
       "    .dataframe thead th {\n",
       "        text-align: right;\n",
       "    }\n",
       "</style>\n",
       "<table border=\"1\" class=\"dataframe\">\n",
       "  <thead>\n",
       "    <tr style=\"text-align: right;\">\n",
       "      <th></th>\n",
       "      <th>country</th>\n",
       "      <th>percent_positive</th>\n",
       "    </tr>\n",
       "  </thead>\n",
       "  <tbody>\n",
       "    <tr>\n",
       "      <th>67</th>\n",
       "      <td>Sudan</td>\n",
       "      <td>23.872818</td>\n",
       "    </tr>\n",
       "    <tr>\n",
       "      <th>125</th>\n",
       "      <td>Yemen</td>\n",
       "      <td>9.916667</td>\n",
       "    </tr>\n",
       "    <tr>\n",
       "      <th>115</th>\n",
       "      <td>Guinea-Bissau</td>\n",
       "      <td>1.102667</td>\n",
       "    </tr>\n",
       "    <tr>\n",
       "      <th>52</th>\n",
       "      <td>Guatemala</td>\n",
       "      <td>0.604926</td>\n",
       "    </tr>\n",
       "    <tr>\n",
       "      <th>22</th>\n",
       "      <td>Egypt</td>\n",
       "      <td>0.517141</td>\n",
       "    </tr>\n",
       "    <tr>\n",
       "      <th>89</th>\n",
       "      <td>French Guiana</td>\n",
       "      <td>0.510394</td>\n",
       "    </tr>\n",
       "    <tr>\n",
       "      <th>81</th>\n",
       "      <td>Haiti</td>\n",
       "      <td>0.493424</td>\n",
       "    </tr>\n",
       "    <tr>\n",
       "      <th>1</th>\n",
       "      <td>Brazil</td>\n",
       "      <td>0.457581</td>\n",
       "    </tr>\n",
       "    <tr>\n",
       "      <th>41</th>\n",
       "      <td>Bolivia</td>\n",
       "      <td>0.442135</td>\n",
       "    </tr>\n",
       "    <tr>\n",
       "      <th>43</th>\n",
       "      <td>Afghanistan</td>\n",
       "      <td>0.435585</td>\n",
       "    </tr>\n",
       "    <tr>\n",
       "      <th>151</th>\n",
       "      <td>Suriname</td>\n",
       "      <td>0.430064</td>\n",
       "    </tr>\n",
       "    <tr>\n",
       "      <th>51</th>\n",
       "      <td>Honduras</td>\n",
       "      <td>0.410927</td>\n",
       "    </tr>\n",
       "    <tr>\n",
       "      <th>142</th>\n",
       "      <td>Sao Tome and Principe</td>\n",
       "      <td>0.396561</td>\n",
       "    </tr>\n",
       "    <tr>\n",
       "      <th>10</th>\n",
       "      <td>Mexico</td>\n",
       "      <td>0.388930</td>\n",
       "    </tr>\n",
       "    <tr>\n",
       "      <th>28</th>\n",
       "      <td>Ecuador</td>\n",
       "      <td>0.382595</td>\n",
       "    </tr>\n",
       "    <tr>\n",
       "      <th>84</th>\n",
       "      <td>Guinea</td>\n",
       "      <td>0.375095</td>\n",
       "    </tr>\n",
       "    <tr>\n",
       "      <th>172</th>\n",
       "      <td>Burundi</td>\n",
       "      <td>0.344828</td>\n",
       "    </tr>\n",
       "    <tr>\n",
       "      <th>88</th>\n",
       "      <td>Mauritania</td>\n",
       "      <td>0.323075</td>\n",
       "    </tr>\n",
       "    <tr>\n",
       "      <th>100</th>\n",
       "      <td>Mayotte</td>\n",
       "      <td>0.301136</td>\n",
       "    </tr>\n",
       "    <tr>\n",
       "      <th>20</th>\n",
       "      <td>Qatar</td>\n",
       "      <td>0.267409</td>\n",
       "    </tr>\n",
       "    <tr>\n",
       "      <th>40</th>\n",
       "      <td>Panama</td>\n",
       "      <td>0.258248</td>\n",
       "    </tr>\n",
       "    <tr>\n",
       "      <th>7</th>\n",
       "      <td>Chile</td>\n",
       "      <td>0.251582</td>\n",
       "    </tr>\n",
       "    <tr>\n",
       "      <th>47</th>\n",
       "      <td>Armenia</td>\n",
       "      <td>0.230277</td>\n",
       "    </tr>\n",
       "    <tr>\n",
       "      <th>140</th>\n",
       "      <td>Andorra</td>\n",
       "      <td>0.228000</td>\n",
       "    </tr>\n",
       "    <tr>\n",
       "      <th>42</th>\n",
       "      <td>Dominican Republic</td>\n",
       "      <td>0.221873</td>\n",
       "    </tr>\n",
       "    <tr>\n",
       "      <th>37</th>\n",
       "      <td>Oman</td>\n",
       "      <td>0.213851</td>\n",
       "    </tr>\n",
       "    <tr>\n",
       "      <th>48</th>\n",
       "      <td>Nigeria</td>\n",
       "      <td>0.191273</td>\n",
       "    </tr>\n",
       "    <tr>\n",
       "      <th>17</th>\n",
       "      <td>Bangladesh</td>\n",
       "      <td>0.190241</td>\n",
       "    </tr>\n",
       "    <tr>\n",
       "      <th>108</th>\n",
       "      <td>South Sudan</td>\n",
       "      <td>0.186715</td>\n",
       "    </tr>\n",
       "    <tr>\n",
       "      <th>24</th>\n",
       "      <td>Argentina</td>\n",
       "      <td>0.180585</td>\n",
       "    </tr>\n",
       "    <tr>\n",
       "      <th>206</th>\n",
       "      <td>Montserrat</td>\n",
       "      <td>0.180328</td>\n",
       "    </tr>\n",
       "    <tr>\n",
       "      <th>105</th>\n",
       "      <td>Mali</td>\n",
       "      <td>0.176466</td>\n",
       "    </tr>\n",
       "    <tr>\n",
       "      <th>6</th>\n",
       "      <td>Peru</td>\n",
       "      <td>0.169755</td>\n",
       "    </tr>\n",
       "    <tr>\n",
       "      <th>57</th>\n",
       "      <td>Moldova</td>\n",
       "      <td>0.169500</td>\n",
       "    </tr>\n",
       "    <tr>\n",
       "      <th>66</th>\n",
       "      <td>Ivory Coast</td>\n",
       "      <td>0.167930</td>\n",
       "    </tr>\n",
       "    <tr>\n",
       "      <th>129</th>\n",
       "      <td>Niger</td>\n",
       "      <td>0.164423</td>\n",
       "    </tr>\n",
       "    <tr>\n",
       "      <th>11</th>\n",
       "      <td>Pakistan</td>\n",
       "      <td>0.164058</td>\n",
       "    </tr>\n",
       "    <tr>\n",
       "      <th>92</th>\n",
       "      <td>CAR</td>\n",
       "      <td>0.155488</td>\n",
       "    </tr>\n",
       "    <tr>\n",
       "      <th>183</th>\n",
       "      <td>Sint Maarten</td>\n",
       "      <td>0.154000</td>\n",
       "    </tr>\n",
       "    <tr>\n",
       "      <th>83</th>\n",
       "      <td>Gabon</td>\n",
       "      <td>0.142484</td>\n",
       "    </tr>\n",
       "    <tr>\n",
       "      <th>9</th>\n",
       "      <td>Iran</td>\n",
       "      <td>0.135429</td>\n",
       "    </tr>\n",
       "    <tr>\n",
       "      <th>23</th>\n",
       "      <td>Sweden</td>\n",
       "      <td>0.134252</td>\n",
       "    </tr>\n",
       "    <tr>\n",
       "      <th>19</th>\n",
       "      <td>Colombia</td>\n",
       "      <td>0.130987</td>\n",
       "    </tr>\n",
       "    <tr>\n",
       "      <th>109</th>\n",
       "      <td>Equatorial Guinea</td>\n",
       "      <td>0.125062</td>\n",
       "    </tr>\n",
       "    <tr>\n",
       "      <th>145</th>\n",
       "      <td>San Marino</td>\n",
       "      <td>0.121836</td>\n",
       "    </tr>\n",
       "    <tr>\n",
       "      <th>32</th>\n",
       "      <td>Kuwait</td>\n",
       "      <td>0.121055</td>\n",
       "    </tr>\n",
       "    <tr>\n",
       "      <th>15</th>\n",
       "      <td>France</td>\n",
       "      <td>0.120160</td>\n",
       "    </tr>\n",
       "    <tr>\n",
       "      <th>13</th>\n",
       "      <td>Saudi Arabia</td>\n",
       "      <td>0.114376</td>\n",
       "    </tr>\n",
       "    <tr>\n",
       "      <th>99</th>\n",
       "      <td>Albania</td>\n",
       "      <td>0.109832</td>\n",
       "    </tr>\n",
       "    <tr>\n",
       "      <th>102</th>\n",
       "      <td>Madagascar</td>\n",
       "      <td>0.105450</td>\n",
       "    </tr>\n",
       "    <tr>\n",
       "      <th>77</th>\n",
       "      <td>North Macedonia</td>\n",
       "      <td>0.104523</td>\n",
       "    </tr>\n",
       "    <tr>\n",
       "      <th>87</th>\n",
       "      <td>Djibouti</td>\n",
       "      <td>0.100793</td>\n",
       "    </tr>\n",
       "    <tr>\n",
       "      <th>93</th>\n",
       "      <td>Costa Rica</td>\n",
       "      <td>0.097481</td>\n",
       "    </tr>\n",
       "    <tr>\n",
       "      <th>16</th>\n",
       "      <td>South Africa</td>\n",
       "      <td>0.095584</td>\n",
       "    </tr>\n",
       "    <tr>\n",
       "      <th>29</th>\n",
       "      <td>Iraq</td>\n",
       "      <td>0.094609</td>\n",
       "    </tr>\n",
       "    <tr>\n",
       "      <th>163</th>\n",
       "      <td>Guyana</td>\n",
       "      <td>0.094153</td>\n",
       "    </tr>\n",
       "    <tr>\n",
       "      <th>121</th>\n",
       "      <td>Malawi</td>\n",
       "      <td>0.091398</td>\n",
       "    </tr>\n",
       "    <tr>\n",
       "      <th>181</th>\n",
       "      <td>Liechtenstein</td>\n",
       "      <td>0.091111</td>\n",
       "    </tr>\n",
       "    <tr>\n",
       "      <th>185</th>\n",
       "      <td>Antigua and Barbuda</td>\n",
       "      <td>0.086683</td>\n",
       "    </tr>\n",
       "    <tr>\n",
       "      <th>74</th>\n",
       "      <td>Senegal</td>\n",
       "      <td>0.086257</td>\n",
       "    </tr>\n",
       "    <tr>\n",
       "      <th>30</th>\n",
       "      <td>Netherlands</td>\n",
       "      <td>0.081663</td>\n",
       "    </tr>\n",
       "    <tr>\n",
       "      <th>0</th>\n",
       "      <td>USA</td>\n",
       "      <td>0.079821</td>\n",
       "    </tr>\n",
       "    <tr>\n",
       "      <th>138</th>\n",
       "      <td>Eswatini</td>\n",
       "      <td>0.073534</td>\n",
       "    </tr>\n",
       "    <tr>\n",
       "      <th>27</th>\n",
       "      <td>Indonesia</td>\n",
       "      <td>0.069945</td>\n",
       "    </tr>\n",
       "    <tr>\n",
       "      <th>3</th>\n",
       "      <td>India</td>\n",
       "      <td>0.069189</td>\n",
       "    </tr>\n",
       "    <tr>\n",
       "      <th>33</th>\n",
       "      <td>Ukraine</td>\n",
       "      <td>0.067754</td>\n",
       "    </tr>\n",
       "    <tr>\n",
       "      <th>189</th>\n",
       "      <td>Saint Martin</td>\n",
       "      <td>0.062774</td>\n",
       "    </tr>\n",
       "    <tr>\n",
       "      <th>25</th>\n",
       "      <td>Belarus</td>\n",
       "      <td>0.060970</td>\n",
       "    </tr>\n",
       "    <tr>\n",
       "      <th>190</th>\n",
       "      <td>Turks and Caicos</td>\n",
       "      <td>0.060870</td>\n",
       "    </tr>\n",
       "    <tr>\n",
       "      <th>55</th>\n",
       "      <td>Ghana</td>\n",
       "      <td>0.060342</td>\n",
       "    </tr>\n",
       "    <tr>\n",
       "      <th>34</th>\n",
       "      <td>Singapore</td>\n",
       "      <td>0.058476</td>\n",
       "    </tr>\n",
       "    <tr>\n",
       "      <th>50</th>\n",
       "      <td>Ireland</td>\n",
       "      <td>0.058162</td>\n",
       "    </tr>\n",
       "    <tr>\n",
       "      <th>12</th>\n",
       "      <td>Turkey</td>\n",
       "      <td>0.058066</td>\n",
       "    </tr>\n",
       "    <tr>\n",
       "      <th>5</th>\n",
       "      <td>Spain</td>\n",
       "      <td>0.054539</td>\n",
       "    </tr>\n",
       "    <tr>\n",
       "      <th>44</th>\n",
       "      <td>Switzerland</td>\n",
       "      <td>0.053358</td>\n",
       "    </tr>\n",
       "    <tr>\n",
       "      <th>157</th>\n",
       "      <td>Isle of Man</td>\n",
       "      <td>0.051764</td>\n",
       "    </tr>\n",
       "    <tr>\n",
       "      <th>38</th>\n",
       "      <td>Philippines</td>\n",
       "      <td>0.051413</td>\n",
       "    </tr>\n",
       "    <tr>\n",
       "      <th>86</th>\n",
       "      <td>Bosnia and Herzegovina</td>\n",
       "      <td>0.049935</td>\n",
       "    </tr>\n",
       "    <tr>\n",
       "      <th>26</th>\n",
       "      <td>Belgium</td>\n",
       "      <td>0.049225</td>\n",
       "    </tr>\n",
       "    <tr>\n",
       "      <th>46</th>\n",
       "      <td>Bahrain</td>\n",
       "      <td>0.048575</td>\n",
       "    </tr>\n",
       "    <tr>\n",
       "      <th>148</th>\n",
       "      <td>Montenegro</td>\n",
       "      <td>0.046053</td>\n",
       "    </tr>\n",
       "    <tr>\n",
       "      <th>103</th>\n",
       "      <td>Maldives</td>\n",
       "      <td>0.045316</td>\n",
       "    </tr>\n",
       "    <tr>\n",
       "      <th>8</th>\n",
       "      <td>Italy</td>\n",
       "      <td>0.043821</td>\n",
       "    </tr>\n",
       "    <tr>\n",
       "      <th>178</th>\n",
       "      <td>Bahamas</td>\n",
       "      <td>0.043261</td>\n",
       "    </tr>\n",
       "    <tr>\n",
       "      <th>179</th>\n",
       "      <td>Aruba</td>\n",
       "      <td>0.041969</td>\n",
       "    </tr>\n",
       "    <tr>\n",
       "      <th>75</th>\n",
       "      <td>El Salvador</td>\n",
       "      <td>0.041770</td>\n",
       "    </tr>\n",
       "    <tr>\n",
       "      <th>53</th>\n",
       "      <td>Japan</td>\n",
       "      <td>0.040054</td>\n",
       "    </tr>\n",
       "    <tr>\n",
       "      <th>212</th>\n",
       "      <td>St. Barth</td>\n",
       "      <td>0.039474</td>\n",
       "    </tr>\n",
       "    <tr>\n",
       "      <th>76</th>\n",
       "      <td>Kenya</td>\n",
       "      <td>0.039424</td>\n",
       "    </tr>\n",
       "    <tr>\n",
       "      <th>54</th>\n",
       "      <td>Azerbaijan</td>\n",
       "      <td>0.038750</td>\n",
       "    </tr>\n",
       "    <tr>\n",
       "      <th>18</th>\n",
       "      <td>Canada</td>\n",
       "      <td>0.037775</td>\n",
       "    </tr>\n",
       "    <tr>\n",
       "      <th>45</th>\n",
       "      <td>Romania</td>\n",
       "      <td>0.037738</td>\n",
       "    </tr>\n",
       "    <tr>\n",
       "      <th>210</th>\n",
       "      <td>British Virgin Islands</td>\n",
       "      <td>0.037736</td>\n",
       "    </tr>\n",
       "    <tr>\n",
       "      <th>58</th>\n",
       "      <td>Serbia</td>\n",
       "      <td>0.036275</td>\n",
       "    </tr>\n",
       "    <tr>\n",
       "      <th>98</th>\n",
       "      <td>Croatia</td>\n",
       "      <td>0.035758</td>\n",
       "    </tr>\n",
       "    <tr>\n",
       "      <th>85</th>\n",
       "      <td>Bulgaria</td>\n",
       "      <td>0.035700</td>\n",
       "    </tr>\n",
       "    <tr>\n",
       "      <th>35</th>\n",
       "      <td>Portugal</td>\n",
       "      <td>0.035486</td>\n",
       "    </tr>\n",
       "    <tr>\n",
       "      <th>96</th>\n",
       "      <td>Palestine</td>\n",
       "      <td>0.035192</td>\n",
       "    </tr>\n",
       "    <tr>\n",
       "      <th>192</th>\n",
       "      <td>St. Vincent Grenadines</td>\n",
       "      <td>0.034360</td>\n",
       "    </tr>\n",
       "    <tr>\n",
       "      <th>14</th>\n",
       "      <td>Germany</td>\n",
       "      <td>0.033471</td>\n",
       "    </tr>\n",
       "  </tbody>\n",
       "</table>\n",
       "</div>"
      ],
      "text/plain": [
       "                    country  percent_positive\n",
       "67                    Sudan         23.872818\n",
       "125                   Yemen          9.916667\n",
       "115           Guinea-Bissau          1.102667\n",
       "52                Guatemala          0.604926\n",
       "22                    Egypt          0.517141\n",
       "89            French Guiana          0.510394\n",
       "81                    Haiti          0.493424\n",
       "1                    Brazil          0.457581\n",
       "41                  Bolivia          0.442135\n",
       "43              Afghanistan          0.435585\n",
       "151                Suriname          0.430064\n",
       "51                 Honduras          0.410927\n",
       "142   Sao Tome and Principe          0.396561\n",
       "10                   Mexico          0.388930\n",
       "28                  Ecuador          0.382595\n",
       "84                   Guinea          0.375095\n",
       "172                 Burundi          0.344828\n",
       "88               Mauritania          0.323075\n",
       "100                 Mayotte          0.301136\n",
       "20                    Qatar          0.267409\n",
       "40                   Panama          0.258248\n",
       "7                     Chile          0.251582\n",
       "47                  Armenia          0.230277\n",
       "140                 Andorra          0.228000\n",
       "42       Dominican Republic          0.221873\n",
       "37                     Oman          0.213851\n",
       "48                  Nigeria          0.191273\n",
       "17               Bangladesh          0.190241\n",
       "108             South Sudan          0.186715\n",
       "24                Argentina          0.180585\n",
       "206              Montserrat          0.180328\n",
       "105                    Mali          0.176466\n",
       "6                      Peru          0.169755\n",
       "57                  Moldova          0.169500\n",
       "66              Ivory Coast          0.167930\n",
       "129                   Niger          0.164423\n",
       "11                 Pakistan          0.164058\n",
       "92                      CAR          0.155488\n",
       "183            Sint Maarten          0.154000\n",
       "83                    Gabon          0.142484\n",
       "9                      Iran          0.135429\n",
       "23                   Sweden          0.134252\n",
       "19                 Colombia          0.130987\n",
       "109       Equatorial Guinea          0.125062\n",
       "145              San Marino          0.121836\n",
       "32                   Kuwait          0.121055\n",
       "15                   France          0.120160\n",
       "13             Saudi Arabia          0.114376\n",
       "99                  Albania          0.109832\n",
       "102              Madagascar          0.105450\n",
       "77          North Macedonia          0.104523\n",
       "87                 Djibouti          0.100793\n",
       "93               Costa Rica          0.097481\n",
       "16             South Africa          0.095584\n",
       "29                     Iraq          0.094609\n",
       "163                  Guyana          0.094153\n",
       "121                  Malawi          0.091398\n",
       "181           Liechtenstein          0.091111\n",
       "185     Antigua and Barbuda          0.086683\n",
       "74                  Senegal          0.086257\n",
       "30              Netherlands          0.081663\n",
       "0                       USA          0.079821\n",
       "138                Eswatini          0.073534\n",
       "27                Indonesia          0.069945\n",
       "3                     India          0.069189\n",
       "33                  Ukraine          0.067754\n",
       "189            Saint Martin          0.062774\n",
       "25                  Belarus          0.060970\n",
       "190        Turks and Caicos          0.060870\n",
       "55                    Ghana          0.060342\n",
       "34                Singapore          0.058476\n",
       "50                  Ireland          0.058162\n",
       "12                   Turkey          0.058066\n",
       "5                     Spain          0.054539\n",
       "44              Switzerland          0.053358\n",
       "157             Isle of Man          0.051764\n",
       "38              Philippines          0.051413\n",
       "86   Bosnia and Herzegovina          0.049935\n",
       "26                  Belgium          0.049225\n",
       "46                  Bahrain          0.048575\n",
       "148              Montenegro          0.046053\n",
       "103                Maldives          0.045316\n",
       "8                     Italy          0.043821\n",
       "178                 Bahamas          0.043261\n",
       "179                   Aruba          0.041969\n",
       "75              El Salvador          0.041770\n",
       "53                    Japan          0.040054\n",
       "212               St. Barth          0.039474\n",
       "76                    Kenya          0.039424\n",
       "54               Azerbaijan          0.038750\n",
       "18                   Canada          0.037775\n",
       "45                  Romania          0.037738\n",
       "210  British Virgin Islands          0.037736\n",
       "58                   Serbia          0.036275\n",
       "98                  Croatia          0.035758\n",
       "85                 Bulgaria          0.035700\n",
       "35                 Portugal          0.035486\n",
       "96                Palestine          0.035192\n",
       "192  St. Vincent Grenadines          0.034360\n",
       "14                  Germany          0.033471"
      ]
     },
     "execution_count": 14,
     "metadata": {},
     "output_type": "execute_result"
    }
   ],
   "source": [
    "# by percentage of tests that are positive\n",
    "pd.set_option('display.max_rows', None)\n",
    "\n",
    "covid['percent_positive'] = covid['total_cases']/covid['total_tests']\n",
    "covid[['country','percent_positive']].sort_values(by='percent_positive',ascending=False).head(100)"
   ]
  },
  {
   "cell_type": "code",
   "execution_count": 15,
   "metadata": {},
   "outputs": [
    {
     "data": {
      "application/vnd.plotly.v1+json": {
       "config": {
        "plotlyServerURL": "https://plot.ly"
       },
       "data": [
        {
         "coloraxis": "coloraxis",
         "geo": "geo",
         "hovertemplate": "<b>%{hovertext}</b><br><br>country=%{location}<br>percent_positive=%{z}<extra></extra>",
         "hovertext": [
          "USA",
          "Brazil",
          "Russia",
          "India",
          "UK",
          "Spain",
          "Peru",
          "Chile",
          "Italy",
          "Iran",
          "Mexico",
          "Pakistan",
          "Turkey",
          "Saudi Arabia",
          "Germany",
          "France",
          "South Africa",
          "Bangladesh",
          "Canada",
          "Colombia",
          "Qatar",
          "China",
          "Egypt",
          "Sweden",
          "Argentina",
          "Belarus",
          "Belgium",
          "Indonesia",
          "Ecuador",
          "Iraq",
          "Netherlands",
          "UAE",
          "Kuwait",
          "Ukraine",
          "Singapore",
          "Portugal",
          "Kazakhstan",
          "Oman",
          "Philippines",
          "Poland",
          "Panama",
          "Bolivia",
          "Dominican Republic",
          "Afghanistan",
          "Switzerland",
          "Romania",
          "Bahrain",
          "Armenia",
          "Nigeria",
          "Israel",
          "Ireland",
          "Honduras",
          "Guatemala",
          "Japan",
          "Azerbaijan",
          "Ghana",
          "Austria",
          "Moldova",
          "Serbia",
          "Nepal",
          "Morocco",
          "S. Korea",
          "Denmark",
          "Czechia",
          "Ivory Coast",
          "Uzbekistan",
          "Norway",
          "Malaysia",
          "Australia",
          "Finland",
          "Senegal",
          "El Salvador",
          "Kenya",
          "North Macedonia",
          "Kyrgyzstan",
          "Venezuela",
          "Haiti",
          "Ethiopia",
          "Gabon",
          "Guinea",
          "Bulgaria",
          "Bosnia and Herzegovina",
          "Djibouti",
          "Mauritania",
          "French Guiana",
          "Luxembourg",
          "Hungary",
          "CAR",
          "Costa Rica",
          "Greece",
          "Thailand",
          "Palestine",
          "Croatia",
          "Albania",
          "Mayotte",
          "Madagascar",
          "Maldives",
          "Cuba",
          "Mali",
          "Paraguay",
          "Sri Lanka",
          "South Sudan",
          "Equatorial Guinea",
          "Estonia",
          "Iceland",
          "Lithuania",
          "Lebanon",
          "Slovakia",
          "Slovenia",
          "Zambia",
          "New Zealand",
          "Malawi",
          "Cabo Verde",
          "Hong Kong",
          "Benin",
          "Tunisia",
          "Jordan",
          "Latvia",
          "Niger",
          "Rwanda",
          "Cyprus",
          "Uruguay",
          "Georgia",
          "Mozambique",
          "Uganda",
          "Libya",
          "Eswatini",
          "Andorra",
          "Sao Tome and Principe",
          "Jamaica",
          "San Marino",
          "Malta",
          "Togo",
          "Montenegro",
          "Zimbabwe",
          "Channel Islands",
          "Suriname",
          "Réunion",
          "Taiwan",
          "Vietnam",
          "Mauritius",
          "Isle of Man",
          "Myanmar",
          "Namibia",
          "Angola",
          "Guyana",
          "Botswana",
          "Mongolia",
          "Cayman Islands",
          "Faeroe Islands",
          "Guadeloupe",
          "Gibraltar",
          "Burundi",
          "Bermuda",
          "Brunei",
          "Cambodia",
          "Trinidad and Tobago",
          "Monaco",
          "Bahamas",
          "Aruba",
          "Barbados",
          "Liechtenstein",
          "Sint Maarten",
          "Bhutan",
          "Antigua and Barbuda",
          "French Polynesia",
          "Gambia",
          "Saint Martin",
          "Turks and Caicos",
          "Lesotho",
          "St. Vincent Grenadines",
          "Belize",
          "Timor-Leste",
          "Curaçao",
          "Grenada",
          "New Caledonia",
          "Laos",
          "Saint Lucia",
          "Dominica",
          "Fiji",
          "Saint Kitts and Nevis",
          "Falkland Islands",
          "Greenland",
          "Montserrat",
          "Papua New Guinea",
          "British Virgin Islands",
          "Caribbean Netherlands",
          "St. Barth",
          "Anguilla"
         ],
         "locationmode": "country names",
         "locations": [
          "USA",
          "Brazil",
          "Russia",
          "India",
          "UK",
          "Spain",
          "Peru",
          "Chile",
          "Italy",
          "Iran",
          "Mexico",
          "Pakistan",
          "Turkey",
          "Saudi Arabia",
          "Germany",
          "France",
          "South Africa",
          "Bangladesh",
          "Canada",
          "Colombia",
          "Qatar",
          "China",
          "Egypt",
          "Sweden",
          "Argentina",
          "Belarus",
          "Belgium",
          "Indonesia",
          "Ecuador",
          "Iraq",
          "Netherlands",
          "UAE",
          "Kuwait",
          "Ukraine",
          "Singapore",
          "Portugal",
          "Kazakhstan",
          "Oman",
          "Philippines",
          "Poland",
          "Panama",
          "Bolivia",
          "Dominican Republic",
          "Afghanistan",
          "Switzerland",
          "Romania",
          "Bahrain",
          "Armenia",
          "Nigeria",
          "Israel",
          "Ireland",
          "Honduras",
          "Guatemala",
          "Japan",
          "Azerbaijan",
          "Ghana",
          "Austria",
          "Moldova",
          "Serbia",
          "Nepal",
          "Morocco",
          "S. Korea",
          "Denmark",
          "Czechia",
          "Ivory Coast",
          "Uzbekistan",
          "Norway",
          "Malaysia",
          "Australia",
          "Finland",
          "Senegal",
          "El Salvador",
          "Kenya",
          "North Macedonia",
          "Kyrgyzstan",
          "Venezuela",
          "Haiti",
          "Ethiopia",
          "Gabon",
          "Guinea",
          "Bulgaria",
          "Bosnia and Herzegovina",
          "Djibouti",
          "Mauritania",
          "French Guiana",
          "Luxembourg",
          "Hungary",
          "CAR",
          "Costa Rica",
          "Greece",
          "Thailand",
          "Palestine",
          "Croatia",
          "Albania",
          "Mayotte",
          "Madagascar",
          "Maldives",
          "Cuba",
          "Mali",
          "Paraguay",
          "Sri Lanka",
          "South Sudan",
          "Equatorial Guinea",
          "Estonia",
          "Iceland",
          "Lithuania",
          "Lebanon",
          "Slovakia",
          "Slovenia",
          "Zambia",
          "New Zealand",
          "Malawi",
          "Cabo Verde",
          "Hong Kong",
          "Benin",
          "Tunisia",
          "Jordan",
          "Latvia",
          "Niger",
          "Rwanda",
          "Cyprus",
          "Uruguay",
          "Georgia",
          "Mozambique",
          "Uganda",
          "Libya",
          "Eswatini",
          "Andorra",
          "Sao Tome and Principe",
          "Jamaica",
          "San Marino",
          "Malta",
          "Togo",
          "Montenegro",
          "Zimbabwe",
          "Channel Islands",
          "Suriname",
          "Réunion",
          "Taiwan",
          "Vietnam",
          "Mauritius",
          "Isle of Man",
          "Myanmar",
          "Namibia",
          "Angola",
          "Guyana",
          "Botswana",
          "Mongolia",
          "Cayman Islands",
          "Faeroe Islands",
          "Guadeloupe",
          "Gibraltar",
          "Burundi",
          "Bermuda",
          "Brunei",
          "Cambodia",
          "Trinidad and Tobago",
          "Monaco",
          "Bahamas",
          "Aruba",
          "Barbados",
          "Liechtenstein",
          "Sint Maarten",
          "Bhutan",
          "Antigua and Barbuda",
          "French Polynesia",
          "Gambia",
          "Saint Martin",
          "Turks and Caicos",
          "Lesotho",
          "St. Vincent Grenadines",
          "Belize",
          "Timor-Leste",
          "Curaçao",
          "Grenada",
          "New Caledonia",
          "Laos",
          "Saint Lucia",
          "Dominica",
          "Fiji",
          "Saint Kitts and Nevis",
          "Falkland Islands",
          "Greenland",
          "Montserrat",
          "Papua New Guinea",
          "British Virgin Islands",
          "Caribbean Netherlands",
          "St. Barth",
          "Anguilla"
         ],
         "name": "",
         "type": "choropleth",
         "z": [
          0.07982065989153143,
          0.4575809016693875,
          0.03278140448286134,
          0.06918938054739016,
          0.03244476767924326,
          0.05453915812562489,
          0.16975536213735803,
          0.25158177484155725,
          0.04382129728760462,
          0.13542869206508357,
          0.3889300019969224,
          0.16405752170395846,
          0.05806623289128125,
          0.11437627228322493,
          0.03347099537367693,
          0.12016036018208436,
          0.0955841815447356,
          0.19024149276961438,
          0.037775169819139955,
          0.13098682157701924,
          0.26740873270599164,
          0.0009239796482689968,
          0.5171407407407408,
          0.13425207999029112,
          0.18058466896707406,
          0.06096957355917106,
          0.04922543343362542,
          0.06994482750499026,
          0.38259516116321224,
          0.09460880593991386,
          0.08166281620309682,
          0.014134,
          0.12105506780085444,
          0.0677541908020146,
          0.058476059259963103,
          0.03548627107158054,
          0.027706498798977228,
          0.21385066886438786,
          0.05141267265078997,
          0.0223903655045923,
          0.25824846945274976,
          0.4421350419180241,
          0.2218725872483439,
          0.43558457457661703,
          0.05335792557231203,
          0.03773831269781467,
          0.04857494706439981,
          0.2302768539714076,
          0.1912726957576808,
          0.025824515912361443,
          0.05816215179643589,
          0.41092723290338284,
          0.604925700830496,
          0.04005399577275567,
          0.03874981852873468,
          0.060342073738852656,
          0.028536662955304597,
          0.1694999011662384,
          0.03627539217769332,
          0.02716960088625408,
          0.018116848012091867,
          0.009957082074937382,
          0.011769968074593034,
          0.02179215079679125,
          0.1679302108214768,
          0.00802328858509716,
          0.026270436168329102,
          0.011043419818613459,
          0.0031239958096834107,
          0.029092004821213338,
          0.0862568630088409,
          0.04177009738399847,
          0.039424283904827356,
          0.10452329488979695,
          0.02816527587215187,
          0.004772578223596313,
          0.49342373989053184,
          0.023327640420743485,
          0.14248423446707328,
          0.3750954397168043,
          0.035700184942750866,
          0.049934817750430203,
          0.1007930909168644,
          0.32307470018783413,
          0.5103939359136327,
          0.022091310751104567,
          0.014895062390503772,
          0.15548805516788441,
          0.09748051948051949,
          0.010791849625655766,
          0.005266235627185637,
          0.035192209971520075,
          0.035757702272922624,
          0.10983207492676486,
          0.30113636363636365,
          0.10545023696682465,
          0.045315509233035005,
          0.013596204850256843,
          0.17646599515889747,
          0.03197057575328901,
          0.019656533942248228,
          0.18671470805617146,
          0.1250625,
          0.018400539995746607,
          0.024857572825970117,
          0.004220072747117054,
          0.013002150132844907,
          0.007961746151432412,
          0.01566709813509756,
          0.028719753629564453,
          0.003774711407276558,
          0.09139821562351018,
          0.03314058639223578,
          0.0038662759954960838,
          0.021178881175701693,
          0.016682244314158667,
          0.0028333911152237405,
          0.007262417957978951,
          0.1644233710614867,
          0.007045110341843358,
          0.00642737198334931,
          0.013963543748981979,
          0.008297471877844248,
          0.02967128866479201,
          0.0045823786711101855,
          0.032314119865419454,
          0.0735343665768194,
          0.228,
          0.396561286744315,
          0.02833553765380145,
          0.12183627160062838,
          0.006906276374565141,
          0.021135767730383066,
          0.046052631578947366,
          0.008845029239766081,
          0.026697213390686366,
          0.430064308681672,
          0.014991953471300714,
          0.00581629341123012,
          0.0012909090909090908,
          0.0018250421472343387,
          0.0517639808966261,
          0.0038445973290165926,
          0.0303281233826726,
          0.0291,
          0.09415337889141989,
          0.005367699219673682,
          0.00946643717728055,
          0.008350990901159167,
          0.013313398832407803,
          0.022090059473237042,
          0.013024072583595522,
          0.3448275862068966,
          0.012802525429673799,
          0.004725042726450186,
          0.003757695280228127,
          0.025545293770878365,
          0.00654320987654321,
          0.04326123128119801,
          0.041969330104923326,
          0.012225863372825814,
          0.09111111111111111,
          0.154,
          0.003048780487804878,
          0.08668341708542714,
          0.013336201333620134,
          0.016306156405990018,
          0.06277372262773723,
          0.06086956521739131,
          0.011666666666666667,
          0.034360189573459717,
          0.012275317843051293,
          0.015306122448979591,
          0.021296296296296296,
          0.004208600182982617,
          0.0024982155603140615,
          0.0011766891682665512,
          0.011397720455908818,
          0.028892455858747994,
          0.0045,
          0.03303964757709251,
          0.01086048454469507,
          0.0033854166666666668,
          0.18032786885245902,
          0.0015391073177557016,
          0.03773584905660377,
          0.01650943396226415,
          0.039473684210526314,
          0.011029411764705883
         ]
        }
       ],
       "layout": {
        "coloraxis": {
         "colorbar": {
          "title": {
           "text": "percent_positive"
          }
         },
         "colorscale": [
          [
           0,
           "rgb(252, 222, 156)"
          ],
          [
           0.16666666666666666,
           "rgb(250, 164, 118)"
          ],
          [
           0.3333333333333333,
           "rgb(240, 116, 110)"
          ],
          [
           0.5,
           "rgb(227, 79, 111)"
          ],
          [
           0.6666666666666666,
           "rgb(220, 57, 119)"
          ],
          [
           0.8333333333333334,
           "rgb(185, 37, 122)"
          ],
          [
           1,
           "rgb(124, 29, 111)"
          ]
         ]
        },
        "geo": {
         "center": {},
         "domain": {
          "x": [
           0,
           1
          ],
          "y": [
           0,
           1
          ]
         },
         "showcoastlines": false,
         "showframe": false
        },
        "legend": {
         "tracegroupgap": 0
        },
        "margin": {
         "t": 60
        },
        "template": {
         "data": {
          "bar": [
           {
            "error_x": {
             "color": "#2a3f5f"
            },
            "error_y": {
             "color": "#2a3f5f"
            },
            "marker": {
             "line": {
              "color": "#E5ECF6",
              "width": 0.5
             }
            },
            "type": "bar"
           }
          ],
          "barpolar": [
           {
            "marker": {
             "line": {
              "color": "#E5ECF6",
              "width": 0.5
             }
            },
            "type": "barpolar"
           }
          ],
          "carpet": [
           {
            "aaxis": {
             "endlinecolor": "#2a3f5f",
             "gridcolor": "white",
             "linecolor": "white",
             "minorgridcolor": "white",
             "startlinecolor": "#2a3f5f"
            },
            "baxis": {
             "endlinecolor": "#2a3f5f",
             "gridcolor": "white",
             "linecolor": "white",
             "minorgridcolor": "white",
             "startlinecolor": "#2a3f5f"
            },
            "type": "carpet"
           }
          ],
          "choropleth": [
           {
            "colorbar": {
             "outlinewidth": 0,
             "ticks": ""
            },
            "type": "choropleth"
           }
          ],
          "contour": [
           {
            "colorbar": {
             "outlinewidth": 0,
             "ticks": ""
            },
            "colorscale": [
             [
              0,
              "#0d0887"
             ],
             [
              0.1111111111111111,
              "#46039f"
             ],
             [
              0.2222222222222222,
              "#7201a8"
             ],
             [
              0.3333333333333333,
              "#9c179e"
             ],
             [
              0.4444444444444444,
              "#bd3786"
             ],
             [
              0.5555555555555556,
              "#d8576b"
             ],
             [
              0.6666666666666666,
              "#ed7953"
             ],
             [
              0.7777777777777778,
              "#fb9f3a"
             ],
             [
              0.8888888888888888,
              "#fdca26"
             ],
             [
              1,
              "#f0f921"
             ]
            ],
            "type": "contour"
           }
          ],
          "contourcarpet": [
           {
            "colorbar": {
             "outlinewidth": 0,
             "ticks": ""
            },
            "type": "contourcarpet"
           }
          ],
          "heatmap": [
           {
            "colorbar": {
             "outlinewidth": 0,
             "ticks": ""
            },
            "colorscale": [
             [
              0,
              "#0d0887"
             ],
             [
              0.1111111111111111,
              "#46039f"
             ],
             [
              0.2222222222222222,
              "#7201a8"
             ],
             [
              0.3333333333333333,
              "#9c179e"
             ],
             [
              0.4444444444444444,
              "#bd3786"
             ],
             [
              0.5555555555555556,
              "#d8576b"
             ],
             [
              0.6666666666666666,
              "#ed7953"
             ],
             [
              0.7777777777777778,
              "#fb9f3a"
             ],
             [
              0.8888888888888888,
              "#fdca26"
             ],
             [
              1,
              "#f0f921"
             ]
            ],
            "type": "heatmap"
           }
          ],
          "heatmapgl": [
           {
            "colorbar": {
             "outlinewidth": 0,
             "ticks": ""
            },
            "colorscale": [
             [
              0,
              "#0d0887"
             ],
             [
              0.1111111111111111,
              "#46039f"
             ],
             [
              0.2222222222222222,
              "#7201a8"
             ],
             [
              0.3333333333333333,
              "#9c179e"
             ],
             [
              0.4444444444444444,
              "#bd3786"
             ],
             [
              0.5555555555555556,
              "#d8576b"
             ],
             [
              0.6666666666666666,
              "#ed7953"
             ],
             [
              0.7777777777777778,
              "#fb9f3a"
             ],
             [
              0.8888888888888888,
              "#fdca26"
             ],
             [
              1,
              "#f0f921"
             ]
            ],
            "type": "heatmapgl"
           }
          ],
          "histogram": [
           {
            "marker": {
             "colorbar": {
              "outlinewidth": 0,
              "ticks": ""
             }
            },
            "type": "histogram"
           }
          ],
          "histogram2d": [
           {
            "colorbar": {
             "outlinewidth": 0,
             "ticks": ""
            },
            "colorscale": [
             [
              0,
              "#0d0887"
             ],
             [
              0.1111111111111111,
              "#46039f"
             ],
             [
              0.2222222222222222,
              "#7201a8"
             ],
             [
              0.3333333333333333,
              "#9c179e"
             ],
             [
              0.4444444444444444,
              "#bd3786"
             ],
             [
              0.5555555555555556,
              "#d8576b"
             ],
             [
              0.6666666666666666,
              "#ed7953"
             ],
             [
              0.7777777777777778,
              "#fb9f3a"
             ],
             [
              0.8888888888888888,
              "#fdca26"
             ],
             [
              1,
              "#f0f921"
             ]
            ],
            "type": "histogram2d"
           }
          ],
          "histogram2dcontour": [
           {
            "colorbar": {
             "outlinewidth": 0,
             "ticks": ""
            },
            "colorscale": [
             [
              0,
              "#0d0887"
             ],
             [
              0.1111111111111111,
              "#46039f"
             ],
             [
              0.2222222222222222,
              "#7201a8"
             ],
             [
              0.3333333333333333,
              "#9c179e"
             ],
             [
              0.4444444444444444,
              "#bd3786"
             ],
             [
              0.5555555555555556,
              "#d8576b"
             ],
             [
              0.6666666666666666,
              "#ed7953"
             ],
             [
              0.7777777777777778,
              "#fb9f3a"
             ],
             [
              0.8888888888888888,
              "#fdca26"
             ],
             [
              1,
              "#f0f921"
             ]
            ],
            "type": "histogram2dcontour"
           }
          ],
          "mesh3d": [
           {
            "colorbar": {
             "outlinewidth": 0,
             "ticks": ""
            },
            "type": "mesh3d"
           }
          ],
          "parcoords": [
           {
            "line": {
             "colorbar": {
              "outlinewidth": 0,
              "ticks": ""
             }
            },
            "type": "parcoords"
           }
          ],
          "pie": [
           {
            "automargin": true,
            "type": "pie"
           }
          ],
          "scatter": [
           {
            "marker": {
             "colorbar": {
              "outlinewidth": 0,
              "ticks": ""
             }
            },
            "type": "scatter"
           }
          ],
          "scatter3d": [
           {
            "line": {
             "colorbar": {
              "outlinewidth": 0,
              "ticks": ""
             }
            },
            "marker": {
             "colorbar": {
              "outlinewidth": 0,
              "ticks": ""
             }
            },
            "type": "scatter3d"
           }
          ],
          "scattercarpet": [
           {
            "marker": {
             "colorbar": {
              "outlinewidth": 0,
              "ticks": ""
             }
            },
            "type": "scattercarpet"
           }
          ],
          "scattergeo": [
           {
            "marker": {
             "colorbar": {
              "outlinewidth": 0,
              "ticks": ""
             }
            },
            "type": "scattergeo"
           }
          ],
          "scattergl": [
           {
            "marker": {
             "colorbar": {
              "outlinewidth": 0,
              "ticks": ""
             }
            },
            "type": "scattergl"
           }
          ],
          "scattermapbox": [
           {
            "marker": {
             "colorbar": {
              "outlinewidth": 0,
              "ticks": ""
             }
            },
            "type": "scattermapbox"
           }
          ],
          "scatterpolar": [
           {
            "marker": {
             "colorbar": {
              "outlinewidth": 0,
              "ticks": ""
             }
            },
            "type": "scatterpolar"
           }
          ],
          "scatterpolargl": [
           {
            "marker": {
             "colorbar": {
              "outlinewidth": 0,
              "ticks": ""
             }
            },
            "type": "scatterpolargl"
           }
          ],
          "scatterternary": [
           {
            "marker": {
             "colorbar": {
              "outlinewidth": 0,
              "ticks": ""
             }
            },
            "type": "scatterternary"
           }
          ],
          "surface": [
           {
            "colorbar": {
             "outlinewidth": 0,
             "ticks": ""
            },
            "colorscale": [
             [
              0,
              "#0d0887"
             ],
             [
              0.1111111111111111,
              "#46039f"
             ],
             [
              0.2222222222222222,
              "#7201a8"
             ],
             [
              0.3333333333333333,
              "#9c179e"
             ],
             [
              0.4444444444444444,
              "#bd3786"
             ],
             [
              0.5555555555555556,
              "#d8576b"
             ],
             [
              0.6666666666666666,
              "#ed7953"
             ],
             [
              0.7777777777777778,
              "#fb9f3a"
             ],
             [
              0.8888888888888888,
              "#fdca26"
             ],
             [
              1,
              "#f0f921"
             ]
            ],
            "type": "surface"
           }
          ],
          "table": [
           {
            "cells": {
             "fill": {
              "color": "#EBF0F8"
             },
             "line": {
              "color": "white"
             }
            },
            "header": {
             "fill": {
              "color": "#C8D4E3"
             },
             "line": {
              "color": "white"
             }
            },
            "type": "table"
           }
          ]
         },
         "layout": {
          "annotationdefaults": {
           "arrowcolor": "#2a3f5f",
           "arrowhead": 0,
           "arrowwidth": 1
          },
          "coloraxis": {
           "colorbar": {
            "outlinewidth": 0,
            "ticks": ""
           }
          },
          "colorscale": {
           "diverging": [
            [
             0,
             "#8e0152"
            ],
            [
             0.1,
             "#c51b7d"
            ],
            [
             0.2,
             "#de77ae"
            ],
            [
             0.3,
             "#f1b6da"
            ],
            [
             0.4,
             "#fde0ef"
            ],
            [
             0.5,
             "#f7f7f7"
            ],
            [
             0.6,
             "#e6f5d0"
            ],
            [
             0.7,
             "#b8e186"
            ],
            [
             0.8,
             "#7fbc41"
            ],
            [
             0.9,
             "#4d9221"
            ],
            [
             1,
             "#276419"
            ]
           ],
           "sequential": [
            [
             0,
             "#0d0887"
            ],
            [
             0.1111111111111111,
             "#46039f"
            ],
            [
             0.2222222222222222,
             "#7201a8"
            ],
            [
             0.3333333333333333,
             "#9c179e"
            ],
            [
             0.4444444444444444,
             "#bd3786"
            ],
            [
             0.5555555555555556,
             "#d8576b"
            ],
            [
             0.6666666666666666,
             "#ed7953"
            ],
            [
             0.7777777777777778,
             "#fb9f3a"
            ],
            [
             0.8888888888888888,
             "#fdca26"
            ],
            [
             1,
             "#f0f921"
            ]
           ],
           "sequentialminus": [
            [
             0,
             "#0d0887"
            ],
            [
             0.1111111111111111,
             "#46039f"
            ],
            [
             0.2222222222222222,
             "#7201a8"
            ],
            [
             0.3333333333333333,
             "#9c179e"
            ],
            [
             0.4444444444444444,
             "#bd3786"
            ],
            [
             0.5555555555555556,
             "#d8576b"
            ],
            [
             0.6666666666666666,
             "#ed7953"
            ],
            [
             0.7777777777777778,
             "#fb9f3a"
            ],
            [
             0.8888888888888888,
             "#fdca26"
            ],
            [
             1,
             "#f0f921"
            ]
           ]
          },
          "colorway": [
           "#636efa",
           "#EF553B",
           "#00cc96",
           "#ab63fa",
           "#FFA15A",
           "#19d3f3",
           "#FF6692",
           "#B6E880",
           "#FF97FF",
           "#FECB52"
          ],
          "font": {
           "color": "#2a3f5f"
          },
          "geo": {
           "bgcolor": "white",
           "lakecolor": "white",
           "landcolor": "#E5ECF6",
           "showlakes": true,
           "showland": true,
           "subunitcolor": "white"
          },
          "hoverlabel": {
           "align": "left"
          },
          "hovermode": "closest",
          "mapbox": {
           "style": "light"
          },
          "paper_bgcolor": "white",
          "plot_bgcolor": "#E5ECF6",
          "polar": {
           "angularaxis": {
            "gridcolor": "white",
            "linecolor": "white",
            "ticks": ""
           },
           "bgcolor": "#E5ECF6",
           "radialaxis": {
            "gridcolor": "white",
            "linecolor": "white",
            "ticks": ""
           }
          },
          "scene": {
           "xaxis": {
            "backgroundcolor": "#E5ECF6",
            "gridcolor": "white",
            "gridwidth": 2,
            "linecolor": "white",
            "showbackground": true,
            "ticks": "",
            "zerolinecolor": "white"
           },
           "yaxis": {
            "backgroundcolor": "#E5ECF6",
            "gridcolor": "white",
            "gridwidth": 2,
            "linecolor": "white",
            "showbackground": true,
            "ticks": "",
            "zerolinecolor": "white"
           },
           "zaxis": {
            "backgroundcolor": "#E5ECF6",
            "gridcolor": "white",
            "gridwidth": 2,
            "linecolor": "white",
            "showbackground": true,
            "ticks": "",
            "zerolinecolor": "white"
           }
          },
          "shapedefaults": {
           "line": {
            "color": "#2a3f5f"
           }
          },
          "ternary": {
           "aaxis": {
            "gridcolor": "white",
            "linecolor": "white",
            "ticks": ""
           },
           "baxis": {
            "gridcolor": "white",
            "linecolor": "white",
            "ticks": ""
           },
           "bgcolor": "#E5ECF6",
           "caxis": {
            "gridcolor": "white",
            "linecolor": "white",
            "ticks": ""
           }
          },
          "title": {
           "x": 0.05
          },
          "xaxis": {
           "automargin": true,
           "gridcolor": "white",
           "linecolor": "white",
           "ticks": "",
           "title": {
            "standoff": 15
           },
           "zerolinecolor": "white",
           "zerolinewidth": 2
          },
          "yaxis": {
           "automargin": true,
           "gridcolor": "white",
           "linecolor": "white",
           "ticks": "",
           "title": {
            "standoff": 15
           },
           "zerolinecolor": "white",
           "zerolinewidth": 2
          }
         }
        },
        "title": {
         "text": "Coronavirus Percentage of Tests Returned Positive, by Country"
        }
       }
      },
      "text/html": [
       "<div>\n",
       "        \n",
       "        \n",
       "            <div id=\"8b42374f-6568-4eb9-be6b-03b17086e09c\" class=\"plotly-graph-div\" style=\"height:525px; width:100%;\"></div>\n",
       "            <script type=\"text/javascript\">\n",
       "                require([\"plotly\"], function(Plotly) {\n",
       "                    window.PLOTLYENV=window.PLOTLYENV || {};\n",
       "                    \n",
       "                if (document.getElementById(\"8b42374f-6568-4eb9-be6b-03b17086e09c\")) {\n",
       "                    Plotly.newPlot(\n",
       "                        '8b42374f-6568-4eb9-be6b-03b17086e09c',\n",
       "                        [{\"coloraxis\": \"coloraxis\", \"geo\": \"geo\", \"hovertemplate\": \"<b>%{hovertext}</b><br><br>country=%{location}<br>percent_positive=%{z}<extra></extra>\", \"hovertext\": [\"USA\", \"Brazil\", \"Russia\", \"India\", \"UK\", \"Spain\", \"Peru\", \"Chile\", \"Italy\", \"Iran\", \"Mexico\", \"Pakistan\", \"Turkey\", \"Saudi Arabia\", \"Germany\", \"France\", \"South Africa\", \"Bangladesh\", \"Canada\", \"Colombia\", \"Qatar\", \"China\", \"Egypt\", \"Sweden\", \"Argentina\", \"Belarus\", \"Belgium\", \"Indonesia\", \"Ecuador\", \"Iraq\", \"Netherlands\", \"UAE\", \"Kuwait\", \"Ukraine\", \"Singapore\", \"Portugal\", \"Kazakhstan\", \"Oman\", \"Philippines\", \"Poland\", \"Panama\", \"Bolivia\", \"Dominican Republic\", \"Afghanistan\", \"Switzerland\", \"Romania\", \"Bahrain\", \"Armenia\", \"Nigeria\", \"Israel\", \"Ireland\", \"Honduras\", \"Guatemala\", \"Japan\", \"Azerbaijan\", \"Ghana\", \"Austria\", \"Moldova\", \"Serbia\", \"Nepal\", \"Morocco\", \"S. Korea\", \"Denmark\", \"Czechia\", \"Ivory Coast\", \"Uzbekistan\", \"Norway\", \"Malaysia\", \"Australia\", \"Finland\", \"Senegal\", \"El Salvador\", \"Kenya\", \"North Macedonia\", \"Kyrgyzstan\", \"Venezuela\", \"Haiti\", \"Ethiopia\", \"Gabon\", \"Guinea\", \"Bulgaria\", \"Bosnia and Herzegovina\", \"Djibouti\", \"Mauritania\", \"French Guiana\", \"Luxembourg\", \"Hungary\", \"CAR\", \"Costa Rica\", \"Greece\", \"Thailand\", \"Palestine\", \"Croatia\", \"Albania\", \"Mayotte\", \"Madagascar\", \"Maldives\", \"Cuba\", \"Mali\", \"Paraguay\", \"Sri Lanka\", \"South Sudan\", \"Equatorial Guinea\", \"Estonia\", \"Iceland\", \"Lithuania\", \"Lebanon\", \"Slovakia\", \"Slovenia\", \"Zambia\", \"New Zealand\", \"Malawi\", \"Cabo Verde\", \"Hong Kong\", \"Benin\", \"Tunisia\", \"Jordan\", \"Latvia\", \"Niger\", \"Rwanda\", \"Cyprus\", \"Uruguay\", \"Georgia\", \"Mozambique\", \"Uganda\", \"Libya\", \"Eswatini\", \"Andorra\", \"Sao Tome and Principe\", \"Jamaica\", \"San Marino\", \"Malta\", \"Togo\", \"Montenegro\", \"Zimbabwe\", \"Channel Islands\", \"Suriname\", \"R\\u00e9union\", \"Taiwan\", \"Vietnam\", \"Mauritius\", \"Isle of Man\", \"Myanmar\", \"Namibia\", \"Angola\", \"Guyana\", \"Botswana\", \"Mongolia\", \"Cayman Islands\", \"Faeroe Islands\", \"Guadeloupe\", \"Gibraltar\", \"Burundi\", \"Bermuda\", \"Brunei\", \"Cambodia\", \"Trinidad and Tobago\", \"Monaco\", \"Bahamas\", \"Aruba\", \"Barbados\", \"Liechtenstein\", \"Sint Maarten\", \"Bhutan\", \"Antigua and Barbuda\", \"French Polynesia\", \"Gambia\", \"Saint Martin\", \"Turks and Caicos\", \"Lesotho\", \"St. Vincent Grenadines\", \"Belize\", \"Timor-Leste\", \"Cura\\u00e7ao\", \"Grenada\", \"New Caledonia\", \"Laos\", \"Saint Lucia\", \"Dominica\", \"Fiji\", \"Saint Kitts and Nevis\", \"Falkland Islands\", \"Greenland\", \"Montserrat\", \"Papua New Guinea\", \"British Virgin Islands\", \"Caribbean Netherlands\", \"St. Barth\", \"Anguilla\"], \"locationmode\": \"country names\", \"locations\": [\"USA\", \"Brazil\", \"Russia\", \"India\", \"UK\", \"Spain\", \"Peru\", \"Chile\", \"Italy\", \"Iran\", \"Mexico\", \"Pakistan\", \"Turkey\", \"Saudi Arabia\", \"Germany\", \"France\", \"South Africa\", \"Bangladesh\", \"Canada\", \"Colombia\", \"Qatar\", \"China\", \"Egypt\", \"Sweden\", \"Argentina\", \"Belarus\", \"Belgium\", \"Indonesia\", \"Ecuador\", \"Iraq\", \"Netherlands\", \"UAE\", \"Kuwait\", \"Ukraine\", \"Singapore\", \"Portugal\", \"Kazakhstan\", \"Oman\", \"Philippines\", \"Poland\", \"Panama\", \"Bolivia\", \"Dominican Republic\", \"Afghanistan\", \"Switzerland\", \"Romania\", \"Bahrain\", \"Armenia\", \"Nigeria\", \"Israel\", \"Ireland\", \"Honduras\", \"Guatemala\", \"Japan\", \"Azerbaijan\", \"Ghana\", \"Austria\", \"Moldova\", \"Serbia\", \"Nepal\", \"Morocco\", \"S. Korea\", \"Denmark\", \"Czechia\", \"Ivory Coast\", \"Uzbekistan\", \"Norway\", \"Malaysia\", \"Australia\", \"Finland\", \"Senegal\", \"El Salvador\", \"Kenya\", \"North Macedonia\", \"Kyrgyzstan\", \"Venezuela\", \"Haiti\", \"Ethiopia\", \"Gabon\", \"Guinea\", \"Bulgaria\", \"Bosnia and Herzegovina\", \"Djibouti\", \"Mauritania\", \"French Guiana\", \"Luxembourg\", \"Hungary\", \"CAR\", \"Costa Rica\", \"Greece\", \"Thailand\", \"Palestine\", \"Croatia\", \"Albania\", \"Mayotte\", \"Madagascar\", \"Maldives\", \"Cuba\", \"Mali\", \"Paraguay\", \"Sri Lanka\", \"South Sudan\", \"Equatorial Guinea\", \"Estonia\", \"Iceland\", \"Lithuania\", \"Lebanon\", \"Slovakia\", \"Slovenia\", \"Zambia\", \"New Zealand\", \"Malawi\", \"Cabo Verde\", \"Hong Kong\", \"Benin\", \"Tunisia\", \"Jordan\", \"Latvia\", \"Niger\", \"Rwanda\", \"Cyprus\", \"Uruguay\", \"Georgia\", \"Mozambique\", \"Uganda\", \"Libya\", \"Eswatini\", \"Andorra\", \"Sao Tome and Principe\", \"Jamaica\", \"San Marino\", \"Malta\", \"Togo\", \"Montenegro\", \"Zimbabwe\", \"Channel Islands\", \"Suriname\", \"R\\u00e9union\", \"Taiwan\", \"Vietnam\", \"Mauritius\", \"Isle of Man\", \"Myanmar\", \"Namibia\", \"Angola\", \"Guyana\", \"Botswana\", \"Mongolia\", \"Cayman Islands\", \"Faeroe Islands\", \"Guadeloupe\", \"Gibraltar\", \"Burundi\", \"Bermuda\", \"Brunei\", \"Cambodia\", \"Trinidad and Tobago\", \"Monaco\", \"Bahamas\", \"Aruba\", \"Barbados\", \"Liechtenstein\", \"Sint Maarten\", \"Bhutan\", \"Antigua and Barbuda\", \"French Polynesia\", \"Gambia\", \"Saint Martin\", \"Turks and Caicos\", \"Lesotho\", \"St. Vincent Grenadines\", \"Belize\", \"Timor-Leste\", \"Cura\\u00e7ao\", \"Grenada\", \"New Caledonia\", \"Laos\", \"Saint Lucia\", \"Dominica\", \"Fiji\", \"Saint Kitts and Nevis\", \"Falkland Islands\", \"Greenland\", \"Montserrat\", \"Papua New Guinea\", \"British Virgin Islands\", \"Caribbean Netherlands\", \"St. Barth\", \"Anguilla\"], \"name\": \"\", \"type\": \"choropleth\", \"z\": [0.07982065989153143, 0.4575809016693875, 0.03278140448286134, 0.06918938054739016, 0.03244476767924326, 0.05453915812562489, 0.16975536213735803, 0.25158177484155725, 0.04382129728760462, 0.13542869206508357, 0.3889300019969224, 0.16405752170395846, 0.05806623289128125, 0.11437627228322493, 0.03347099537367693, 0.12016036018208436, 0.0955841815447356, 0.19024149276961438, 0.037775169819139955, 0.13098682157701924, 0.26740873270599164, 0.0009239796482689968, 0.5171407407407408, 0.13425207999029112, 0.18058466896707406, 0.06096957355917106, 0.04922543343362542, 0.06994482750499026, 0.38259516116321224, 0.09460880593991386, 0.08166281620309682, 0.014134, 0.12105506780085444, 0.0677541908020146, 0.058476059259963103, 0.03548627107158054, 0.027706498798977228, 0.21385066886438786, 0.05141267265078997, 0.0223903655045923, 0.25824846945274976, 0.4421350419180241, 0.2218725872483439, 0.43558457457661703, 0.05335792557231203, 0.03773831269781467, 0.04857494706439981, 0.2302768539714076, 0.1912726957576808, 0.025824515912361443, 0.05816215179643589, 0.41092723290338284, 0.604925700830496, 0.04005399577275567, 0.03874981852873468, 0.060342073738852656, 0.028536662955304597, 0.1694999011662384, 0.03627539217769332, 0.02716960088625408, 0.018116848012091867, 0.009957082074937382, 0.011769968074593034, 0.02179215079679125, 0.1679302108214768, 0.00802328858509716, 0.026270436168329102, 0.011043419818613459, 0.0031239958096834107, 0.029092004821213338, 0.0862568630088409, 0.04177009738399847, 0.039424283904827356, 0.10452329488979695, 0.02816527587215187, 0.004772578223596313, 0.49342373989053184, 0.023327640420743485, 0.14248423446707328, 0.3750954397168043, 0.035700184942750866, 0.049934817750430203, 0.1007930909168644, 0.32307470018783413, 0.5103939359136327, 0.022091310751104567, 0.014895062390503772, 0.15548805516788441, 0.09748051948051949, 0.010791849625655766, 0.005266235627185637, 0.035192209971520075, 0.035757702272922624, 0.10983207492676486, 0.30113636363636365, 0.10545023696682465, 0.045315509233035005, 0.013596204850256843, 0.17646599515889747, 0.03197057575328901, 0.019656533942248228, 0.18671470805617146, 0.1250625, 0.018400539995746607, 0.024857572825970117, 0.004220072747117054, 0.013002150132844907, 0.007961746151432412, 0.01566709813509756, 0.028719753629564453, 0.003774711407276558, 0.09139821562351018, 0.03314058639223578, 0.0038662759954960838, 0.021178881175701693, 0.016682244314158667, 0.0028333911152237405, 0.007262417957978951, 0.1644233710614867, 0.007045110341843358, 0.00642737198334931, 0.013963543748981979, 0.008297471877844248, 0.02967128866479201, 0.0045823786711101855, 0.032314119865419454, 0.0735343665768194, 0.228, 0.396561286744315, 0.02833553765380145, 0.12183627160062838, 0.006906276374565141, 0.021135767730383066, 0.046052631578947366, 0.008845029239766081, 0.026697213390686366, 0.430064308681672, 0.014991953471300714, 0.00581629341123012, 0.0012909090909090908, 0.0018250421472343387, 0.0517639808966261, 0.0038445973290165926, 0.0303281233826726, 0.0291, 0.09415337889141989, 0.005367699219673682, 0.00946643717728055, 0.008350990901159167, 0.013313398832407803, 0.022090059473237042, 0.013024072583595522, 0.3448275862068966, 0.012802525429673799, 0.004725042726450186, 0.003757695280228127, 0.025545293770878365, 0.00654320987654321, 0.04326123128119801, 0.041969330104923326, 0.012225863372825814, 0.09111111111111111, 0.154, 0.003048780487804878, 0.08668341708542714, 0.013336201333620134, 0.016306156405990018, 0.06277372262773723, 0.06086956521739131, 0.011666666666666667, 0.034360189573459717, 0.012275317843051293, 0.015306122448979591, 0.021296296296296296, 0.004208600182982617, 0.0024982155603140615, 0.0011766891682665512, 0.011397720455908818, 0.028892455858747994, 0.0045, 0.03303964757709251, 0.01086048454469507, 0.0033854166666666668, 0.18032786885245902, 0.0015391073177557016, 0.03773584905660377, 0.01650943396226415, 0.039473684210526314, 0.011029411764705883]}],\n",
       "                        {\"coloraxis\": {\"colorbar\": {\"title\": {\"text\": \"percent_positive\"}}, \"colorscale\": [[0.0, \"rgb(252, 222, 156)\"], [0.16666666666666666, \"rgb(250, 164, 118)\"], [0.3333333333333333, \"rgb(240, 116, 110)\"], [0.5, \"rgb(227, 79, 111)\"], [0.6666666666666666, \"rgb(220, 57, 119)\"], [0.8333333333333334, \"rgb(185, 37, 122)\"], [1.0, \"rgb(124, 29, 111)\"]]}, \"geo\": {\"center\": {}, \"domain\": {\"x\": [0.0, 1.0], \"y\": [0.0, 1.0]}, \"showcoastlines\": false, \"showframe\": false}, \"legend\": {\"tracegroupgap\": 0}, \"margin\": {\"t\": 60}, \"template\": {\"data\": {\"bar\": [{\"error_x\": {\"color\": \"#2a3f5f\"}, \"error_y\": {\"color\": \"#2a3f5f\"}, \"marker\": {\"line\": {\"color\": \"#E5ECF6\", \"width\": 0.5}}, \"type\": \"bar\"}], \"barpolar\": [{\"marker\": {\"line\": {\"color\": \"#E5ECF6\", \"width\": 0.5}}, \"type\": \"barpolar\"}], \"carpet\": [{\"aaxis\": {\"endlinecolor\": \"#2a3f5f\", \"gridcolor\": \"white\", \"linecolor\": \"white\", \"minorgridcolor\": \"white\", \"startlinecolor\": \"#2a3f5f\"}, \"baxis\": {\"endlinecolor\": \"#2a3f5f\", \"gridcolor\": \"white\", \"linecolor\": \"white\", \"minorgridcolor\": \"white\", \"startlinecolor\": \"#2a3f5f\"}, \"type\": \"carpet\"}], \"choropleth\": [{\"colorbar\": {\"outlinewidth\": 0, \"ticks\": \"\"}, \"type\": \"choropleth\"}], \"contour\": [{\"colorbar\": {\"outlinewidth\": 0, \"ticks\": \"\"}, \"colorscale\": [[0.0, \"#0d0887\"], [0.1111111111111111, \"#46039f\"], [0.2222222222222222, \"#7201a8\"], [0.3333333333333333, \"#9c179e\"], [0.4444444444444444, \"#bd3786\"], [0.5555555555555556, \"#d8576b\"], [0.6666666666666666, \"#ed7953\"], [0.7777777777777778, \"#fb9f3a\"], [0.8888888888888888, \"#fdca26\"], [1.0, \"#f0f921\"]], \"type\": \"contour\"}], \"contourcarpet\": [{\"colorbar\": {\"outlinewidth\": 0, \"ticks\": \"\"}, \"type\": \"contourcarpet\"}], \"heatmap\": [{\"colorbar\": {\"outlinewidth\": 0, \"ticks\": \"\"}, \"colorscale\": [[0.0, \"#0d0887\"], [0.1111111111111111, \"#46039f\"], [0.2222222222222222, \"#7201a8\"], [0.3333333333333333, \"#9c179e\"], [0.4444444444444444, \"#bd3786\"], [0.5555555555555556, \"#d8576b\"], [0.6666666666666666, \"#ed7953\"], [0.7777777777777778, \"#fb9f3a\"], [0.8888888888888888, \"#fdca26\"], [1.0, \"#f0f921\"]], \"type\": \"heatmap\"}], \"heatmapgl\": [{\"colorbar\": {\"outlinewidth\": 0, \"ticks\": \"\"}, \"colorscale\": [[0.0, \"#0d0887\"], [0.1111111111111111, \"#46039f\"], [0.2222222222222222, \"#7201a8\"], [0.3333333333333333, \"#9c179e\"], [0.4444444444444444, \"#bd3786\"], [0.5555555555555556, \"#d8576b\"], [0.6666666666666666, \"#ed7953\"], [0.7777777777777778, \"#fb9f3a\"], [0.8888888888888888, \"#fdca26\"], [1.0, \"#f0f921\"]], \"type\": \"heatmapgl\"}], \"histogram\": [{\"marker\": {\"colorbar\": {\"outlinewidth\": 0, \"ticks\": \"\"}}, \"type\": \"histogram\"}], \"histogram2d\": [{\"colorbar\": {\"outlinewidth\": 0, \"ticks\": \"\"}, \"colorscale\": [[0.0, \"#0d0887\"], [0.1111111111111111, \"#46039f\"], [0.2222222222222222, \"#7201a8\"], [0.3333333333333333, \"#9c179e\"], [0.4444444444444444, \"#bd3786\"], [0.5555555555555556, \"#d8576b\"], [0.6666666666666666, \"#ed7953\"], [0.7777777777777778, \"#fb9f3a\"], [0.8888888888888888, \"#fdca26\"], [1.0, \"#f0f921\"]], \"type\": \"histogram2d\"}], \"histogram2dcontour\": [{\"colorbar\": {\"outlinewidth\": 0, \"ticks\": \"\"}, \"colorscale\": [[0.0, \"#0d0887\"], [0.1111111111111111, \"#46039f\"], [0.2222222222222222, \"#7201a8\"], [0.3333333333333333, \"#9c179e\"], [0.4444444444444444, \"#bd3786\"], [0.5555555555555556, \"#d8576b\"], [0.6666666666666666, \"#ed7953\"], [0.7777777777777778, \"#fb9f3a\"], [0.8888888888888888, \"#fdca26\"], [1.0, \"#f0f921\"]], \"type\": \"histogram2dcontour\"}], \"mesh3d\": [{\"colorbar\": {\"outlinewidth\": 0, \"ticks\": \"\"}, \"type\": \"mesh3d\"}], \"parcoords\": [{\"line\": {\"colorbar\": {\"outlinewidth\": 0, \"ticks\": \"\"}}, \"type\": \"parcoords\"}], \"pie\": [{\"automargin\": true, \"type\": \"pie\"}], \"scatter\": [{\"marker\": {\"colorbar\": {\"outlinewidth\": 0, \"ticks\": \"\"}}, \"type\": \"scatter\"}], \"scatter3d\": [{\"line\": {\"colorbar\": {\"outlinewidth\": 0, \"ticks\": \"\"}}, \"marker\": {\"colorbar\": {\"outlinewidth\": 0, \"ticks\": \"\"}}, \"type\": \"scatter3d\"}], \"scattercarpet\": [{\"marker\": {\"colorbar\": {\"outlinewidth\": 0, \"ticks\": \"\"}}, \"type\": \"scattercarpet\"}], \"scattergeo\": [{\"marker\": {\"colorbar\": {\"outlinewidth\": 0, \"ticks\": \"\"}}, \"type\": \"scattergeo\"}], \"scattergl\": [{\"marker\": {\"colorbar\": {\"outlinewidth\": 0, \"ticks\": \"\"}}, \"type\": \"scattergl\"}], \"scattermapbox\": [{\"marker\": {\"colorbar\": {\"outlinewidth\": 0, \"ticks\": \"\"}}, \"type\": \"scattermapbox\"}], \"scatterpolar\": [{\"marker\": {\"colorbar\": {\"outlinewidth\": 0, \"ticks\": \"\"}}, \"type\": \"scatterpolar\"}], \"scatterpolargl\": [{\"marker\": {\"colorbar\": {\"outlinewidth\": 0, \"ticks\": \"\"}}, \"type\": \"scatterpolargl\"}], \"scatterternary\": [{\"marker\": {\"colorbar\": {\"outlinewidth\": 0, \"ticks\": \"\"}}, \"type\": \"scatterternary\"}], \"surface\": [{\"colorbar\": {\"outlinewidth\": 0, \"ticks\": \"\"}, \"colorscale\": [[0.0, \"#0d0887\"], [0.1111111111111111, \"#46039f\"], [0.2222222222222222, \"#7201a8\"], [0.3333333333333333, \"#9c179e\"], [0.4444444444444444, \"#bd3786\"], [0.5555555555555556, \"#d8576b\"], [0.6666666666666666, \"#ed7953\"], [0.7777777777777778, \"#fb9f3a\"], [0.8888888888888888, \"#fdca26\"], [1.0, \"#f0f921\"]], \"type\": \"surface\"}], \"table\": [{\"cells\": {\"fill\": {\"color\": \"#EBF0F8\"}, \"line\": {\"color\": \"white\"}}, \"header\": {\"fill\": {\"color\": \"#C8D4E3\"}, \"line\": {\"color\": \"white\"}}, \"type\": \"table\"}]}, \"layout\": {\"annotationdefaults\": {\"arrowcolor\": \"#2a3f5f\", \"arrowhead\": 0, \"arrowwidth\": 1}, \"coloraxis\": {\"colorbar\": {\"outlinewidth\": 0, \"ticks\": \"\"}}, \"colorscale\": {\"diverging\": [[0, \"#8e0152\"], [0.1, \"#c51b7d\"], [0.2, \"#de77ae\"], [0.3, \"#f1b6da\"], [0.4, \"#fde0ef\"], [0.5, \"#f7f7f7\"], [0.6, \"#e6f5d0\"], [0.7, \"#b8e186\"], [0.8, \"#7fbc41\"], [0.9, \"#4d9221\"], [1, \"#276419\"]], \"sequential\": [[0.0, \"#0d0887\"], [0.1111111111111111, \"#46039f\"], [0.2222222222222222, \"#7201a8\"], [0.3333333333333333, \"#9c179e\"], [0.4444444444444444, \"#bd3786\"], [0.5555555555555556, \"#d8576b\"], [0.6666666666666666, \"#ed7953\"], [0.7777777777777778, \"#fb9f3a\"], [0.8888888888888888, \"#fdca26\"], [1.0, \"#f0f921\"]], \"sequentialminus\": [[0.0, \"#0d0887\"], [0.1111111111111111, \"#46039f\"], [0.2222222222222222, \"#7201a8\"], [0.3333333333333333, \"#9c179e\"], [0.4444444444444444, \"#bd3786\"], [0.5555555555555556, \"#d8576b\"], [0.6666666666666666, \"#ed7953\"], [0.7777777777777778, \"#fb9f3a\"], [0.8888888888888888, \"#fdca26\"], [1.0, \"#f0f921\"]]}, \"colorway\": [\"#636efa\", \"#EF553B\", \"#00cc96\", \"#ab63fa\", \"#FFA15A\", \"#19d3f3\", \"#FF6692\", \"#B6E880\", \"#FF97FF\", \"#FECB52\"], \"font\": {\"color\": \"#2a3f5f\"}, \"geo\": {\"bgcolor\": \"white\", \"lakecolor\": \"white\", \"landcolor\": \"#E5ECF6\", \"showlakes\": true, \"showland\": true, \"subunitcolor\": \"white\"}, \"hoverlabel\": {\"align\": \"left\"}, \"hovermode\": \"closest\", \"mapbox\": {\"style\": \"light\"}, \"paper_bgcolor\": \"white\", \"plot_bgcolor\": \"#E5ECF6\", \"polar\": {\"angularaxis\": {\"gridcolor\": \"white\", \"linecolor\": \"white\", \"ticks\": \"\"}, \"bgcolor\": \"#E5ECF6\", \"radialaxis\": {\"gridcolor\": \"white\", \"linecolor\": \"white\", \"ticks\": \"\"}}, \"scene\": {\"xaxis\": {\"backgroundcolor\": \"#E5ECF6\", \"gridcolor\": \"white\", \"gridwidth\": 2, \"linecolor\": \"white\", \"showbackground\": true, \"ticks\": \"\", \"zerolinecolor\": \"white\"}, \"yaxis\": {\"backgroundcolor\": \"#E5ECF6\", \"gridcolor\": \"white\", \"gridwidth\": 2, \"linecolor\": \"white\", \"showbackground\": true, \"ticks\": \"\", \"zerolinecolor\": \"white\"}, \"zaxis\": {\"backgroundcolor\": \"#E5ECF6\", \"gridcolor\": \"white\", \"gridwidth\": 2, \"linecolor\": \"white\", \"showbackground\": true, \"ticks\": \"\", \"zerolinecolor\": \"white\"}}, \"shapedefaults\": {\"line\": {\"color\": \"#2a3f5f\"}}, \"ternary\": {\"aaxis\": {\"gridcolor\": \"white\", \"linecolor\": \"white\", \"ticks\": \"\"}, \"baxis\": {\"gridcolor\": \"white\", \"linecolor\": \"white\", \"ticks\": \"\"}, \"bgcolor\": \"#E5ECF6\", \"caxis\": {\"gridcolor\": \"white\", \"linecolor\": \"white\", \"ticks\": \"\"}}, \"title\": {\"x\": 0.05}, \"xaxis\": {\"automargin\": true, \"gridcolor\": \"white\", \"linecolor\": \"white\", \"ticks\": \"\", \"title\": {\"standoff\": 15}, \"zerolinecolor\": \"white\", \"zerolinewidth\": 2}, \"yaxis\": {\"automargin\": true, \"gridcolor\": \"white\", \"linecolor\": \"white\", \"ticks\": \"\", \"title\": {\"standoff\": 15}, \"zerolinecolor\": \"white\", \"zerolinewidth\": 2}}}, \"title\": {\"text\": \"Coronavirus Percentage of Tests Returned Positive, by Country\"}},\n",
       "                        {\"responsive\": true}\n",
       "                    ).then(function(){\n",
       "                            \n",
       "var gd = document.getElementById('8b42374f-6568-4eb9-be6b-03b17086e09c');\n",
       "var x = new MutationObserver(function (mutations, observer) {{\n",
       "        var display = window.getComputedStyle(gd).display;\n",
       "        if (!display || display === 'none') {{\n",
       "            console.log([gd, 'removed!']);\n",
       "            Plotly.purge(gd);\n",
       "            observer.disconnect();\n",
       "        }}\n",
       "}});\n",
       "\n",
       "// Listen for the removal of the full notebook cells\n",
       "var notebookContainer = gd.closest('#notebook-container');\n",
       "if (notebookContainer) {{\n",
       "    x.observe(notebookContainer, {childList: true});\n",
       "}}\n",
       "\n",
       "// Listen for the clearing of the current output cell\n",
       "var outputEl = gd.closest('.output');\n",
       "if (outputEl) {{\n",
       "    x.observe(outputEl, {childList: true});\n",
       "}}\n",
       "\n",
       "                        })\n",
       "                };\n",
       "                });\n",
       "            </script>\n",
       "        </div>"
      ]
     },
     "metadata": {},
     "output_type": "display_data"
    }
   ],
   "source": [
    "fig = px.choropleth(covid[covid['percent_positive']<1],\n",
    "    locations='country',\n",
    "    locationmode='country names',\n",
    "    color='percent_positive',\n",
    "    hover_name='country',\n",
    "    color_continuous_scale='sunsetdark')\n",
    "\n",
    "fig.update_layout(\n",
    "    title_text='Coronavirus Percentage of Tests Returned Positive, by Country',\n",
    "    geo=dict(showframe=False,showcoastlines=False))\n",
    "\n",
    "fig.show()"
   ]
  },
  {
   "cell_type": "code",
   "execution_count": 16,
   "metadata": {},
   "outputs": [
    {
     "data": {
      "text/html": [
       "<div>\n",
       "<style scoped>\n",
       "    .dataframe tbody tr th:only-of-type {\n",
       "        vertical-align: middle;\n",
       "    }\n",
       "\n",
       "    .dataframe tbody tr th {\n",
       "        vertical-align: top;\n",
       "    }\n",
       "\n",
       "    .dataframe thead th {\n",
       "        text-align: right;\n",
       "    }\n",
       "</style>\n",
       "<table border=\"1\" class=\"dataframe\">\n",
       "  <thead>\n",
       "    <tr style=\"text-align: right;\">\n",
       "      <th></th>\n",
       "      <th>country</th>\n",
       "      <th>tests_per_mil</th>\n",
       "    </tr>\n",
       "  </thead>\n",
       "  <tbody>\n",
       "    <tr>\n",
       "      <th>177</th>\n",
       "      <td>Monaco</td>\n",
       "      <td>412812.0</td>\n",
       "    </tr>\n",
       "    <tr>\n",
       "      <th>171</th>\n",
       "      <td>Gibraltar</td>\n",
       "      <td>405657.0</td>\n",
       "    </tr>\n",
       "    <tr>\n",
       "      <th>168</th>\n",
       "      <td>Cayman Islands</td>\n",
       "      <td>366224.0</td>\n",
       "    </tr>\n",
       "    <tr>\n",
       "      <th>31</th>\n",
       "      <td>UAE</td>\n",
       "      <td>353881.0</td>\n",
       "    </tr>\n",
       "    <tr>\n",
       "      <th>203</th>\n",
       "      <td>Falkland Islands</td>\n",
       "      <td>344064.0</td>\n",
       "    </tr>\n",
       "    <tr>\n",
       "      <th>46</th>\n",
       "      <td>Bahrain</td>\n",
       "      <td>331820.0</td>\n",
       "    </tr>\n",
       "    <tr>\n",
       "      <th>90</th>\n",
       "      <td>Luxembourg</td>\n",
       "      <td>317832.0</td>\n",
       "    </tr>\n",
       "    <tr>\n",
       "      <th>169</th>\n",
       "      <td>Faeroe Islands</td>\n",
       "      <td>287451.0</td>\n",
       "    </tr>\n",
       "    <tr>\n",
       "      <th>146</th>\n",
       "      <td>Malta</td>\n",
       "      <td>220039.0</td>\n",
       "    </tr>\n",
       "    <tr>\n",
       "      <th>111</th>\n",
       "      <td>Iceland</td>\n",
       "      <td>218094.0</td>\n",
       "    </tr>\n",
       "    <tr>\n",
       "      <th>63</th>\n",
       "      <td>Denmark</td>\n",
       "      <td>187972.0</td>\n",
       "    </tr>\n",
       "    <tr>\n",
       "      <th>173</th>\n",
       "      <td>Bermuda</td>\n",
       "      <td>183120.0</td>\n",
       "    </tr>\n",
       "    <tr>\n",
       "      <th>145</th>\n",
       "      <td>San Marino</td>\n",
       "      <td>168843.0</td>\n",
       "    </tr>\n",
       "    <tr>\n",
       "      <th>112</th>\n",
       "      <td>Lithuania</td>\n",
       "      <td>158885.0</td>\n",
       "    </tr>\n",
       "    <tr>\n",
       "      <th>156</th>\n",
       "      <td>Mauritius</td>\n",
       "      <td>146916.0</td>\n",
       "    </tr>\n",
       "    <tr>\n",
       "      <th>4</th>\n",
       "      <td>UK</td>\n",
       "      <td>142325.0</td>\n",
       "    </tr>\n",
       "    <tr>\n",
       "      <th>2</th>\n",
       "      <td>Russia</td>\n",
       "      <td>138205.0</td>\n",
       "    </tr>\n",
       "    <tr>\n",
       "      <th>20</th>\n",
       "      <td>Qatar</td>\n",
       "      <td>130385.0</td>\n",
       "    </tr>\n",
       "    <tr>\n",
       "      <th>34</th>\n",
       "      <td>Singapore</td>\n",
       "      <td>129520.0</td>\n",
       "    </tr>\n",
       "    <tr>\n",
       "      <th>131</th>\n",
       "      <td>Cyprus</td>\n",
       "      <td>128733.0</td>\n",
       "    </tr>\n",
       "    <tr>\n",
       "      <th>150</th>\n",
       "      <td>Channel Islands</td>\n",
       "      <td>123016.0</td>\n",
       "    </tr>\n",
       "    <tr>\n",
       "      <th>35</th>\n",
       "      <td>Portugal</td>\n",
       "      <td>118236.0</td>\n",
       "    </tr>\n",
       "    <tr>\n",
       "      <th>5</th>\n",
       "      <td>Spain</td>\n",
       "      <td>116544.0</td>\n",
       "    </tr>\n",
       "    <tr>\n",
       "      <th>49</th>\n",
       "      <td>Israel</td>\n",
       "      <td>111366.0</td>\n",
       "    </tr>\n",
       "    <tr>\n",
       "      <th>25</th>\n",
       "      <td>Belarus</td>\n",
       "      <td>108828.0</td>\n",
       "    </tr>\n",
       "    <tr>\n",
       "      <th>26</th>\n",
       "      <td>Belgium</td>\n",
       "      <td>107970.0</td>\n",
       "    </tr>\n",
       "    <tr>\n",
       "      <th>0</th>\n",
       "      <td>USA</td>\n",
       "      <td>106222.0</td>\n",
       "    </tr>\n",
       "    <tr>\n",
       "      <th>71</th>\n",
       "      <td>Australia</td>\n",
       "      <td>100438.0</td>\n",
       "    </tr>\n",
       "    <tr>\n",
       "      <th>103</th>\n",
       "      <td>Maldives</td>\n",
       "      <td>97985.0</td>\n",
       "    </tr>\n",
       "    <tr>\n",
       "      <th>32</th>\n",
       "      <td>Kuwait</td>\n",
       "      <td>92578.0</td>\n",
       "    </tr>\n",
       "    <tr>\n",
       "      <th>8</th>\n",
       "      <td>Italy</td>\n",
       "      <td>90946.0</td>\n",
       "    </tr>\n",
       "    <tr>\n",
       "      <th>50</th>\n",
       "      <td>Ireland</td>\n",
       "      <td>88711.0</td>\n",
       "    </tr>\n",
       "    <tr>\n",
       "      <th>128</th>\n",
       "      <td>Latvia</td>\n",
       "      <td>81917.0</td>\n",
       "    </tr>\n",
       "    <tr>\n",
       "      <th>36</th>\n",
       "      <td>Kazakhstan</td>\n",
       "      <td>81836.0</td>\n",
       "    </tr>\n",
       "    <tr>\n",
       "      <th>110</th>\n",
       "      <td>Estonia</td>\n",
       "      <td>81527.0</td>\n",
       "    </tr>\n",
       "    <tr>\n",
       "      <th>118</th>\n",
       "      <td>New Zealand</td>\n",
       "      <td>81032.0</td>\n",
       "    </tr>\n",
       "    <tr>\n",
       "      <th>157</th>\n",
       "      <td>Isle of Man</td>\n",
       "      <td>76334.0</td>\n",
       "    </tr>\n",
       "    <tr>\n",
       "      <th>18</th>\n",
       "      <td>Canada</td>\n",
       "      <td>73396.0</td>\n",
       "    </tr>\n",
       "    <tr>\n",
       "      <th>122</th>\n",
       "      <td>Cabo Verde</td>\n",
       "      <td>70608.0</td>\n",
       "    </tr>\n",
       "    <tr>\n",
       "      <th>14</th>\n",
       "      <td>Germany</td>\n",
       "      <td>70103.0</td>\n",
       "    </tr>\n",
       "    <tr>\n",
       "      <th>56</th>\n",
       "      <td>Austria</td>\n",
       "      <td>69805.0</td>\n",
       "    </tr>\n",
       "    <tr>\n",
       "      <th>44</th>\n",
       "      <td>Switzerland</td>\n",
       "      <td>69223.0</td>\n",
       "    </tr>\n",
       "    <tr>\n",
       "      <th>174</th>\n",
       "      <td>Brunei</td>\n",
       "      <td>68211.0</td>\n",
       "    </tr>\n",
       "    <tr>\n",
       "      <th>204</th>\n",
       "      <td>Greenland</td>\n",
       "      <td>67641.0</td>\n",
       "    </tr>\n",
       "    <tr>\n",
       "      <th>21</th>\n",
       "      <td>China</td>\n",
       "      <td>62814.0</td>\n",
       "    </tr>\n",
       "    <tr>\n",
       "      <th>69</th>\n",
       "      <td>Norway</td>\n",
       "      <td>62505.0</td>\n",
       "    </tr>\n",
       "    <tr>\n",
       "      <th>7</th>\n",
       "      <td>Chile</td>\n",
       "      <td>59164.0</td>\n",
       "    </tr>\n",
       "    <tr>\n",
       "      <th>65</th>\n",
       "      <td>Czechia</td>\n",
       "      <td>51917.0</td>\n",
       "    </tr>\n",
       "    <tr>\n",
       "      <th>6</th>\n",
       "      <td>Peru</td>\n",
       "      <td>51541.0</td>\n",
       "    </tr>\n",
       "    <tr>\n",
       "      <th>23</th>\n",
       "      <td>Sweden</td>\n",
       "      <td>51400.0</td>\n",
       "    </tr>\n",
       "  </tbody>\n",
       "</table>\n",
       "</div>"
      ],
      "text/plain": [
       "              country  tests_per_mil\n",
       "177            Monaco       412812.0\n",
       "171         Gibraltar       405657.0\n",
       "168    Cayman Islands       366224.0\n",
       "31                UAE       353881.0\n",
       "203  Falkland Islands       344064.0\n",
       "46            Bahrain       331820.0\n",
       "90         Luxembourg       317832.0\n",
       "169    Faeroe Islands       287451.0\n",
       "146             Malta       220039.0\n",
       "111           Iceland       218094.0\n",
       "63            Denmark       187972.0\n",
       "173           Bermuda       183120.0\n",
       "145        San Marino       168843.0\n",
       "112         Lithuania       158885.0\n",
       "156         Mauritius       146916.0\n",
       "4                  UK       142325.0\n",
       "2              Russia       138205.0\n",
       "20              Qatar       130385.0\n",
       "34          Singapore       129520.0\n",
       "131            Cyprus       128733.0\n",
       "150   Channel Islands       123016.0\n",
       "35           Portugal       118236.0\n",
       "5               Spain       116544.0\n",
       "49             Israel       111366.0\n",
       "25            Belarus       108828.0\n",
       "26            Belgium       107970.0\n",
       "0                 USA       106222.0\n",
       "71          Australia       100438.0\n",
       "103          Maldives        97985.0\n",
       "32             Kuwait        92578.0\n",
       "8               Italy        90946.0\n",
       "50            Ireland        88711.0\n",
       "128            Latvia        81917.0\n",
       "36         Kazakhstan        81836.0\n",
       "110           Estonia        81527.0\n",
       "118       New Zealand        81032.0\n",
       "157       Isle of Man        76334.0\n",
       "18             Canada        73396.0\n",
       "122        Cabo Verde        70608.0\n",
       "14            Germany        70103.0\n",
       "56            Austria        69805.0\n",
       "44        Switzerland        69223.0\n",
       "174            Brunei        68211.0\n",
       "204         Greenland        67641.0\n",
       "21              China        62814.0\n",
       "69             Norway        62505.0\n",
       "7               Chile        59164.0\n",
       "65            Czechia        51917.0\n",
       "6                Peru        51541.0\n",
       "23             Sweden        51400.0"
      ]
     },
     "execution_count": 16,
     "metadata": {},
     "output_type": "execute_result"
    }
   ],
   "source": [
    "# by tests per 1M pop\n",
    "covid[['country','tests_per_mil']].sort_values(by='tests_per_mil',ascending=False).head(50)"
   ]
  },
  {
   "cell_type": "code",
   "execution_count": 17,
   "metadata": {},
   "outputs": [
    {
     "data": {
      "application/vnd.plotly.v1+json": {
       "config": {
        "plotlyServerURL": "https://plot.ly"
       },
       "data": [
        {
         "coloraxis": "coloraxis",
         "geo": "geo",
         "hovertemplate": "<b>%{hovertext}</b><br><br>country=%{location}<br>tests_per_mil=%{z}<extra></extra>",
         "hovertext": [
          "USA",
          "Brazil",
          "Russia",
          "India",
          "UK",
          "Spain",
          "Peru",
          "Chile",
          "Italy",
          "Iran",
          "Mexico",
          "Pakistan",
          "Turkey",
          "Saudi Arabia",
          "Germany",
          "France",
          "South Africa",
          "Bangladesh",
          "Canada",
          "Colombia",
          "Qatar",
          "China",
          "Egypt",
          "Sweden",
          "Argentina",
          "Belarus",
          "Belgium",
          "Indonesia",
          "Ecuador",
          "Iraq",
          "Netherlands",
          "UAE",
          "Kuwait",
          "Ukraine",
          "Singapore",
          "Portugal",
          "Kazakhstan",
          "Oman",
          "Philippines",
          "Poland",
          "Panama",
          "Bolivia",
          "Dominican Republic",
          "Afghanistan",
          "Switzerland",
          "Romania",
          "Bahrain",
          "Armenia",
          "Nigeria",
          "Israel",
          "Ireland",
          "Honduras",
          "Guatemala",
          "Japan",
          "Azerbaijan",
          "Ghana",
          "Austria",
          "Moldova",
          "Serbia",
          "Nepal",
          "Morocco",
          "S. Korea",
          "Denmark",
          "Czechia",
          "Ivory Coast",
          "Uzbekistan",
          "Norway",
          "Malaysia",
          "Australia",
          "Finland",
          "Senegal",
          "El Salvador",
          "Kenya",
          "North Macedonia",
          "Kyrgyzstan",
          "Venezuela",
          "Haiti",
          "Ethiopia",
          "Gabon",
          "Guinea",
          "Bulgaria",
          "Bosnia and Herzegovina",
          "Djibouti",
          "Mauritania",
          "French Guiana",
          "Luxembourg",
          "Hungary",
          "CAR",
          "Costa Rica",
          "Greece",
          "Thailand",
          "Palestine",
          "Croatia",
          "Albania",
          "Mayotte",
          "Madagascar",
          "Maldives",
          "Cuba",
          "Mali",
          "Paraguay",
          "Sri Lanka",
          "South Sudan",
          "Equatorial Guinea",
          "Estonia",
          "Iceland",
          "Lithuania",
          "Lebanon",
          "Slovakia",
          "Slovenia",
          "Zambia",
          "New Zealand",
          "Malawi",
          "Cabo Verde",
          "Hong Kong",
          "Benin",
          "Tunisia",
          "Jordan",
          "Latvia",
          "Niger",
          "Rwanda",
          "Cyprus",
          "Uruguay",
          "Georgia",
          "Mozambique",
          "Uganda",
          "Libya",
          "Eswatini",
          "Andorra",
          "Sao Tome and Principe",
          "Jamaica",
          "San Marino",
          "Malta",
          "Togo",
          "Montenegro",
          "Zimbabwe",
          "Channel Islands",
          "Suriname",
          "Réunion",
          "Taiwan",
          "Vietnam",
          "Mauritius",
          "Isle of Man",
          "Myanmar",
          "Namibia",
          "Angola",
          "Guyana",
          "Botswana",
          "Mongolia",
          "Cayman Islands",
          "Faeroe Islands",
          "Guadeloupe",
          "Gibraltar",
          "Burundi",
          "Bermuda",
          "Brunei",
          "Cambodia",
          "Trinidad and Tobago",
          "Monaco",
          "Bahamas",
          "Aruba",
          "Barbados",
          "Liechtenstein",
          "Sint Maarten",
          "Bhutan",
          "Antigua and Barbuda",
          "French Polynesia",
          "Gambia",
          "Saint Martin",
          "Turks and Caicos",
          "Lesotho",
          "St. Vincent Grenadines",
          "Belize",
          "Timor-Leste",
          "Curaçao",
          "Grenada",
          "New Caledonia",
          "Laos",
          "Saint Lucia",
          "Dominica",
          "Fiji",
          "Saint Kitts and Nevis",
          "Falkland Islands",
          "Greenland",
          "Montserrat",
          "Papua New Guinea",
          "British Virgin Islands",
          "Caribbean Netherlands",
          "St. Barth",
          "Anguilla"
         ],
         "locationmode": "country names",
         "locations": [
          "USA",
          "Brazil",
          "Russia",
          "India",
          "UK",
          "Spain",
          "Peru",
          "Chile",
          "Italy",
          "Iran",
          "Mexico",
          "Pakistan",
          "Turkey",
          "Saudi Arabia",
          "Germany",
          "France",
          "South Africa",
          "Bangladesh",
          "Canada",
          "Colombia",
          "Qatar",
          "China",
          "Egypt",
          "Sweden",
          "Argentina",
          "Belarus",
          "Belgium",
          "Indonesia",
          "Ecuador",
          "Iraq",
          "Netherlands",
          "UAE",
          "Kuwait",
          "Ukraine",
          "Singapore",
          "Portugal",
          "Kazakhstan",
          "Oman",
          "Philippines",
          "Poland",
          "Panama",
          "Bolivia",
          "Dominican Republic",
          "Afghanistan",
          "Switzerland",
          "Romania",
          "Bahrain",
          "Armenia",
          "Nigeria",
          "Israel",
          "Ireland",
          "Honduras",
          "Guatemala",
          "Japan",
          "Azerbaijan",
          "Ghana",
          "Austria",
          "Moldova",
          "Serbia",
          "Nepal",
          "Morocco",
          "S. Korea",
          "Denmark",
          "Czechia",
          "Ivory Coast",
          "Uzbekistan",
          "Norway",
          "Malaysia",
          "Australia",
          "Finland",
          "Senegal",
          "El Salvador",
          "Kenya",
          "North Macedonia",
          "Kyrgyzstan",
          "Venezuela",
          "Haiti",
          "Ethiopia",
          "Gabon",
          "Guinea",
          "Bulgaria",
          "Bosnia and Herzegovina",
          "Djibouti",
          "Mauritania",
          "French Guiana",
          "Luxembourg",
          "Hungary",
          "CAR",
          "Costa Rica",
          "Greece",
          "Thailand",
          "Palestine",
          "Croatia",
          "Albania",
          "Mayotte",
          "Madagascar",
          "Maldives",
          "Cuba",
          "Mali",
          "Paraguay",
          "Sri Lanka",
          "South Sudan",
          "Equatorial Guinea",
          "Estonia",
          "Iceland",
          "Lithuania",
          "Lebanon",
          "Slovakia",
          "Slovenia",
          "Zambia",
          "New Zealand",
          "Malawi",
          "Cabo Verde",
          "Hong Kong",
          "Benin",
          "Tunisia",
          "Jordan",
          "Latvia",
          "Niger",
          "Rwanda",
          "Cyprus",
          "Uruguay",
          "Georgia",
          "Mozambique",
          "Uganda",
          "Libya",
          "Eswatini",
          "Andorra",
          "Sao Tome and Principe",
          "Jamaica",
          "San Marino",
          "Malta",
          "Togo",
          "Montenegro",
          "Zimbabwe",
          "Channel Islands",
          "Suriname",
          "Réunion",
          "Taiwan",
          "Vietnam",
          "Mauritius",
          "Isle of Man",
          "Myanmar",
          "Namibia",
          "Angola",
          "Guyana",
          "Botswana",
          "Mongolia",
          "Cayman Islands",
          "Faeroe Islands",
          "Guadeloupe",
          "Gibraltar",
          "Burundi",
          "Bermuda",
          "Brunei",
          "Cambodia",
          "Trinidad and Tobago",
          "Monaco",
          "Bahamas",
          "Aruba",
          "Barbados",
          "Liechtenstein",
          "Sint Maarten",
          "Bhutan",
          "Antigua and Barbuda",
          "French Polynesia",
          "Gambia",
          "Saint Martin",
          "Turks and Caicos",
          "Lesotho",
          "St. Vincent Grenadines",
          "Belize",
          "Timor-Leste",
          "Curaçao",
          "Grenada",
          "New Caledonia",
          "Laos",
          "Saint Lucia",
          "Dominica",
          "Fiji",
          "Saint Kitts and Nevis",
          "Falkland Islands",
          "Greenland",
          "Montserrat",
          "Papua New Guinea",
          "British Virgin Islands",
          "Caribbean Netherlands",
          "St. Barth",
          "Anguilla"
         ],
         "name": "",
         "type": "choropleth",
         "z": [
          106222,
          15184,
          138205,
          6562,
          142325,
          116544,
          51541,
          59164,
          90946,
          20472,
          4622,
          6011,
          41306,
          49629,
          70103,
          21213,
          28106,
          4892,
          73396,
          15305,
          130385,
          62814,
          1319,
          51400,
          8233,
          108828,
          107970,
          3104,
          8631,
          14116,
          35972,
          353881,
          92578,
          15487,
          129520,
          118236,
          81836,
          38975,
          6888,
          41475,
          30930,
          6632,
          14208,
          1889,
          69223,
          38220,
          331820,
          39067,
          672,
          111366,
          88711,
          4978,
          1754,
          3696,
          47555,
          9672,
          69805,
          25082,
          47943,
          18342,
          19394,
          25277,
          187972,
          51917,
          2191,
          33501,
          62505,
          24181,
          100438,
          44922,
          4885,
          25837,
          3275,
          30423,
          34074,
          44669,
          1074,
          2180,
          17387,
          1097,
          20779,
          29227,
          47348,
          2978,
          29157,
          317832,
          28953,
          5044,
          7558,
          30743,
          8648,
          16590,
          19838,
          8422,
          32262,
          823,
          97985,
          15279,
          633,
          9911,
          4908,
          967,
          11409,
          81527,
          218094,
          158885,
          20238,
          39109,
          50167,
          3092,
          81032,
          768,
          70608,
          42883,
          4671,
          5975,
          39295,
          81917,
          270,
          11421,
          128733,
          19441,
          28369,
          990,
          4305,
          3936,
          10233,
          48534,
          8228,
          8426,
          168843,
          220039,
          3778,
          21297,
          4602,
          123016,
          2121,
          39560,
          3234,
          2825,
          146916,
          76334,
          1453,
          3802,
          304,
          3349,
          17985,
          7089,
          366224,
          287451,
          20591,
          405657,
          41,
          183120,
          68211,
          2244,
          3636,
          412812,
          6113,
          23209,
          27608,
          23605,
          11662,
          32732,
          8128,
          16550,
          1244,
          17717,
          17822,
          1400,
          7608,
          5737,
          1189,
          6582,
          48567,
          29443,
          2219,
          9078,
          8654,
          4462,
          8534,
          344064,
          67641,
          12220,
          799,
          7013,
          16169,
          15389,
          18130
         ]
        }
       ],
       "layout": {
        "coloraxis": {
         "colorbar": {
          "title": {
           "text": "tests_per_mil"
          }
         },
         "colorscale": [
          [
           0,
           "rgb(252, 222, 156)"
          ],
          [
           0.16666666666666666,
           "rgb(250, 164, 118)"
          ],
          [
           0.3333333333333333,
           "rgb(240, 116, 110)"
          ],
          [
           0.5,
           "rgb(227, 79, 111)"
          ],
          [
           0.6666666666666666,
           "rgb(220, 57, 119)"
          ],
          [
           0.8333333333333334,
           "rgb(185, 37, 122)"
          ],
          [
           1,
           "rgb(124, 29, 111)"
          ]
         ]
        },
        "geo": {
         "center": {},
         "domain": {
          "x": [
           0,
           1
          ],
          "y": [
           0,
           1
          ]
         },
         "showcoastlines": false,
         "showframe": false
        },
        "legend": {
         "tracegroupgap": 0
        },
        "margin": {
         "t": 60
        },
        "template": {
         "data": {
          "bar": [
           {
            "error_x": {
             "color": "#2a3f5f"
            },
            "error_y": {
             "color": "#2a3f5f"
            },
            "marker": {
             "line": {
              "color": "#E5ECF6",
              "width": 0.5
             }
            },
            "type": "bar"
           }
          ],
          "barpolar": [
           {
            "marker": {
             "line": {
              "color": "#E5ECF6",
              "width": 0.5
             }
            },
            "type": "barpolar"
           }
          ],
          "carpet": [
           {
            "aaxis": {
             "endlinecolor": "#2a3f5f",
             "gridcolor": "white",
             "linecolor": "white",
             "minorgridcolor": "white",
             "startlinecolor": "#2a3f5f"
            },
            "baxis": {
             "endlinecolor": "#2a3f5f",
             "gridcolor": "white",
             "linecolor": "white",
             "minorgridcolor": "white",
             "startlinecolor": "#2a3f5f"
            },
            "type": "carpet"
           }
          ],
          "choropleth": [
           {
            "colorbar": {
             "outlinewidth": 0,
             "ticks": ""
            },
            "type": "choropleth"
           }
          ],
          "contour": [
           {
            "colorbar": {
             "outlinewidth": 0,
             "ticks": ""
            },
            "colorscale": [
             [
              0,
              "#0d0887"
             ],
             [
              0.1111111111111111,
              "#46039f"
             ],
             [
              0.2222222222222222,
              "#7201a8"
             ],
             [
              0.3333333333333333,
              "#9c179e"
             ],
             [
              0.4444444444444444,
              "#bd3786"
             ],
             [
              0.5555555555555556,
              "#d8576b"
             ],
             [
              0.6666666666666666,
              "#ed7953"
             ],
             [
              0.7777777777777778,
              "#fb9f3a"
             ],
             [
              0.8888888888888888,
              "#fdca26"
             ],
             [
              1,
              "#f0f921"
             ]
            ],
            "type": "contour"
           }
          ],
          "contourcarpet": [
           {
            "colorbar": {
             "outlinewidth": 0,
             "ticks": ""
            },
            "type": "contourcarpet"
           }
          ],
          "heatmap": [
           {
            "colorbar": {
             "outlinewidth": 0,
             "ticks": ""
            },
            "colorscale": [
             [
              0,
              "#0d0887"
             ],
             [
              0.1111111111111111,
              "#46039f"
             ],
             [
              0.2222222222222222,
              "#7201a8"
             ],
             [
              0.3333333333333333,
              "#9c179e"
             ],
             [
              0.4444444444444444,
              "#bd3786"
             ],
             [
              0.5555555555555556,
              "#d8576b"
             ],
             [
              0.6666666666666666,
              "#ed7953"
             ],
             [
              0.7777777777777778,
              "#fb9f3a"
             ],
             [
              0.8888888888888888,
              "#fdca26"
             ],
             [
              1,
              "#f0f921"
             ]
            ],
            "type": "heatmap"
           }
          ],
          "heatmapgl": [
           {
            "colorbar": {
             "outlinewidth": 0,
             "ticks": ""
            },
            "colorscale": [
             [
              0,
              "#0d0887"
             ],
             [
              0.1111111111111111,
              "#46039f"
             ],
             [
              0.2222222222222222,
              "#7201a8"
             ],
             [
              0.3333333333333333,
              "#9c179e"
             ],
             [
              0.4444444444444444,
              "#bd3786"
             ],
             [
              0.5555555555555556,
              "#d8576b"
             ],
             [
              0.6666666666666666,
              "#ed7953"
             ],
             [
              0.7777777777777778,
              "#fb9f3a"
             ],
             [
              0.8888888888888888,
              "#fdca26"
             ],
             [
              1,
              "#f0f921"
             ]
            ],
            "type": "heatmapgl"
           }
          ],
          "histogram": [
           {
            "marker": {
             "colorbar": {
              "outlinewidth": 0,
              "ticks": ""
             }
            },
            "type": "histogram"
           }
          ],
          "histogram2d": [
           {
            "colorbar": {
             "outlinewidth": 0,
             "ticks": ""
            },
            "colorscale": [
             [
              0,
              "#0d0887"
             ],
             [
              0.1111111111111111,
              "#46039f"
             ],
             [
              0.2222222222222222,
              "#7201a8"
             ],
             [
              0.3333333333333333,
              "#9c179e"
             ],
             [
              0.4444444444444444,
              "#bd3786"
             ],
             [
              0.5555555555555556,
              "#d8576b"
             ],
             [
              0.6666666666666666,
              "#ed7953"
             ],
             [
              0.7777777777777778,
              "#fb9f3a"
             ],
             [
              0.8888888888888888,
              "#fdca26"
             ],
             [
              1,
              "#f0f921"
             ]
            ],
            "type": "histogram2d"
           }
          ],
          "histogram2dcontour": [
           {
            "colorbar": {
             "outlinewidth": 0,
             "ticks": ""
            },
            "colorscale": [
             [
              0,
              "#0d0887"
             ],
             [
              0.1111111111111111,
              "#46039f"
             ],
             [
              0.2222222222222222,
              "#7201a8"
             ],
             [
              0.3333333333333333,
              "#9c179e"
             ],
             [
              0.4444444444444444,
              "#bd3786"
             ],
             [
              0.5555555555555556,
              "#d8576b"
             ],
             [
              0.6666666666666666,
              "#ed7953"
             ],
             [
              0.7777777777777778,
              "#fb9f3a"
             ],
             [
              0.8888888888888888,
              "#fdca26"
             ],
             [
              1,
              "#f0f921"
             ]
            ],
            "type": "histogram2dcontour"
           }
          ],
          "mesh3d": [
           {
            "colorbar": {
             "outlinewidth": 0,
             "ticks": ""
            },
            "type": "mesh3d"
           }
          ],
          "parcoords": [
           {
            "line": {
             "colorbar": {
              "outlinewidth": 0,
              "ticks": ""
             }
            },
            "type": "parcoords"
           }
          ],
          "pie": [
           {
            "automargin": true,
            "type": "pie"
           }
          ],
          "scatter": [
           {
            "marker": {
             "colorbar": {
              "outlinewidth": 0,
              "ticks": ""
             }
            },
            "type": "scatter"
           }
          ],
          "scatter3d": [
           {
            "line": {
             "colorbar": {
              "outlinewidth": 0,
              "ticks": ""
             }
            },
            "marker": {
             "colorbar": {
              "outlinewidth": 0,
              "ticks": ""
             }
            },
            "type": "scatter3d"
           }
          ],
          "scattercarpet": [
           {
            "marker": {
             "colorbar": {
              "outlinewidth": 0,
              "ticks": ""
             }
            },
            "type": "scattercarpet"
           }
          ],
          "scattergeo": [
           {
            "marker": {
             "colorbar": {
              "outlinewidth": 0,
              "ticks": ""
             }
            },
            "type": "scattergeo"
           }
          ],
          "scattergl": [
           {
            "marker": {
             "colorbar": {
              "outlinewidth": 0,
              "ticks": ""
             }
            },
            "type": "scattergl"
           }
          ],
          "scattermapbox": [
           {
            "marker": {
             "colorbar": {
              "outlinewidth": 0,
              "ticks": ""
             }
            },
            "type": "scattermapbox"
           }
          ],
          "scatterpolar": [
           {
            "marker": {
             "colorbar": {
              "outlinewidth": 0,
              "ticks": ""
             }
            },
            "type": "scatterpolar"
           }
          ],
          "scatterpolargl": [
           {
            "marker": {
             "colorbar": {
              "outlinewidth": 0,
              "ticks": ""
             }
            },
            "type": "scatterpolargl"
           }
          ],
          "scatterternary": [
           {
            "marker": {
             "colorbar": {
              "outlinewidth": 0,
              "ticks": ""
             }
            },
            "type": "scatterternary"
           }
          ],
          "surface": [
           {
            "colorbar": {
             "outlinewidth": 0,
             "ticks": ""
            },
            "colorscale": [
             [
              0,
              "#0d0887"
             ],
             [
              0.1111111111111111,
              "#46039f"
             ],
             [
              0.2222222222222222,
              "#7201a8"
             ],
             [
              0.3333333333333333,
              "#9c179e"
             ],
             [
              0.4444444444444444,
              "#bd3786"
             ],
             [
              0.5555555555555556,
              "#d8576b"
             ],
             [
              0.6666666666666666,
              "#ed7953"
             ],
             [
              0.7777777777777778,
              "#fb9f3a"
             ],
             [
              0.8888888888888888,
              "#fdca26"
             ],
             [
              1,
              "#f0f921"
             ]
            ],
            "type": "surface"
           }
          ],
          "table": [
           {
            "cells": {
             "fill": {
              "color": "#EBF0F8"
             },
             "line": {
              "color": "white"
             }
            },
            "header": {
             "fill": {
              "color": "#C8D4E3"
             },
             "line": {
              "color": "white"
             }
            },
            "type": "table"
           }
          ]
         },
         "layout": {
          "annotationdefaults": {
           "arrowcolor": "#2a3f5f",
           "arrowhead": 0,
           "arrowwidth": 1
          },
          "coloraxis": {
           "colorbar": {
            "outlinewidth": 0,
            "ticks": ""
           }
          },
          "colorscale": {
           "diverging": [
            [
             0,
             "#8e0152"
            ],
            [
             0.1,
             "#c51b7d"
            ],
            [
             0.2,
             "#de77ae"
            ],
            [
             0.3,
             "#f1b6da"
            ],
            [
             0.4,
             "#fde0ef"
            ],
            [
             0.5,
             "#f7f7f7"
            ],
            [
             0.6,
             "#e6f5d0"
            ],
            [
             0.7,
             "#b8e186"
            ],
            [
             0.8,
             "#7fbc41"
            ],
            [
             0.9,
             "#4d9221"
            ],
            [
             1,
             "#276419"
            ]
           ],
           "sequential": [
            [
             0,
             "#0d0887"
            ],
            [
             0.1111111111111111,
             "#46039f"
            ],
            [
             0.2222222222222222,
             "#7201a8"
            ],
            [
             0.3333333333333333,
             "#9c179e"
            ],
            [
             0.4444444444444444,
             "#bd3786"
            ],
            [
             0.5555555555555556,
             "#d8576b"
            ],
            [
             0.6666666666666666,
             "#ed7953"
            ],
            [
             0.7777777777777778,
             "#fb9f3a"
            ],
            [
             0.8888888888888888,
             "#fdca26"
            ],
            [
             1,
             "#f0f921"
            ]
           ],
           "sequentialminus": [
            [
             0,
             "#0d0887"
            ],
            [
             0.1111111111111111,
             "#46039f"
            ],
            [
             0.2222222222222222,
             "#7201a8"
            ],
            [
             0.3333333333333333,
             "#9c179e"
            ],
            [
             0.4444444444444444,
             "#bd3786"
            ],
            [
             0.5555555555555556,
             "#d8576b"
            ],
            [
             0.6666666666666666,
             "#ed7953"
            ],
            [
             0.7777777777777778,
             "#fb9f3a"
            ],
            [
             0.8888888888888888,
             "#fdca26"
            ],
            [
             1,
             "#f0f921"
            ]
           ]
          },
          "colorway": [
           "#636efa",
           "#EF553B",
           "#00cc96",
           "#ab63fa",
           "#FFA15A",
           "#19d3f3",
           "#FF6692",
           "#B6E880",
           "#FF97FF",
           "#FECB52"
          ],
          "font": {
           "color": "#2a3f5f"
          },
          "geo": {
           "bgcolor": "white",
           "lakecolor": "white",
           "landcolor": "#E5ECF6",
           "showlakes": true,
           "showland": true,
           "subunitcolor": "white"
          },
          "hoverlabel": {
           "align": "left"
          },
          "hovermode": "closest",
          "mapbox": {
           "style": "light"
          },
          "paper_bgcolor": "white",
          "plot_bgcolor": "#E5ECF6",
          "polar": {
           "angularaxis": {
            "gridcolor": "white",
            "linecolor": "white",
            "ticks": ""
           },
           "bgcolor": "#E5ECF6",
           "radialaxis": {
            "gridcolor": "white",
            "linecolor": "white",
            "ticks": ""
           }
          },
          "scene": {
           "xaxis": {
            "backgroundcolor": "#E5ECF6",
            "gridcolor": "white",
            "gridwidth": 2,
            "linecolor": "white",
            "showbackground": true,
            "ticks": "",
            "zerolinecolor": "white"
           },
           "yaxis": {
            "backgroundcolor": "#E5ECF6",
            "gridcolor": "white",
            "gridwidth": 2,
            "linecolor": "white",
            "showbackground": true,
            "ticks": "",
            "zerolinecolor": "white"
           },
           "zaxis": {
            "backgroundcolor": "#E5ECF6",
            "gridcolor": "white",
            "gridwidth": 2,
            "linecolor": "white",
            "showbackground": true,
            "ticks": "",
            "zerolinecolor": "white"
           }
          },
          "shapedefaults": {
           "line": {
            "color": "#2a3f5f"
           }
          },
          "ternary": {
           "aaxis": {
            "gridcolor": "white",
            "linecolor": "white",
            "ticks": ""
           },
           "baxis": {
            "gridcolor": "white",
            "linecolor": "white",
            "ticks": ""
           },
           "bgcolor": "#E5ECF6",
           "caxis": {
            "gridcolor": "white",
            "linecolor": "white",
            "ticks": ""
           }
          },
          "title": {
           "x": 0.05
          },
          "xaxis": {
           "automargin": true,
           "gridcolor": "white",
           "linecolor": "white",
           "ticks": "",
           "title": {
            "standoff": 15
           },
           "zerolinecolor": "white",
           "zerolinewidth": 2
          },
          "yaxis": {
           "automargin": true,
           "gridcolor": "white",
           "linecolor": "white",
           "ticks": "",
           "title": {
            "standoff": 15
           },
           "zerolinecolor": "white",
           "zerolinewidth": 2
          }
         }
        },
        "title": {
         "text": "Coronavirus Tests/1M Pop, by Country"
        }
       }
      },
      "text/html": [
       "<div>\n",
       "        \n",
       "        \n",
       "            <div id=\"a7f6b500-affe-485d-87d9-1192853f46a5\" class=\"plotly-graph-div\" style=\"height:525px; width:100%;\"></div>\n",
       "            <script type=\"text/javascript\">\n",
       "                require([\"plotly\"], function(Plotly) {\n",
       "                    window.PLOTLYENV=window.PLOTLYENV || {};\n",
       "                    \n",
       "                if (document.getElementById(\"a7f6b500-affe-485d-87d9-1192853f46a5\")) {\n",
       "                    Plotly.newPlot(\n",
       "                        'a7f6b500-affe-485d-87d9-1192853f46a5',\n",
       "                        [{\"coloraxis\": \"coloraxis\", \"geo\": \"geo\", \"hovertemplate\": \"<b>%{hovertext}</b><br><br>country=%{location}<br>tests_per_mil=%{z}<extra></extra>\", \"hovertext\": [\"USA\", \"Brazil\", \"Russia\", \"India\", \"UK\", \"Spain\", \"Peru\", \"Chile\", \"Italy\", \"Iran\", \"Mexico\", \"Pakistan\", \"Turkey\", \"Saudi Arabia\", \"Germany\", \"France\", \"South Africa\", \"Bangladesh\", \"Canada\", \"Colombia\", \"Qatar\", \"China\", \"Egypt\", \"Sweden\", \"Argentina\", \"Belarus\", \"Belgium\", \"Indonesia\", \"Ecuador\", \"Iraq\", \"Netherlands\", \"UAE\", \"Kuwait\", \"Ukraine\", \"Singapore\", \"Portugal\", \"Kazakhstan\", \"Oman\", \"Philippines\", \"Poland\", \"Panama\", \"Bolivia\", \"Dominican Republic\", \"Afghanistan\", \"Switzerland\", \"Romania\", \"Bahrain\", \"Armenia\", \"Nigeria\", \"Israel\", \"Ireland\", \"Honduras\", \"Guatemala\", \"Japan\", \"Azerbaijan\", \"Ghana\", \"Austria\", \"Moldova\", \"Serbia\", \"Nepal\", \"Morocco\", \"S. Korea\", \"Denmark\", \"Czechia\", \"Ivory Coast\", \"Uzbekistan\", \"Norway\", \"Malaysia\", \"Australia\", \"Finland\", \"Senegal\", \"El Salvador\", \"Kenya\", \"North Macedonia\", \"Kyrgyzstan\", \"Venezuela\", \"Haiti\", \"Ethiopia\", \"Gabon\", \"Guinea\", \"Bulgaria\", \"Bosnia and Herzegovina\", \"Djibouti\", \"Mauritania\", \"French Guiana\", \"Luxembourg\", \"Hungary\", \"CAR\", \"Costa Rica\", \"Greece\", \"Thailand\", \"Palestine\", \"Croatia\", \"Albania\", \"Mayotte\", \"Madagascar\", \"Maldives\", \"Cuba\", \"Mali\", \"Paraguay\", \"Sri Lanka\", \"South Sudan\", \"Equatorial Guinea\", \"Estonia\", \"Iceland\", \"Lithuania\", \"Lebanon\", \"Slovakia\", \"Slovenia\", \"Zambia\", \"New Zealand\", \"Malawi\", \"Cabo Verde\", \"Hong Kong\", \"Benin\", \"Tunisia\", \"Jordan\", \"Latvia\", \"Niger\", \"Rwanda\", \"Cyprus\", \"Uruguay\", \"Georgia\", \"Mozambique\", \"Uganda\", \"Libya\", \"Eswatini\", \"Andorra\", \"Sao Tome and Principe\", \"Jamaica\", \"San Marino\", \"Malta\", \"Togo\", \"Montenegro\", \"Zimbabwe\", \"Channel Islands\", \"Suriname\", \"R\\u00e9union\", \"Taiwan\", \"Vietnam\", \"Mauritius\", \"Isle of Man\", \"Myanmar\", \"Namibia\", \"Angola\", \"Guyana\", \"Botswana\", \"Mongolia\", \"Cayman Islands\", \"Faeroe Islands\", \"Guadeloupe\", \"Gibraltar\", \"Burundi\", \"Bermuda\", \"Brunei\", \"Cambodia\", \"Trinidad and Tobago\", \"Monaco\", \"Bahamas\", \"Aruba\", \"Barbados\", \"Liechtenstein\", \"Sint Maarten\", \"Bhutan\", \"Antigua and Barbuda\", \"French Polynesia\", \"Gambia\", \"Saint Martin\", \"Turks and Caicos\", \"Lesotho\", \"St. Vincent Grenadines\", \"Belize\", \"Timor-Leste\", \"Cura\\u00e7ao\", \"Grenada\", \"New Caledonia\", \"Laos\", \"Saint Lucia\", \"Dominica\", \"Fiji\", \"Saint Kitts and Nevis\", \"Falkland Islands\", \"Greenland\", \"Montserrat\", \"Papua New Guinea\", \"British Virgin Islands\", \"Caribbean Netherlands\", \"St. Barth\", \"Anguilla\"], \"locationmode\": \"country names\", \"locations\": [\"USA\", \"Brazil\", \"Russia\", \"India\", \"UK\", \"Spain\", \"Peru\", \"Chile\", \"Italy\", \"Iran\", \"Mexico\", \"Pakistan\", \"Turkey\", \"Saudi Arabia\", \"Germany\", \"France\", \"South Africa\", \"Bangladesh\", \"Canada\", \"Colombia\", \"Qatar\", \"China\", \"Egypt\", \"Sweden\", \"Argentina\", \"Belarus\", \"Belgium\", \"Indonesia\", \"Ecuador\", \"Iraq\", \"Netherlands\", \"UAE\", \"Kuwait\", \"Ukraine\", \"Singapore\", \"Portugal\", \"Kazakhstan\", \"Oman\", \"Philippines\", \"Poland\", \"Panama\", \"Bolivia\", \"Dominican Republic\", \"Afghanistan\", \"Switzerland\", \"Romania\", \"Bahrain\", \"Armenia\", \"Nigeria\", \"Israel\", \"Ireland\", \"Honduras\", \"Guatemala\", \"Japan\", \"Azerbaijan\", \"Ghana\", \"Austria\", \"Moldova\", \"Serbia\", \"Nepal\", \"Morocco\", \"S. Korea\", \"Denmark\", \"Czechia\", \"Ivory Coast\", \"Uzbekistan\", \"Norway\", \"Malaysia\", \"Australia\", \"Finland\", \"Senegal\", \"El Salvador\", \"Kenya\", \"North Macedonia\", \"Kyrgyzstan\", \"Venezuela\", \"Haiti\", \"Ethiopia\", \"Gabon\", \"Guinea\", \"Bulgaria\", \"Bosnia and Herzegovina\", \"Djibouti\", \"Mauritania\", \"French Guiana\", \"Luxembourg\", \"Hungary\", \"CAR\", \"Costa Rica\", \"Greece\", \"Thailand\", \"Palestine\", \"Croatia\", \"Albania\", \"Mayotte\", \"Madagascar\", \"Maldives\", \"Cuba\", \"Mali\", \"Paraguay\", \"Sri Lanka\", \"South Sudan\", \"Equatorial Guinea\", \"Estonia\", \"Iceland\", \"Lithuania\", \"Lebanon\", \"Slovakia\", \"Slovenia\", \"Zambia\", \"New Zealand\", \"Malawi\", \"Cabo Verde\", \"Hong Kong\", \"Benin\", \"Tunisia\", \"Jordan\", \"Latvia\", \"Niger\", \"Rwanda\", \"Cyprus\", \"Uruguay\", \"Georgia\", \"Mozambique\", \"Uganda\", \"Libya\", \"Eswatini\", \"Andorra\", \"Sao Tome and Principe\", \"Jamaica\", \"San Marino\", \"Malta\", \"Togo\", \"Montenegro\", \"Zimbabwe\", \"Channel Islands\", \"Suriname\", \"R\\u00e9union\", \"Taiwan\", \"Vietnam\", \"Mauritius\", \"Isle of Man\", \"Myanmar\", \"Namibia\", \"Angola\", \"Guyana\", \"Botswana\", \"Mongolia\", \"Cayman Islands\", \"Faeroe Islands\", \"Guadeloupe\", \"Gibraltar\", \"Burundi\", \"Bermuda\", \"Brunei\", \"Cambodia\", \"Trinidad and Tobago\", \"Monaco\", \"Bahamas\", \"Aruba\", \"Barbados\", \"Liechtenstein\", \"Sint Maarten\", \"Bhutan\", \"Antigua and Barbuda\", \"French Polynesia\", \"Gambia\", \"Saint Martin\", \"Turks and Caicos\", \"Lesotho\", \"St. Vincent Grenadines\", \"Belize\", \"Timor-Leste\", \"Cura\\u00e7ao\", \"Grenada\", \"New Caledonia\", \"Laos\", \"Saint Lucia\", \"Dominica\", \"Fiji\", \"Saint Kitts and Nevis\", \"Falkland Islands\", \"Greenland\", \"Montserrat\", \"Papua New Guinea\", \"British Virgin Islands\", \"Caribbean Netherlands\", \"St. Barth\", \"Anguilla\"], \"name\": \"\", \"type\": \"choropleth\", \"z\": [106222.0, 15184.0, 138205.0, 6562.0, 142325.0, 116544.0, 51541.0, 59164.0, 90946.0, 20472.0, 4622.0, 6011.0, 41306.0, 49629.0, 70103.0, 21213.0, 28106.0, 4892.0, 73396.0, 15305.0, 130385.0, 62814.0, 1319.0, 51400.0, 8233.0, 108828.0, 107970.0, 3104.0, 8631.0, 14116.0, 35972.0, 353881.0, 92578.0, 15487.0, 129520.0, 118236.0, 81836.0, 38975.0, 6888.0, 41475.0, 30930.0, 6632.0, 14208.0, 1889.0, 69223.0, 38220.0, 331820.0, 39067.0, 672.0, 111366.0, 88711.0, 4978.0, 1754.0, 3696.0, 47555.0, 9672.0, 69805.0, 25082.0, 47943.0, 18342.0, 19394.0, 25277.0, 187972.0, 51917.0, 2191.0, 33501.0, 62505.0, 24181.0, 100438.0, 44922.0, 4885.0, 25837.0, 3275.0, 30423.0, 34074.0, 44669.0, 1074.0, 2180.0, 17387.0, 1097.0, 20779.0, 29227.0, 47348.0, 2978.0, 29157.0, 317832.0, 28953.0, 5044.0, 7558.0, 30743.0, 8648.0, 16590.0, 19838.0, 8422.0, 32262.0, 823.0, 97985.0, 15279.0, 633.0, 9911.0, 4908.0, 967.0, 11409.0, 81527.0, 218094.0, 158885.0, 20238.0, 39109.0, 50167.0, 3092.0, 81032.0, 768.0, 70608.0, 42883.0, 4671.0, 5975.0, 39295.0, 81917.0, 270.0, 11421.0, 128733.0, 19441.0, 28369.0, 990.0, 4305.0, 3936.0, 10233.0, 48534.0, 8228.0, 8426.0, 168843.0, 220039.0, 3778.0, 21297.0, 4602.0, 123016.0, 2121.0, 39560.0, 3234.0, 2825.0, 146916.0, 76334.0, 1453.0, 3802.0, 304.0, 3349.0, 17985.0, 7089.0, 366224.0, 287451.0, 20591.0, 405657.0, 41.0, 183120.0, 68211.0, 2244.0, 3636.0, 412812.0, 6113.0, 23209.0, 27608.0, 23605.0, 11662.0, 32732.0, 8128.0, 16550.0, 1244.0, 17717.0, 17822.0, 1400.0, 7608.0, 5737.0, 1189.0, 6582.0, 48567.0, 29443.0, 2219.0, 9078.0, 8654.0, 4462.0, 8534.0, 344064.0, 67641.0, 12220.0, 799.0, 7013.0, 16169.0, 15389.0, 18130.0]}],\n",
       "                        {\"coloraxis\": {\"colorbar\": {\"title\": {\"text\": \"tests_per_mil\"}}, \"colorscale\": [[0.0, \"rgb(252, 222, 156)\"], [0.16666666666666666, \"rgb(250, 164, 118)\"], [0.3333333333333333, \"rgb(240, 116, 110)\"], [0.5, \"rgb(227, 79, 111)\"], [0.6666666666666666, \"rgb(220, 57, 119)\"], [0.8333333333333334, \"rgb(185, 37, 122)\"], [1.0, \"rgb(124, 29, 111)\"]]}, \"geo\": {\"center\": {}, \"domain\": {\"x\": [0.0, 1.0], \"y\": [0.0, 1.0]}, \"showcoastlines\": false, \"showframe\": false}, \"legend\": {\"tracegroupgap\": 0}, \"margin\": {\"t\": 60}, \"template\": {\"data\": {\"bar\": [{\"error_x\": {\"color\": \"#2a3f5f\"}, \"error_y\": {\"color\": \"#2a3f5f\"}, \"marker\": {\"line\": {\"color\": \"#E5ECF6\", \"width\": 0.5}}, \"type\": \"bar\"}], \"barpolar\": [{\"marker\": {\"line\": {\"color\": \"#E5ECF6\", \"width\": 0.5}}, \"type\": \"barpolar\"}], \"carpet\": [{\"aaxis\": {\"endlinecolor\": \"#2a3f5f\", \"gridcolor\": \"white\", \"linecolor\": \"white\", \"minorgridcolor\": \"white\", \"startlinecolor\": \"#2a3f5f\"}, \"baxis\": {\"endlinecolor\": \"#2a3f5f\", \"gridcolor\": \"white\", \"linecolor\": \"white\", \"minorgridcolor\": \"white\", \"startlinecolor\": \"#2a3f5f\"}, \"type\": \"carpet\"}], \"choropleth\": [{\"colorbar\": {\"outlinewidth\": 0, \"ticks\": \"\"}, \"type\": \"choropleth\"}], \"contour\": [{\"colorbar\": {\"outlinewidth\": 0, \"ticks\": \"\"}, \"colorscale\": [[0.0, \"#0d0887\"], [0.1111111111111111, \"#46039f\"], [0.2222222222222222, \"#7201a8\"], [0.3333333333333333, \"#9c179e\"], [0.4444444444444444, \"#bd3786\"], [0.5555555555555556, \"#d8576b\"], [0.6666666666666666, \"#ed7953\"], [0.7777777777777778, \"#fb9f3a\"], [0.8888888888888888, \"#fdca26\"], [1.0, \"#f0f921\"]], \"type\": \"contour\"}], \"contourcarpet\": [{\"colorbar\": {\"outlinewidth\": 0, \"ticks\": \"\"}, \"type\": \"contourcarpet\"}], \"heatmap\": [{\"colorbar\": {\"outlinewidth\": 0, \"ticks\": \"\"}, \"colorscale\": [[0.0, \"#0d0887\"], [0.1111111111111111, \"#46039f\"], [0.2222222222222222, \"#7201a8\"], [0.3333333333333333, \"#9c179e\"], [0.4444444444444444, \"#bd3786\"], [0.5555555555555556, \"#d8576b\"], [0.6666666666666666, \"#ed7953\"], [0.7777777777777778, \"#fb9f3a\"], [0.8888888888888888, \"#fdca26\"], [1.0, \"#f0f921\"]], \"type\": \"heatmap\"}], \"heatmapgl\": [{\"colorbar\": {\"outlinewidth\": 0, \"ticks\": \"\"}, \"colorscale\": [[0.0, \"#0d0887\"], [0.1111111111111111, \"#46039f\"], [0.2222222222222222, \"#7201a8\"], [0.3333333333333333, \"#9c179e\"], [0.4444444444444444, \"#bd3786\"], [0.5555555555555556, \"#d8576b\"], [0.6666666666666666, \"#ed7953\"], [0.7777777777777778, \"#fb9f3a\"], [0.8888888888888888, \"#fdca26\"], [1.0, \"#f0f921\"]], \"type\": \"heatmapgl\"}], \"histogram\": [{\"marker\": {\"colorbar\": {\"outlinewidth\": 0, \"ticks\": \"\"}}, \"type\": \"histogram\"}], \"histogram2d\": [{\"colorbar\": {\"outlinewidth\": 0, \"ticks\": \"\"}, \"colorscale\": [[0.0, \"#0d0887\"], [0.1111111111111111, \"#46039f\"], [0.2222222222222222, \"#7201a8\"], [0.3333333333333333, \"#9c179e\"], [0.4444444444444444, \"#bd3786\"], [0.5555555555555556, \"#d8576b\"], [0.6666666666666666, \"#ed7953\"], [0.7777777777777778, \"#fb9f3a\"], [0.8888888888888888, \"#fdca26\"], [1.0, \"#f0f921\"]], \"type\": \"histogram2d\"}], \"histogram2dcontour\": [{\"colorbar\": {\"outlinewidth\": 0, \"ticks\": \"\"}, \"colorscale\": [[0.0, \"#0d0887\"], [0.1111111111111111, \"#46039f\"], [0.2222222222222222, \"#7201a8\"], [0.3333333333333333, \"#9c179e\"], [0.4444444444444444, \"#bd3786\"], [0.5555555555555556, \"#d8576b\"], [0.6666666666666666, \"#ed7953\"], [0.7777777777777778, \"#fb9f3a\"], [0.8888888888888888, \"#fdca26\"], [1.0, \"#f0f921\"]], \"type\": \"histogram2dcontour\"}], \"mesh3d\": [{\"colorbar\": {\"outlinewidth\": 0, \"ticks\": \"\"}, \"type\": \"mesh3d\"}], \"parcoords\": [{\"line\": {\"colorbar\": {\"outlinewidth\": 0, \"ticks\": \"\"}}, \"type\": \"parcoords\"}], \"pie\": [{\"automargin\": true, \"type\": \"pie\"}], \"scatter\": [{\"marker\": {\"colorbar\": {\"outlinewidth\": 0, \"ticks\": \"\"}}, \"type\": \"scatter\"}], \"scatter3d\": [{\"line\": {\"colorbar\": {\"outlinewidth\": 0, \"ticks\": \"\"}}, \"marker\": {\"colorbar\": {\"outlinewidth\": 0, \"ticks\": \"\"}}, \"type\": \"scatter3d\"}], \"scattercarpet\": [{\"marker\": {\"colorbar\": {\"outlinewidth\": 0, \"ticks\": \"\"}}, \"type\": \"scattercarpet\"}], \"scattergeo\": [{\"marker\": {\"colorbar\": {\"outlinewidth\": 0, \"ticks\": \"\"}}, \"type\": \"scattergeo\"}], \"scattergl\": [{\"marker\": {\"colorbar\": {\"outlinewidth\": 0, \"ticks\": \"\"}}, \"type\": \"scattergl\"}], \"scattermapbox\": [{\"marker\": {\"colorbar\": {\"outlinewidth\": 0, \"ticks\": \"\"}}, \"type\": \"scattermapbox\"}], \"scatterpolar\": [{\"marker\": {\"colorbar\": {\"outlinewidth\": 0, \"ticks\": \"\"}}, \"type\": \"scatterpolar\"}], \"scatterpolargl\": [{\"marker\": {\"colorbar\": {\"outlinewidth\": 0, \"ticks\": \"\"}}, \"type\": \"scatterpolargl\"}], \"scatterternary\": [{\"marker\": {\"colorbar\": {\"outlinewidth\": 0, \"ticks\": \"\"}}, \"type\": \"scatterternary\"}], \"surface\": [{\"colorbar\": {\"outlinewidth\": 0, \"ticks\": \"\"}, \"colorscale\": [[0.0, \"#0d0887\"], [0.1111111111111111, \"#46039f\"], [0.2222222222222222, \"#7201a8\"], [0.3333333333333333, \"#9c179e\"], [0.4444444444444444, \"#bd3786\"], [0.5555555555555556, \"#d8576b\"], [0.6666666666666666, \"#ed7953\"], [0.7777777777777778, \"#fb9f3a\"], [0.8888888888888888, \"#fdca26\"], [1.0, \"#f0f921\"]], \"type\": \"surface\"}], \"table\": [{\"cells\": {\"fill\": {\"color\": \"#EBF0F8\"}, \"line\": {\"color\": \"white\"}}, \"header\": {\"fill\": {\"color\": \"#C8D4E3\"}, \"line\": {\"color\": \"white\"}}, \"type\": \"table\"}]}, \"layout\": {\"annotationdefaults\": {\"arrowcolor\": \"#2a3f5f\", \"arrowhead\": 0, \"arrowwidth\": 1}, \"coloraxis\": {\"colorbar\": {\"outlinewidth\": 0, \"ticks\": \"\"}}, \"colorscale\": {\"diverging\": [[0, \"#8e0152\"], [0.1, \"#c51b7d\"], [0.2, \"#de77ae\"], [0.3, \"#f1b6da\"], [0.4, \"#fde0ef\"], [0.5, \"#f7f7f7\"], [0.6, \"#e6f5d0\"], [0.7, \"#b8e186\"], [0.8, \"#7fbc41\"], [0.9, \"#4d9221\"], [1, \"#276419\"]], \"sequential\": [[0.0, \"#0d0887\"], [0.1111111111111111, \"#46039f\"], [0.2222222222222222, \"#7201a8\"], [0.3333333333333333, \"#9c179e\"], [0.4444444444444444, \"#bd3786\"], [0.5555555555555556, \"#d8576b\"], [0.6666666666666666, \"#ed7953\"], [0.7777777777777778, \"#fb9f3a\"], [0.8888888888888888, \"#fdca26\"], [1.0, \"#f0f921\"]], \"sequentialminus\": [[0.0, \"#0d0887\"], [0.1111111111111111, \"#46039f\"], [0.2222222222222222, \"#7201a8\"], [0.3333333333333333, \"#9c179e\"], [0.4444444444444444, \"#bd3786\"], [0.5555555555555556, \"#d8576b\"], [0.6666666666666666, \"#ed7953\"], [0.7777777777777778, \"#fb9f3a\"], [0.8888888888888888, \"#fdca26\"], [1.0, \"#f0f921\"]]}, \"colorway\": [\"#636efa\", \"#EF553B\", \"#00cc96\", \"#ab63fa\", \"#FFA15A\", \"#19d3f3\", \"#FF6692\", \"#B6E880\", \"#FF97FF\", \"#FECB52\"], \"font\": {\"color\": \"#2a3f5f\"}, \"geo\": {\"bgcolor\": \"white\", \"lakecolor\": \"white\", \"landcolor\": \"#E5ECF6\", \"showlakes\": true, \"showland\": true, \"subunitcolor\": \"white\"}, \"hoverlabel\": {\"align\": \"left\"}, \"hovermode\": \"closest\", \"mapbox\": {\"style\": \"light\"}, \"paper_bgcolor\": \"white\", \"plot_bgcolor\": \"#E5ECF6\", \"polar\": {\"angularaxis\": {\"gridcolor\": \"white\", \"linecolor\": \"white\", \"ticks\": \"\"}, \"bgcolor\": \"#E5ECF6\", \"radialaxis\": {\"gridcolor\": \"white\", \"linecolor\": \"white\", \"ticks\": \"\"}}, \"scene\": {\"xaxis\": {\"backgroundcolor\": \"#E5ECF6\", \"gridcolor\": \"white\", \"gridwidth\": 2, \"linecolor\": \"white\", \"showbackground\": true, \"ticks\": \"\", \"zerolinecolor\": \"white\"}, \"yaxis\": {\"backgroundcolor\": \"#E5ECF6\", \"gridcolor\": \"white\", \"gridwidth\": 2, \"linecolor\": \"white\", \"showbackground\": true, \"ticks\": \"\", \"zerolinecolor\": \"white\"}, \"zaxis\": {\"backgroundcolor\": \"#E5ECF6\", \"gridcolor\": \"white\", \"gridwidth\": 2, \"linecolor\": \"white\", \"showbackground\": true, \"ticks\": \"\", \"zerolinecolor\": \"white\"}}, \"shapedefaults\": {\"line\": {\"color\": \"#2a3f5f\"}}, \"ternary\": {\"aaxis\": {\"gridcolor\": \"white\", \"linecolor\": \"white\", \"ticks\": \"\"}, \"baxis\": {\"gridcolor\": \"white\", \"linecolor\": \"white\", \"ticks\": \"\"}, \"bgcolor\": \"#E5ECF6\", \"caxis\": {\"gridcolor\": \"white\", \"linecolor\": \"white\", \"ticks\": \"\"}}, \"title\": {\"x\": 0.05}, \"xaxis\": {\"automargin\": true, \"gridcolor\": \"white\", \"linecolor\": \"white\", \"ticks\": \"\", \"title\": {\"standoff\": 15}, \"zerolinecolor\": \"white\", \"zerolinewidth\": 2}, \"yaxis\": {\"automargin\": true, \"gridcolor\": \"white\", \"linecolor\": \"white\", \"ticks\": \"\", \"title\": {\"standoff\": 15}, \"zerolinecolor\": \"white\", \"zerolinewidth\": 2}}}, \"title\": {\"text\": \"Coronavirus Tests/1M Pop, by Country\"}},\n",
       "                        {\"responsive\": true}\n",
       "                    ).then(function(){\n",
       "                            \n",
       "var gd = document.getElementById('a7f6b500-affe-485d-87d9-1192853f46a5');\n",
       "var x = new MutationObserver(function (mutations, observer) {{\n",
       "        var display = window.getComputedStyle(gd).display;\n",
       "        if (!display || display === 'none') {{\n",
       "            console.log([gd, 'removed!']);\n",
       "            Plotly.purge(gd);\n",
       "            observer.disconnect();\n",
       "        }}\n",
       "}});\n",
       "\n",
       "// Listen for the removal of the full notebook cells\n",
       "var notebookContainer = gd.closest('#notebook-container');\n",
       "if (notebookContainer) {{\n",
       "    x.observe(notebookContainer, {childList: true});\n",
       "}}\n",
       "\n",
       "// Listen for the clearing of the current output cell\n",
       "var outputEl = gd.closest('.output');\n",
       "if (outputEl) {{\n",
       "    x.observe(outputEl, {childList: true});\n",
       "}}\n",
       "\n",
       "                        })\n",
       "                };\n",
       "                });\n",
       "            </script>\n",
       "        </div>"
      ]
     },
     "metadata": {},
     "output_type": "display_data"
    }
   ],
   "source": [
    "fig = px.choropleth(covid[covid['percent_positive']<1],\n",
    "    locations='country',\n",
    "    locationmode='country names',\n",
    "    color='tests_per_mil',\n",
    "    hover_name='country',\n",
    "    color_continuous_scale='sunsetdark')\n",
    "\n",
    "fig.update_layout(\n",
    "    title_text='Coronavirus Tests/1M Pop, by Country',\n",
    "    geo=dict(showframe=False,showcoastlines=False))\n",
    "\n",
    "fig.show()"
   ]
  },
  {
   "cell_type": "code",
   "execution_count": null,
   "metadata": {},
   "outputs": [],
   "source": []
  }
 ],
 "metadata": {
  "kernelspec": {
   "display_name": "Python 3",
   "language": "python",
   "name": "python3"
  },
  "language_info": {
   "codemirror_mode": {
    "name": "ipython",
    "version": 3
   },
   "file_extension": ".py",
   "mimetype": "text/x-python",
   "name": "python",
   "nbconvert_exporter": "python",
   "pygments_lexer": "ipython3",
   "version": "3.7.6"
  }
 },
 "nbformat": 4,
 "nbformat_minor": 4
}
